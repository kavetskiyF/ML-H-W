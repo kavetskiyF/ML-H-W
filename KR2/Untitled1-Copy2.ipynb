{
 "cells": [
  {
   "cell_type": "code",
   "execution_count": 7,
   "id": "0c7e93db",
   "metadata": {},
   "outputs": [],
   "source": [
    "import numpy as np\n",
    "import pandas as pd\n",
    "import re"
   ]
  },
  {
   "cell_type": "markdown",
   "id": "c7444383",
   "metadata": {},
   "source": [
    "Загрузим датафрейм"
   ]
  },
  {
   "cell_type": "code",
   "execution_count": 301,
   "id": "a63c82d6",
   "metadata": {},
   "outputs": [],
   "source": [
    "data = pd.read_csv('laptop_price.csv', sep=',', encoding='latin-1')"
   ]
  },
  {
   "cell_type": "code",
   "execution_count": 302,
   "id": "0f59fd98",
   "metadata": {},
   "outputs": [],
   "source": [
    "data.columns = data.columns.str.lower()"
   ]
  },
  {
   "cell_type": "code",
   "execution_count": 303,
   "id": "88b98b10",
   "metadata": {},
   "outputs": [
    {
     "data": {
      "text/html": [
       "<div>\n",
       "<style scoped>\n",
       "    .dataframe tbody tr th:only-of-type {\n",
       "        vertical-align: middle;\n",
       "    }\n",
       "\n",
       "    .dataframe tbody tr th {\n",
       "        vertical-align: top;\n",
       "    }\n",
       "\n",
       "    .dataframe thead th {\n",
       "        text-align: right;\n",
       "    }\n",
       "</style>\n",
       "<table border=\"1\" class=\"dataframe\">\n",
       "  <thead>\n",
       "    <tr style=\"text-align: right;\">\n",
       "      <th></th>\n",
       "      <th>laptop_id</th>\n",
       "      <th>company</th>\n",
       "      <th>product</th>\n",
       "      <th>typename</th>\n",
       "      <th>inches</th>\n",
       "      <th>screenresolution</th>\n",
       "      <th>cpu</th>\n",
       "      <th>ram</th>\n",
       "      <th>memory</th>\n",
       "      <th>gpu</th>\n",
       "      <th>opsys</th>\n",
       "      <th>weight</th>\n",
       "      <th>price_euros</th>\n",
       "    </tr>\n",
       "  </thead>\n",
       "  <tbody>\n",
       "    <tr>\n",
       "      <th>0</th>\n",
       "      <td>1</td>\n",
       "      <td>Apple</td>\n",
       "      <td>MacBook Pro</td>\n",
       "      <td>Ultrabook</td>\n",
       "      <td>13.3</td>\n",
       "      <td>IPS Panel Retina Display 2560x1600</td>\n",
       "      <td>Intel Core i5 2.3GHz</td>\n",
       "      <td>8GB</td>\n",
       "      <td>128GB SSD</td>\n",
       "      <td>Intel Iris Plus Graphics 640</td>\n",
       "      <td>macOS</td>\n",
       "      <td>1.37kg</td>\n",
       "      <td>1339.69</td>\n",
       "    </tr>\n",
       "    <tr>\n",
       "      <th>1</th>\n",
       "      <td>2</td>\n",
       "      <td>Apple</td>\n",
       "      <td>Macbook Air</td>\n",
       "      <td>Ultrabook</td>\n",
       "      <td>13.3</td>\n",
       "      <td>1440x900</td>\n",
       "      <td>Intel Core i5 1.8GHz</td>\n",
       "      <td>8GB</td>\n",
       "      <td>128GB Flash Storage</td>\n",
       "      <td>Intel HD Graphics 6000</td>\n",
       "      <td>macOS</td>\n",
       "      <td>1.34kg</td>\n",
       "      <td>898.94</td>\n",
       "    </tr>\n",
       "    <tr>\n",
       "      <th>2</th>\n",
       "      <td>3</td>\n",
       "      <td>HP</td>\n",
       "      <td>250 G6</td>\n",
       "      <td>Notebook</td>\n",
       "      <td>15.6</td>\n",
       "      <td>Full HD 1920x1080</td>\n",
       "      <td>Intel Core i5 7200U 2.5GHz</td>\n",
       "      <td>8GB</td>\n",
       "      <td>256GB SSD</td>\n",
       "      <td>Intel HD Graphics 620</td>\n",
       "      <td>No OS</td>\n",
       "      <td>1.86kg</td>\n",
       "      <td>575.00</td>\n",
       "    </tr>\n",
       "    <tr>\n",
       "      <th>3</th>\n",
       "      <td>4</td>\n",
       "      <td>Apple</td>\n",
       "      <td>MacBook Pro</td>\n",
       "      <td>Ultrabook</td>\n",
       "      <td>15.4</td>\n",
       "      <td>IPS Panel Retina Display 2880x1800</td>\n",
       "      <td>Intel Core i7 2.7GHz</td>\n",
       "      <td>16GB</td>\n",
       "      <td>512GB SSD</td>\n",
       "      <td>AMD Radeon Pro 455</td>\n",
       "      <td>macOS</td>\n",
       "      <td>1.83kg</td>\n",
       "      <td>2537.45</td>\n",
       "    </tr>\n",
       "    <tr>\n",
       "      <th>4</th>\n",
       "      <td>5</td>\n",
       "      <td>Apple</td>\n",
       "      <td>MacBook Pro</td>\n",
       "      <td>Ultrabook</td>\n",
       "      <td>13.3</td>\n",
       "      <td>IPS Panel Retina Display 2560x1600</td>\n",
       "      <td>Intel Core i5 3.1GHz</td>\n",
       "      <td>8GB</td>\n",
       "      <td>256GB SSD</td>\n",
       "      <td>Intel Iris Plus Graphics 650</td>\n",
       "      <td>macOS</td>\n",
       "      <td>1.37kg</td>\n",
       "      <td>1803.60</td>\n",
       "    </tr>\n",
       "  </tbody>\n",
       "</table>\n",
       "</div>"
      ],
      "text/plain": [
       "   laptop_id company      product   typename  inches  \\\n",
       "0          1   Apple  MacBook Pro  Ultrabook    13.3   \n",
       "1          2   Apple  Macbook Air  Ultrabook    13.3   \n",
       "2          3      HP       250 G6   Notebook    15.6   \n",
       "3          4   Apple  MacBook Pro  Ultrabook    15.4   \n",
       "4          5   Apple  MacBook Pro  Ultrabook    13.3   \n",
       "\n",
       "                     screenresolution                         cpu   ram  \\\n",
       "0  IPS Panel Retina Display 2560x1600        Intel Core i5 2.3GHz   8GB   \n",
       "1                            1440x900        Intel Core i5 1.8GHz   8GB   \n",
       "2                   Full HD 1920x1080  Intel Core i5 7200U 2.5GHz   8GB   \n",
       "3  IPS Panel Retina Display 2880x1800        Intel Core i7 2.7GHz  16GB   \n",
       "4  IPS Panel Retina Display 2560x1600        Intel Core i5 3.1GHz   8GB   \n",
       "\n",
       "                memory                           gpu  opsys  weight  \\\n",
       "0            128GB SSD  Intel Iris Plus Graphics 640  macOS  1.37kg   \n",
       "1  128GB Flash Storage        Intel HD Graphics 6000  macOS  1.34kg   \n",
       "2            256GB SSD         Intel HD Graphics 620  No OS  1.86kg   \n",
       "3            512GB SSD            AMD Radeon Pro 455  macOS  1.83kg   \n",
       "4            256GB SSD  Intel Iris Plus Graphics 650  macOS  1.37kg   \n",
       "\n",
       "   price_euros  \n",
       "0      1339.69  \n",
       "1       898.94  \n",
       "2       575.00  \n",
       "3      2537.45  \n",
       "4      1803.60  "
      ]
     },
     "execution_count": 303,
     "metadata": {},
     "output_type": "execute_result"
    }
   ],
   "source": [
    "data.head()"
   ]
  },
  {
   "cell_type": "code",
   "execution_count": 304,
   "id": "530ea59e",
   "metadata": {},
   "outputs": [
    {
     "name": "stdout",
     "output_type": "stream",
     "text": [
      "<class 'pandas.core.frame.DataFrame'>\n",
      "RangeIndex: 1303 entries, 0 to 1302\n",
      "Data columns (total 13 columns):\n",
      " #   Column            Non-Null Count  Dtype  \n",
      "---  ------            --------------  -----  \n",
      " 0   laptop_id         1303 non-null   int64  \n",
      " 1   company           1303 non-null   object \n",
      " 2   product           1303 non-null   object \n",
      " 3   typename          1303 non-null   object \n",
      " 4   inches            1303 non-null   float64\n",
      " 5   screenresolution  1303 non-null   object \n",
      " 6   cpu               1303 non-null   object \n",
      " 7   ram               1303 non-null   object \n",
      " 8   memory            1303 non-null   object \n",
      " 9   gpu               1303 non-null   object \n",
      " 10  opsys             1303 non-null   object \n",
      " 11  weight            1303 non-null   object \n",
      " 12  price_euros       1303 non-null   float64\n",
      "dtypes: float64(2), int64(1), object(10)\n",
      "memory usage: 132.5+ KB\n"
     ]
    }
   ],
   "source": [
    "data.info()"
   ]
  },
  {
   "cell_type": "code",
   "execution_count": 305,
   "id": "5cdfd9d1",
   "metadata": {},
   "outputs": [],
   "source": [
    "data = data.drop(['laptop_id', 'product'], axis=1)"
   ]
  },
  {
   "cell_type": "code",
   "execution_count": 306,
   "id": "ef4370ff",
   "metadata": {},
   "outputs": [
    {
     "data": {
      "text/html": [
       "<div>\n",
       "<style scoped>\n",
       "    .dataframe tbody tr th:only-of-type {\n",
       "        vertical-align: middle;\n",
       "    }\n",
       "\n",
       "    .dataframe tbody tr th {\n",
       "        vertical-align: top;\n",
       "    }\n",
       "\n",
       "    .dataframe thead th {\n",
       "        text-align: right;\n",
       "    }\n",
       "</style>\n",
       "<table border=\"1\" class=\"dataframe\">\n",
       "  <thead>\n",
       "    <tr style=\"text-align: right;\">\n",
       "      <th></th>\n",
       "      <th>company</th>\n",
       "      <th>typename</th>\n",
       "      <th>inches</th>\n",
       "      <th>screenresolution</th>\n",
       "      <th>cpu</th>\n",
       "      <th>ram</th>\n",
       "      <th>memory</th>\n",
       "      <th>gpu</th>\n",
       "      <th>opsys</th>\n",
       "      <th>weight</th>\n",
       "      <th>price_euros</th>\n",
       "    </tr>\n",
       "  </thead>\n",
       "  <tbody>\n",
       "    <tr>\n",
       "      <th>0</th>\n",
       "      <td>Apple</td>\n",
       "      <td>Ultrabook</td>\n",
       "      <td>13.3</td>\n",
       "      <td>IPS Panel Retina Display 2560x1600</td>\n",
       "      <td>Intel Core i5 2.3GHz</td>\n",
       "      <td>8GB</td>\n",
       "      <td>128GB SSD</td>\n",
       "      <td>Intel Iris Plus Graphics 640</td>\n",
       "      <td>macOS</td>\n",
       "      <td>1.37kg</td>\n",
       "      <td>1339.69</td>\n",
       "    </tr>\n",
       "    <tr>\n",
       "      <th>1</th>\n",
       "      <td>Apple</td>\n",
       "      <td>Ultrabook</td>\n",
       "      <td>13.3</td>\n",
       "      <td>1440x900</td>\n",
       "      <td>Intel Core i5 1.8GHz</td>\n",
       "      <td>8GB</td>\n",
       "      <td>128GB Flash Storage</td>\n",
       "      <td>Intel HD Graphics 6000</td>\n",
       "      <td>macOS</td>\n",
       "      <td>1.34kg</td>\n",
       "      <td>898.94</td>\n",
       "    </tr>\n",
       "    <tr>\n",
       "      <th>2</th>\n",
       "      <td>HP</td>\n",
       "      <td>Notebook</td>\n",
       "      <td>15.6</td>\n",
       "      <td>Full HD 1920x1080</td>\n",
       "      <td>Intel Core i5 7200U 2.5GHz</td>\n",
       "      <td>8GB</td>\n",
       "      <td>256GB SSD</td>\n",
       "      <td>Intel HD Graphics 620</td>\n",
       "      <td>No OS</td>\n",
       "      <td>1.86kg</td>\n",
       "      <td>575.00</td>\n",
       "    </tr>\n",
       "    <tr>\n",
       "      <th>3</th>\n",
       "      <td>Apple</td>\n",
       "      <td>Ultrabook</td>\n",
       "      <td>15.4</td>\n",
       "      <td>IPS Panel Retina Display 2880x1800</td>\n",
       "      <td>Intel Core i7 2.7GHz</td>\n",
       "      <td>16GB</td>\n",
       "      <td>512GB SSD</td>\n",
       "      <td>AMD Radeon Pro 455</td>\n",
       "      <td>macOS</td>\n",
       "      <td>1.83kg</td>\n",
       "      <td>2537.45</td>\n",
       "    </tr>\n",
       "    <tr>\n",
       "      <th>4</th>\n",
       "      <td>Apple</td>\n",
       "      <td>Ultrabook</td>\n",
       "      <td>13.3</td>\n",
       "      <td>IPS Panel Retina Display 2560x1600</td>\n",
       "      <td>Intel Core i5 3.1GHz</td>\n",
       "      <td>8GB</td>\n",
       "      <td>256GB SSD</td>\n",
       "      <td>Intel Iris Plus Graphics 650</td>\n",
       "      <td>macOS</td>\n",
       "      <td>1.37kg</td>\n",
       "      <td>1803.60</td>\n",
       "    </tr>\n",
       "    <tr>\n",
       "      <th>...</th>\n",
       "      <td>...</td>\n",
       "      <td>...</td>\n",
       "      <td>...</td>\n",
       "      <td>...</td>\n",
       "      <td>...</td>\n",
       "      <td>...</td>\n",
       "      <td>...</td>\n",
       "      <td>...</td>\n",
       "      <td>...</td>\n",
       "      <td>...</td>\n",
       "      <td>...</td>\n",
       "    </tr>\n",
       "    <tr>\n",
       "      <th>1298</th>\n",
       "      <td>Lenovo</td>\n",
       "      <td>2 in 1 Convertible</td>\n",
       "      <td>14.0</td>\n",
       "      <td>IPS Panel Full HD / Touchscreen 1920x1080</td>\n",
       "      <td>Intel Core i7 6500U 2.5GHz</td>\n",
       "      <td>4GB</td>\n",
       "      <td>128GB SSD</td>\n",
       "      <td>Intel HD Graphics 520</td>\n",
       "      <td>Windows 10</td>\n",
       "      <td>1.8kg</td>\n",
       "      <td>638.00</td>\n",
       "    </tr>\n",
       "    <tr>\n",
       "      <th>1299</th>\n",
       "      <td>Lenovo</td>\n",
       "      <td>2 in 1 Convertible</td>\n",
       "      <td>13.3</td>\n",
       "      <td>IPS Panel Quad HD+ / Touchscreen 3200x1800</td>\n",
       "      <td>Intel Core i7 6500U 2.5GHz</td>\n",
       "      <td>16GB</td>\n",
       "      <td>512GB SSD</td>\n",
       "      <td>Intel HD Graphics 520</td>\n",
       "      <td>Windows 10</td>\n",
       "      <td>1.3kg</td>\n",
       "      <td>1499.00</td>\n",
       "    </tr>\n",
       "    <tr>\n",
       "      <th>1300</th>\n",
       "      <td>Lenovo</td>\n",
       "      <td>Notebook</td>\n",
       "      <td>14.0</td>\n",
       "      <td>1366x768</td>\n",
       "      <td>Intel Celeron Dual Core N3050 1.6GHz</td>\n",
       "      <td>2GB</td>\n",
       "      <td>64GB Flash Storage</td>\n",
       "      <td>Intel HD Graphics</td>\n",
       "      <td>Windows 10</td>\n",
       "      <td>1.5kg</td>\n",
       "      <td>229.00</td>\n",
       "    </tr>\n",
       "    <tr>\n",
       "      <th>1301</th>\n",
       "      <td>HP</td>\n",
       "      <td>Notebook</td>\n",
       "      <td>15.6</td>\n",
       "      <td>1366x768</td>\n",
       "      <td>Intel Core i7 6500U 2.5GHz</td>\n",
       "      <td>6GB</td>\n",
       "      <td>1TB HDD</td>\n",
       "      <td>AMD Radeon R5 M330</td>\n",
       "      <td>Windows 10</td>\n",
       "      <td>2.19kg</td>\n",
       "      <td>764.00</td>\n",
       "    </tr>\n",
       "    <tr>\n",
       "      <th>1302</th>\n",
       "      <td>Asus</td>\n",
       "      <td>Notebook</td>\n",
       "      <td>15.6</td>\n",
       "      <td>1366x768</td>\n",
       "      <td>Intel Celeron Dual Core N3050 1.6GHz</td>\n",
       "      <td>4GB</td>\n",
       "      <td>500GB HDD</td>\n",
       "      <td>Intel HD Graphics</td>\n",
       "      <td>Windows 10</td>\n",
       "      <td>2.2kg</td>\n",
       "      <td>369.00</td>\n",
       "    </tr>\n",
       "  </tbody>\n",
       "</table>\n",
       "<p>1303 rows × 11 columns</p>\n",
       "</div>"
      ],
      "text/plain": [
       "     company            typename  inches  \\\n",
       "0      Apple           Ultrabook    13.3   \n",
       "1      Apple           Ultrabook    13.3   \n",
       "2         HP            Notebook    15.6   \n",
       "3      Apple           Ultrabook    15.4   \n",
       "4      Apple           Ultrabook    13.3   \n",
       "...      ...                 ...     ...   \n",
       "1298  Lenovo  2 in 1 Convertible    14.0   \n",
       "1299  Lenovo  2 in 1 Convertible    13.3   \n",
       "1300  Lenovo            Notebook    14.0   \n",
       "1301      HP            Notebook    15.6   \n",
       "1302    Asus            Notebook    15.6   \n",
       "\n",
       "                                screenresolution  \\\n",
       "0             IPS Panel Retina Display 2560x1600   \n",
       "1                                       1440x900   \n",
       "2                              Full HD 1920x1080   \n",
       "3             IPS Panel Retina Display 2880x1800   \n",
       "4             IPS Panel Retina Display 2560x1600   \n",
       "...                                          ...   \n",
       "1298   IPS Panel Full HD / Touchscreen 1920x1080   \n",
       "1299  IPS Panel Quad HD+ / Touchscreen 3200x1800   \n",
       "1300                                    1366x768   \n",
       "1301                                    1366x768   \n",
       "1302                                    1366x768   \n",
       "\n",
       "                                       cpu   ram               memory  \\\n",
       "0                     Intel Core i5 2.3GHz   8GB            128GB SSD   \n",
       "1                     Intel Core i5 1.8GHz   8GB  128GB Flash Storage   \n",
       "2               Intel Core i5 7200U 2.5GHz   8GB            256GB SSD   \n",
       "3                     Intel Core i7 2.7GHz  16GB            512GB SSD   \n",
       "4                     Intel Core i5 3.1GHz   8GB            256GB SSD   \n",
       "...                                    ...   ...                  ...   \n",
       "1298            Intel Core i7 6500U 2.5GHz   4GB            128GB SSD   \n",
       "1299            Intel Core i7 6500U 2.5GHz  16GB            512GB SSD   \n",
       "1300  Intel Celeron Dual Core N3050 1.6GHz   2GB   64GB Flash Storage   \n",
       "1301            Intel Core i7 6500U 2.5GHz   6GB              1TB HDD   \n",
       "1302  Intel Celeron Dual Core N3050 1.6GHz   4GB            500GB HDD   \n",
       "\n",
       "                               gpu       opsys  weight  price_euros  \n",
       "0     Intel Iris Plus Graphics 640       macOS  1.37kg      1339.69  \n",
       "1           Intel HD Graphics 6000       macOS  1.34kg       898.94  \n",
       "2            Intel HD Graphics 620       No OS  1.86kg       575.00  \n",
       "3               AMD Radeon Pro 455       macOS  1.83kg      2537.45  \n",
       "4     Intel Iris Plus Graphics 650       macOS  1.37kg      1803.60  \n",
       "...                            ...         ...     ...          ...  \n",
       "1298         Intel HD Graphics 520  Windows 10   1.8kg       638.00  \n",
       "1299         Intel HD Graphics 520  Windows 10   1.3kg      1499.00  \n",
       "1300             Intel HD Graphics  Windows 10   1.5kg       229.00  \n",
       "1301            AMD Radeon R5 M330  Windows 10  2.19kg       764.00  \n",
       "1302             Intel HD Graphics  Windows 10   2.2kg       369.00  \n",
       "\n",
       "[1303 rows x 11 columns]"
      ]
     },
     "execution_count": 306,
     "metadata": {},
     "output_type": "execute_result"
    }
   ],
   "source": [
    "data"
   ]
  },
  {
   "cell_type": "code",
   "execution_count": 307,
   "id": "3e086ede",
   "metadata": {},
   "outputs": [],
   "source": [
    "def calculate(string):\n",
    "    numbers = re.findall(r'\\d+', string)\n",
    "    total = 1\n",
    "    for num in numbers:\n",
    "        total *= int(num)\n",
    "    return total"
   ]
  },
  {
   "cell_type": "code",
   "execution_count": 308,
   "id": "b9c6b329",
   "metadata": {},
   "outputs": [],
   "source": [
    "data['screenresolution'] = data['screenresolution'].apply(calculate)"
   ]
  },
  {
   "cell_type": "code",
   "execution_count": 309,
   "id": "db366979",
   "metadata": {},
   "outputs": [],
   "source": [
    "data['ram'] = data['ram'].apply(calculate)"
   ]
  },
  {
   "cell_type": "code",
   "execution_count": 310,
   "id": "47c1d145",
   "metadata": {},
   "outputs": [],
   "source": [
    "data['memory'] = data['memory'].apply(calculate)"
   ]
  },
  {
   "cell_type": "code",
   "execution_count": 311,
   "id": "35a979ba",
   "metadata": {},
   "outputs": [],
   "source": [
    "data['memory'] = data['memory'].apply(lambda x: x * 1000 if x < 5 else x)"
   ]
  },
  {
   "cell_type": "code",
   "execution_count": 312,
   "id": "6984c08e",
   "metadata": {},
   "outputs": [],
   "source": [
    "def weight(string):\n",
    "    numbers = re.findall(r'\\d\\.\\d+', string)\n",
    "    total = 1\n",
    "    for num in numbers:\n",
    "        total *= float(num)\n",
    "    return total"
   ]
  },
  {
   "cell_type": "code",
   "execution_count": 313,
   "id": "e2f09981",
   "metadata": {},
   "outputs": [],
   "source": [
    "data['weight'] = data['weight'].apply(weight)"
   ]
  },
  {
   "cell_type": "code",
   "execution_count": 314,
   "id": "7f1883ff",
   "metadata": {},
   "outputs": [
    {
     "data": {
      "text/html": [
       "<div>\n",
       "<style scoped>\n",
       "    .dataframe tbody tr th:only-of-type {\n",
       "        vertical-align: middle;\n",
       "    }\n",
       "\n",
       "    .dataframe tbody tr th {\n",
       "        vertical-align: top;\n",
       "    }\n",
       "\n",
       "    .dataframe thead th {\n",
       "        text-align: right;\n",
       "    }\n",
       "</style>\n",
       "<table border=\"1\" class=\"dataframe\">\n",
       "  <thead>\n",
       "    <tr style=\"text-align: right;\">\n",
       "      <th></th>\n",
       "      <th>company</th>\n",
       "      <th>typename</th>\n",
       "      <th>inches</th>\n",
       "      <th>screenresolution</th>\n",
       "      <th>cpu</th>\n",
       "      <th>ram</th>\n",
       "      <th>memory</th>\n",
       "      <th>gpu</th>\n",
       "      <th>opsys</th>\n",
       "      <th>weight</th>\n",
       "      <th>price_euros</th>\n",
       "    </tr>\n",
       "  </thead>\n",
       "  <tbody>\n",
       "    <tr>\n",
       "      <th>0</th>\n",
       "      <td>Apple</td>\n",
       "      <td>Ultrabook</td>\n",
       "      <td>13.3</td>\n",
       "      <td>4096000</td>\n",
       "      <td>Intel Core i5 2.3GHz</td>\n",
       "      <td>8</td>\n",
       "      <td>128</td>\n",
       "      <td>Intel Iris Plus Graphics 640</td>\n",
       "      <td>macOS</td>\n",
       "      <td>1.37</td>\n",
       "      <td>1339.69</td>\n",
       "    </tr>\n",
       "    <tr>\n",
       "      <th>1</th>\n",
       "      <td>Apple</td>\n",
       "      <td>Ultrabook</td>\n",
       "      <td>13.3</td>\n",
       "      <td>1296000</td>\n",
       "      <td>Intel Core i5 1.8GHz</td>\n",
       "      <td>8</td>\n",
       "      <td>128</td>\n",
       "      <td>Intel HD Graphics 6000</td>\n",
       "      <td>macOS</td>\n",
       "      <td>1.34</td>\n",
       "      <td>898.94</td>\n",
       "    </tr>\n",
       "    <tr>\n",
       "      <th>2</th>\n",
       "      <td>HP</td>\n",
       "      <td>Notebook</td>\n",
       "      <td>15.6</td>\n",
       "      <td>2073600</td>\n",
       "      <td>Intel Core i5 7200U 2.5GHz</td>\n",
       "      <td>8</td>\n",
       "      <td>256</td>\n",
       "      <td>Intel HD Graphics 620</td>\n",
       "      <td>No OS</td>\n",
       "      <td>1.86</td>\n",
       "      <td>575.00</td>\n",
       "    </tr>\n",
       "    <tr>\n",
       "      <th>3</th>\n",
       "      <td>Apple</td>\n",
       "      <td>Ultrabook</td>\n",
       "      <td>15.4</td>\n",
       "      <td>5184000</td>\n",
       "      <td>Intel Core i7 2.7GHz</td>\n",
       "      <td>16</td>\n",
       "      <td>512</td>\n",
       "      <td>AMD Radeon Pro 455</td>\n",
       "      <td>macOS</td>\n",
       "      <td>1.83</td>\n",
       "      <td>2537.45</td>\n",
       "    </tr>\n",
       "    <tr>\n",
       "      <th>4</th>\n",
       "      <td>Apple</td>\n",
       "      <td>Ultrabook</td>\n",
       "      <td>13.3</td>\n",
       "      <td>4096000</td>\n",
       "      <td>Intel Core i5 3.1GHz</td>\n",
       "      <td>8</td>\n",
       "      <td>256</td>\n",
       "      <td>Intel Iris Plus Graphics 650</td>\n",
       "      <td>macOS</td>\n",
       "      <td>1.37</td>\n",
       "      <td>1803.60</td>\n",
       "    </tr>\n",
       "  </tbody>\n",
       "</table>\n",
       "</div>"
      ],
      "text/plain": [
       "  company   typename  inches  screenresolution                         cpu  \\\n",
       "0   Apple  Ultrabook    13.3           4096000        Intel Core i5 2.3GHz   \n",
       "1   Apple  Ultrabook    13.3           1296000        Intel Core i5 1.8GHz   \n",
       "2      HP   Notebook    15.6           2073600  Intel Core i5 7200U 2.5GHz   \n",
       "3   Apple  Ultrabook    15.4           5184000        Intel Core i7 2.7GHz   \n",
       "4   Apple  Ultrabook    13.3           4096000        Intel Core i5 3.1GHz   \n",
       "\n",
       "   ram  memory                           gpu  opsys  weight  price_euros  \n",
       "0    8     128  Intel Iris Plus Graphics 640  macOS    1.37      1339.69  \n",
       "1    8     128        Intel HD Graphics 6000  macOS    1.34       898.94  \n",
       "2    8     256         Intel HD Graphics 620  No OS    1.86       575.00  \n",
       "3   16     512            AMD Radeon Pro 455  macOS    1.83      2537.45  \n",
       "4    8     256  Intel Iris Plus Graphics 650  macOS    1.37      1803.60  "
      ]
     },
     "execution_count": 314,
     "metadata": {},
     "output_type": "execute_result"
    }
   ],
   "source": [
    "data.head()"
   ]
  },
  {
   "cell_type": "code",
   "execution_count": 315,
   "id": "e0f216c3",
   "metadata": {},
   "outputs": [],
   "source": [
    "def ejection (col):\n",
    "    q75 = np.percentile(data[col], 75)\n",
    "    q25 = np.percentile(data[col], 25)\n",
    "    iqr = q75-q25\n",
    "    ejection_h = q75 + iqr * 1.5\n",
    "    ejection_l = q25 - iqr * 1.5\n",
    "    ejection_count = data[col][(data[col] > ejection_h) | (data[col] < ejection_l)].count()\n",
    "    ejection_perc = (ejection_count / len(data)) *100\n",
    "    return(ejection_h, ejection_l, ejection_count, ejection_perc)"
   ]
  },
  {
   "cell_type": "code",
   "execution_count": 316,
   "id": "7dbd969b",
   "metadata": {},
   "outputs": [
    {
     "data": {
      "text/plain": [
       "(2821.2000000000003, -734.3200000000002, 29, 2.225633154259401)"
      ]
     },
     "execution_count": 316,
     "metadata": {},
     "output_type": "execute_result"
    }
   ],
   "source": [
    "ejection('price_euros')"
   ]
  },
  {
   "cell_type": "code",
   "execution_count": 317,
   "id": "9cb9bd3e",
   "metadata": {},
   "outputs": [],
   "source": [
    "good_data = data[(data['price_euros'] < ejection('price_euros')[0]) & (data['price_euros'] > ejection('price_euros')[1])]"
   ]
  },
  {
   "cell_type": "code",
   "execution_count": 318,
   "id": "523268cd",
   "metadata": {},
   "outputs": [],
   "source": [
    "good_data = good_data.reset_index(drop=True)"
   ]
  },
  {
   "cell_type": "code",
   "execution_count": 319,
   "id": "e961b7de",
   "metadata": {},
   "outputs": [
    {
     "data": {
      "text/html": [
       "<div>\n",
       "<style scoped>\n",
       "    .dataframe tbody tr th:only-of-type {\n",
       "        vertical-align: middle;\n",
       "    }\n",
       "\n",
       "    .dataframe tbody tr th {\n",
       "        vertical-align: top;\n",
       "    }\n",
       "\n",
       "    .dataframe thead th {\n",
       "        text-align: right;\n",
       "    }\n",
       "</style>\n",
       "<table border=\"1\" class=\"dataframe\">\n",
       "  <thead>\n",
       "    <tr style=\"text-align: right;\">\n",
       "      <th></th>\n",
       "      <th>company</th>\n",
       "      <th>typename</th>\n",
       "      <th>inches</th>\n",
       "      <th>screenresolution</th>\n",
       "      <th>cpu</th>\n",
       "      <th>ram</th>\n",
       "      <th>memory</th>\n",
       "      <th>gpu</th>\n",
       "      <th>opsys</th>\n",
       "      <th>weight</th>\n",
       "      <th>price_euros</th>\n",
       "    </tr>\n",
       "  </thead>\n",
       "  <tbody>\n",
       "    <tr>\n",
       "      <th>0</th>\n",
       "      <td>Apple</td>\n",
       "      <td>Ultrabook</td>\n",
       "      <td>13.3</td>\n",
       "      <td>4096000</td>\n",
       "      <td>Intel Core i5 2.3GHz</td>\n",
       "      <td>8</td>\n",
       "      <td>128</td>\n",
       "      <td>Intel Iris Plus Graphics 640</td>\n",
       "      <td>macOS</td>\n",
       "      <td>1.37</td>\n",
       "      <td>1339.69</td>\n",
       "    </tr>\n",
       "    <tr>\n",
       "      <th>1</th>\n",
       "      <td>Apple</td>\n",
       "      <td>Ultrabook</td>\n",
       "      <td>13.3</td>\n",
       "      <td>1296000</td>\n",
       "      <td>Intel Core i5 1.8GHz</td>\n",
       "      <td>8</td>\n",
       "      <td>128</td>\n",
       "      <td>Intel HD Graphics 6000</td>\n",
       "      <td>macOS</td>\n",
       "      <td>1.34</td>\n",
       "      <td>898.94</td>\n",
       "    </tr>\n",
       "    <tr>\n",
       "      <th>2</th>\n",
       "      <td>HP</td>\n",
       "      <td>Notebook</td>\n",
       "      <td>15.6</td>\n",
       "      <td>2073600</td>\n",
       "      <td>Intel Core i5 7200U 2.5GHz</td>\n",
       "      <td>8</td>\n",
       "      <td>256</td>\n",
       "      <td>Intel HD Graphics 620</td>\n",
       "      <td>No OS</td>\n",
       "      <td>1.86</td>\n",
       "      <td>575.00</td>\n",
       "    </tr>\n",
       "    <tr>\n",
       "      <th>3</th>\n",
       "      <td>Apple</td>\n",
       "      <td>Ultrabook</td>\n",
       "      <td>15.4</td>\n",
       "      <td>5184000</td>\n",
       "      <td>Intel Core i7 2.7GHz</td>\n",
       "      <td>16</td>\n",
       "      <td>512</td>\n",
       "      <td>AMD Radeon Pro 455</td>\n",
       "      <td>macOS</td>\n",
       "      <td>1.83</td>\n",
       "      <td>2537.45</td>\n",
       "    </tr>\n",
       "    <tr>\n",
       "      <th>4</th>\n",
       "      <td>Apple</td>\n",
       "      <td>Ultrabook</td>\n",
       "      <td>13.3</td>\n",
       "      <td>4096000</td>\n",
       "      <td>Intel Core i5 3.1GHz</td>\n",
       "      <td>8</td>\n",
       "      <td>256</td>\n",
       "      <td>Intel Iris Plus Graphics 650</td>\n",
       "      <td>macOS</td>\n",
       "      <td>1.37</td>\n",
       "      <td>1803.60</td>\n",
       "    </tr>\n",
       "  </tbody>\n",
       "</table>\n",
       "</div>"
      ],
      "text/plain": [
       "  company   typename  inches  screenresolution                         cpu  \\\n",
       "0   Apple  Ultrabook    13.3           4096000        Intel Core i5 2.3GHz   \n",
       "1   Apple  Ultrabook    13.3           1296000        Intel Core i5 1.8GHz   \n",
       "2      HP   Notebook    15.6           2073600  Intel Core i5 7200U 2.5GHz   \n",
       "3   Apple  Ultrabook    15.4           5184000        Intel Core i7 2.7GHz   \n",
       "4   Apple  Ultrabook    13.3           4096000        Intel Core i5 3.1GHz   \n",
       "\n",
       "   ram  memory                           gpu  opsys  weight  price_euros  \n",
       "0    8     128  Intel Iris Plus Graphics 640  macOS    1.37      1339.69  \n",
       "1    8     128        Intel HD Graphics 6000  macOS    1.34       898.94  \n",
       "2    8     256         Intel HD Graphics 620  No OS    1.86       575.00  \n",
       "3   16     512            AMD Radeon Pro 455  macOS    1.83      2537.45  \n",
       "4    8     256  Intel Iris Plus Graphics 650  macOS    1.37      1803.60  "
      ]
     },
     "execution_count": 319,
     "metadata": {},
     "output_type": "execute_result"
    }
   ],
   "source": [
    "good_data.head()"
   ]
  },
  {
   "cell_type": "code",
   "execution_count": 320,
   "id": "c993fa1f",
   "metadata": {},
   "outputs": [],
   "source": [
    "from sklearn.model_selection import train_test_split\n",
    "from sklearn.linear_model import LinearRegression\n",
    "from sklearn.metrics import r2_score\n",
    "\n",
    "X_train, X_test, y_train, y_test = train_test_split(good_data.drop('price_euros', axis=1), good_data['price_euros'], test_size=0.3, random_state=42)"
   ]
  },
  {
   "cell_type": "code",
   "execution_count": 321,
   "id": "8bbc2322",
   "metadata": {},
   "outputs": [],
   "source": [
    "categorical_columns_train = X_train.select_dtypes(include=[object]).reset_index(drop=True)"
   ]
  },
  {
   "cell_type": "code",
   "execution_count": 322,
   "id": "dd799e06",
   "metadata": {},
   "outputs": [],
   "source": [
    "categorical_columns_test = X_test.select_dtypes(include=[object]).reset_index(drop=True)"
   ]
  },
  {
   "cell_type": "code",
   "execution_count": 323,
   "id": "32c53320",
   "metadata": {},
   "outputs": [],
   "source": [
    "from category_encoders import CountEncoder\n",
    "count_encoder = CountEncoder(handle_unknown=0, handle_missing='count', normalize=True)\n",
    "X_train_countenc = count_encoder.fit_transform(categorical_columns_train,normalize=True)\n",
    "X_test_countenc = count_encoder.transform(categorical_columns_test)"
   ]
  },
  {
   "cell_type": "code",
   "execution_count": 324,
   "id": "e85729f8",
   "metadata": {},
   "outputs": [],
   "source": [
    "numeric_columns_train = X_train.select_dtypes(include=[int, float]).reset_index(drop=True)"
   ]
  },
  {
   "cell_type": "code",
   "execution_count": 325,
   "id": "5f742706",
   "metadata": {},
   "outputs": [],
   "source": [
    "numeric_columns_test = X_test.select_dtypes(include=[int, float]).reset_index(drop=True)"
   ]
  },
  {
   "cell_type": "code",
   "execution_count": 326,
   "id": "3cdde6cb",
   "metadata": {},
   "outputs": [],
   "source": [
    "from sklearn.preprocessing import PolynomialFeatures\n",
    "poly = PolynomialFeatures(3)\n",
    "numeric_columns_train_poly = poly.fit_transform(numeric_columns_train)\n",
    "numeric_columns_test_poly = poly.fit_transform(numeric_columns_test)"
   ]
  },
  {
   "cell_type": "code",
   "execution_count": 327,
   "id": "ecdaaf60",
   "metadata": {},
   "outputs": [],
   "source": [
    "from sklearn.preprocessing import MinMaxScaler\n",
    "scaler = MinMaxScaler()\n",
    "numeric_columns_norm_train = scaler.fit_transform(numeric_columns_train_poly)\n",
    "numeric_columns_norm_train = pd.DataFrame(numeric_columns_norm_train)\n",
    "numeric_columns_norm_test = scaler.transform(numeric_columns_test_poly)\n",
    "numeric_columns_norm_test = pd.DataFrame(numeric_columns_norm_test)"
   ]
  },
  {
   "cell_type": "code",
   "execution_count": 328,
   "id": "cc279166",
   "metadata": {},
   "outputs": [],
   "source": [
    "features_train = pd.concat([pd.DataFrame(numeric_columns_norm_train), X_train_countenc], axis=1)"
   ]
  },
  {
   "cell_type": "code",
   "execution_count": 329,
   "id": "3c95ca5e",
   "metadata": {},
   "outputs": [],
   "source": [
    "features_train.columns = features_train.columns.map(str)"
   ]
  },
  {
   "cell_type": "code",
   "execution_count": 330,
   "id": "0397d096",
   "metadata": {},
   "outputs": [],
   "source": [
    "features_test = pd.concat([pd.DataFrame(numeric_columns_norm_test), X_test_countenc], axis=1)"
   ]
  },
  {
   "cell_type": "code",
   "execution_count": 331,
   "id": "3c53c1d9",
   "metadata": {},
   "outputs": [],
   "source": [
    "features_test.columns = features_test.columns.map(str)"
   ]
  },
  {
   "cell_type": "code",
   "execution_count": 332,
   "id": "20ec93c9",
   "metadata": {},
   "outputs": [
    {
     "name": "stdout",
     "output_type": "stream",
     "text": [
      "Коэффициент детерминации (R²): -26099514.87812425\n"
     ]
    }
   ],
   "source": [
    "from sklearn.linear_model import LinearRegression\n",
    "from sklearn.metrics import r2_score\n",
    "\n",
    "model_1 = LinearRegression()\n",
    "model_1.fit(features_train, y_train)\n",
    "\n",
    "# Прогнозирование на тестовом наборе\n",
    "y_pred_1 = model_1.predict(features_test)\n",
    "\n",
    "# Вычисление коэффициента детерминации (R²)\n",
    "r_squared_1 = r2_score(y_test, y_pred_1)\n",
    "print(\"Коэффициент детерминации (R²):\", r_squared_1)"
   ]
  },
  {
   "cell_type": "code",
   "execution_count": 333,
   "id": "a209048a",
   "metadata": {},
   "outputs": [],
   "source": [
    "from sklearn.feature_selection import f_regression\n",
    "f_statistics_1, p_value_1 = f_regression(features_train, y_train)"
   ]
  },
  {
   "cell_type": "code",
   "execution_count": 334,
   "id": "a72ce5f6",
   "metadata": {},
   "outputs": [],
   "source": [
    "ind_exclude_1 = []\n",
    "total_1 = -1\n",
    "for i in p_value_1:\n",
    "    total_1 += 1\n",
    "    if float(i) > 0.05:\n",
    "        ind_exclude_1.append(total_1)"
   ]
  },
  {
   "cell_type": "code",
   "execution_count": 335,
   "id": "2eb69279",
   "metadata": {},
   "outputs": [],
   "source": [
    "features_train_1 = features_train.drop(features_train.columns[ind_exclude_1], axis=1)"
   ]
  },
  {
   "cell_type": "code",
   "execution_count": 336,
   "id": "1ee73b82",
   "metadata": {},
   "outputs": [],
   "source": [
    "features_test_1 = features_test.drop(features_test.columns[ind_exclude_1], axis=1)"
   ]
  },
  {
   "cell_type": "code",
   "execution_count": 337,
   "id": "538c42a5",
   "metadata": {},
   "outputs": [
    {
     "name": "stdout",
     "output_type": "stream",
     "text": [
      "Коэффициент детерминации (R²): -0.32982459362656713\n"
     ]
    }
   ],
   "source": [
    "model_2 = LinearRegression()\n",
    "model_2.fit(features_train_2, y_train)\n",
    "\n",
    "# Прогнозирование на тестовом наборе\n",
    "y_pred_2 = model_2.predict(features_test_2)\n",
    "\n",
    "# Вычисление коэффициента детерминации (R²)\n",
    "r_squared_2 = r2_score(y_test, y_pred_2)\n",
    "print(\"Коэффициент детерминации (R²):\", r_squared_2)"
   ]
  },
  {
   "cell_type": "code",
   "execution_count": 338,
   "id": "56c8c9f3",
   "metadata": {},
   "outputs": [],
   "source": [
    "f_statistics_2, p_value_2 = f_regression(features_train_2, y_train)"
   ]
  },
  {
   "cell_type": "code",
   "execution_count": 339,
   "id": "9d3ecbf9",
   "metadata": {},
   "outputs": [],
   "source": [
    "ind_exclude_2 = []\n",
    "total_2 = -1\n",
    "for i in p_value_2:\n",
    "    total_2 += 1\n",
    "    if float(i) > 0.05:\n",
    "        ind_exclude_2.append(total_2)"
   ]
  },
  {
   "cell_type": "code",
   "execution_count": 340,
   "id": "2fc185b8",
   "metadata": {},
   "outputs": [
    {
     "data": {
      "text/plain": [
       "[]"
      ]
     },
     "execution_count": 340,
     "metadata": {},
     "output_type": "execute_result"
    }
   ],
   "source": [
    "ind_exclude_2"
   ]
  },
  {
   "cell_type": "code",
   "execution_count": 341,
   "id": "853befb4",
   "metadata": {},
   "outputs": [],
   "source": [
    "import prince"
   ]
  },
  {
   "cell_type": "code",
   "execution_count": 354,
   "id": "03863b9f",
   "metadata": {},
   "outputs": [],
   "source": [
    "pca_train = prince.PCA(\n",
    "    n_components=4,\n",
    "    n_iter=3,\n",
    "    rescale_with_mean=True,\n",
    "    rescale_with_std=True,\n",
    "    copy=True,\n",
    "    check_input=True,\n",
    "    engine='sklearn',\n",
    "    random_state=42,\n",
    ")\n",
    "pca_train = pca_train.fit(numeric_columns_norm_train)"
   ]
  },
  {
   "cell_type": "code",
   "execution_count": 355,
   "id": "418681f9",
   "metadata": {},
   "outputs": [
    {
     "data": {
      "text/plain": [
       "<Axes: xlabel='component'>"
      ]
     },
     "execution_count": 355,
     "metadata": {},
     "output_type": "execute_result"
    },
    {
     "data": {
      "image/png": "[encoded data removed]",
      "text/plain": [
       "<Figure size 640x480 with 1 Axes>"
      ]
     },
     "metadata": {},
     "output_type": "display_data"
    }
   ],
   "source": [
    "pca_train_plot = pca_train.eigenvalues_summary\n",
    "pca_train_plot.reset_index().iloc[:,0:2].astype('float').plot('component', 'eigenvalue')"
   ]
  },
  {
   "cell_type": "code",
   "execution_count": 356,
   "id": "f21f53cf",
   "metadata": {},
   "outputs": [
    {
     "data": {
      "text/html": [
       "<div>\n",
       "<style scoped>\n",
       "    .dataframe tbody tr th:only-of-type {\n",
       "        vertical-align: middle;\n",
       "    }\n",
       "\n",
       "    .dataframe tbody tr th {\n",
       "        vertical-align: top;\n",
       "    }\n",
       "\n",
       "    .dataframe thead th {\n",
       "        text-align: right;\n",
       "    }\n",
       "</style>\n",
       "<table border=\"1\" class=\"dataframe\">\n",
       "  <thead>\n",
       "    <tr style=\"text-align: right;\">\n",
       "      <th></th>\n",
       "      <th>eigenvalue</th>\n",
       "      <th>% of variance</th>\n",
       "      <th>% of variance (cumulative)</th>\n",
       "    </tr>\n",
       "    <tr>\n",
       "      <th>component</th>\n",
       "      <th></th>\n",
       "      <th></th>\n",
       "      <th></th>\n",
       "    </tr>\n",
       "  </thead>\n",
       "  <tbody>\n",
       "    <tr>\n",
       "      <th>0</th>\n",
       "      <td>19.604</td>\n",
       "      <td>35.64%</td>\n",
       "      <td>35.64%</td>\n",
       "    </tr>\n",
       "    <tr>\n",
       "      <th>1</th>\n",
       "      <td>15.463</td>\n",
       "      <td>28.11%</td>\n",
       "      <td>63.76%</td>\n",
       "    </tr>\n",
       "    <tr>\n",
       "      <th>2</th>\n",
       "      <td>11.253</td>\n",
       "      <td>20.46%</td>\n",
       "      <td>84.22%</td>\n",
       "    </tr>\n",
       "    <tr>\n",
       "      <th>3</th>\n",
       "      <td>3.981</td>\n",
       "      <td>7.24%</td>\n",
       "      <td>91.46%</td>\n",
       "    </tr>\n",
       "  </tbody>\n",
       "</table>\n",
       "</div>"
      ],
      "text/plain": [
       "          eigenvalue % of variance % of variance (cumulative)\n",
       "component                                                    \n",
       "0             19.604        35.64%                     35.64%\n",
       "1             15.463        28.11%                     63.76%\n",
       "2             11.253        20.46%                     84.22%\n",
       "3              3.981         7.24%                     91.46%"
      ]
     },
     "execution_count": 356,
     "metadata": {},
     "output_type": "execute_result"
    }
   ],
   "source": [
    "pca_train.eigenvalues_summary"
   ]
  },
  {
   "cell_type": "code",
   "execution_count": 357,
   "id": "6b7728ae",
   "metadata": {},
   "outputs": [],
   "source": [
    "#features_train_3 = pca_train.transform(features_train_2)\n",
    "#features_test_3 = pca_train.transform(features_test_2)\n",
    "features_train_3 = pd.concat([pca_train.transform(numeric_columns_norm_train), X_train_countenc], axis=1)\n",
    "features_test_3 = pd.concat([pca_train.transform(numeric_columns_norm_test), X_test_countenc],axis=1)"
   ]
  },
  {
   "cell_type": "code",
   "execution_count": 358,
   "id": "3e94933d",
   "metadata": {},
   "outputs": [],
   "source": [
    "features_train_3.columns = features_train_3.columns.map(str)\n",
    "features_test_3.columns = features_test_3.columns.map(str)"
   ]
  },
  {
   "cell_type": "code",
   "execution_count": 359,
   "id": "81d1513f",
   "metadata": {},
   "outputs": [
    {
     "name": "stdout",
     "output_type": "stream",
     "text": [
      "Коэффициент детерминации (R²): 0.5351403699495152\n"
     ]
    }
   ],
   "source": [
    "model_3 = LinearRegression()\n",
    "model_3.fit(features_train_3, y_train)\n",
    "\n",
    "# Прогнозирование на тестовом наборе\n",
    "y_pred_3 = model_3.predict(features_test_3)\n",
    "\n",
    "# Вычисление коэффициента детерминации (R²)\n",
    "r_squared_3 = r2_score(y_test, y_pred_3)\n",
    "print(\"Коэффициент детерминации (R²):\", r_squared_3)"
   ]
  },
  {
   "cell_type": "code",
   "execution_count": 360,
   "id": "71e4e57d",
   "metadata": {},
   "outputs": [],
   "source": [
    "f_statistics_3, p_value_3 = f_regression(features_train_3, y_train)"
   ]
  },
  {
   "cell_type": "code",
   "execution_count": 361,
   "id": "515e937d",
   "metadata": {},
   "outputs": [],
   "source": [
    "ind_exclude_3 = []\n",
    "total_3 = -1\n",
    "for i in p_value_3:\n",
    "    total_3 += 1\n",
    "    if float(i) > 0.05:\n",
    "        ind_exclude_3.append(total_3)"
   ]
  },
  {
   "cell_type": "code",
   "execution_count": 362,
   "id": "46315a72",
   "metadata": {},
   "outputs": [],
   "source": [
    "features_train_4 = features_train_3.drop(features_train_3.columns[ind_exclude_3], axis=1)"
   ]
  },
  {
   "cell_type": "code",
   "execution_count": 363,
   "id": "dd4f23b8",
   "metadata": {},
   "outputs": [],
   "source": [
    "features_test_4 = features_test_3.drop(features_test_3.columns[ind_exclude_3], axis=1)"
   ]
  },
  {
   "cell_type": "code",
   "execution_count": 364,
   "id": "53a681a4",
   "metadata": {},
   "outputs": [
    {
     "data": {
      "text/plain": [
       "(383, 8)"
      ]
     },
     "execution_count": 364,
     "metadata": {},
     "output_type": "execute_result"
    }
   ],
   "source": [
    "features_test_4.shape"
   ]
  },
  {
   "cell_type": "code",
   "execution_count": 365,
   "id": "2838ad6d",
   "metadata": {},
   "outputs": [
    {
     "name": "stdout",
     "output_type": "stream",
     "text": [
      "Коэффициент детерминации (R²): 0.5397163331016523\n"
     ]
    }
   ],
   "source": [
    "model_4 = LinearRegression()\n",
    "model_4.fit(features_train_4, y_train)\n",
    "\n",
    "# Прогнозирование на тестовом наборе\n",
    "y_pred_4 = model_4.predict(features_test_4)\n",
    "\n",
    "# Вычисление коэффициента детерминации (R²)\n",
    "r_squared_4 = r2_score(y_test, y_pred_4)\n",
    "print(\"Коэффициент детерминации (R²):\", r_squared_4)"
   ]
  },
  {
   "cell_type": "code",
   "execution_count": null,
   "id": "ceb4e481",
   "metadata": {},
   "outputs": [],
   "source": []
  }
 ],
 "metadata": {
  "kernelspec": {
   "display_name": "Python 3 (ipykernel)",
   "language": "python",
   "name": "python3"
  },
  "language_info": {
   "codemirror_mode": {
    "name": "ipython",
    "version": 3
   },
   "file_extension": ".py",
   "mimetype": "text/x-python",
   "name": "python",
   "nbconvert_exporter": "python",
   "pygments_lexer": "ipython3",
   "version": "3.11.7"
  }
 },
 "nbformat": 4,
 "nbformat_minor": 5
}
