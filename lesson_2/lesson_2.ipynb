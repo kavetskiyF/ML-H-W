{
 "cells": [
  {
   "cell_type": "code",
   "execution_count": 2,
   "id": "d6f21652-af89-4349-8aea-ef11a02e3bf0",
   "metadata": {},
   "outputs": [],
   "source": [
    "import numpy as np\n",
    "import pandas as pd\n",
    "import matplotlib.pyplot as plt  \n",
    "import seaborn as sns\n",
    "\n",
    "%matplotlib inline "
   ]
  },
  {
   "cell_type": "markdown",
   "id": "8d76a186-b98e-42d6-b25d-ba8a4695d61d",
   "metadata": {},
   "source": [
    "# Удаление дубликатов в данных"
   ]
  },
  {
   "cell_type": "code",
   "execution_count": 3,
   "id": "98d48bd8-57a1-4930-b5c1-8d332d471f64",
   "metadata": {},
   "outputs": [
    {
     "data": {
      "text/html": [
       "<div>\n",
       "<style scoped>\n",
       "    .dataframe tbody tr th:only-of-type {\n",
       "        vertical-align: middle;\n",
       "    }\n",
       "\n",
       "    .dataframe tbody tr th {\n",
       "        vertical-align: top;\n",
       "    }\n",
       "\n",
       "    .dataframe thead th {\n",
       "        text-align: right;\n",
       "    }\n",
       "</style>\n",
       "<table border=\"1\" class=\"dataframe\">\n",
       "  <thead>\n",
       "    <tr style=\"text-align: right;\">\n",
       "      <th></th>\n",
       "      <th>k1</th>\n",
       "      <th>k2</th>\n",
       "      <th>k3</th>\n",
       "      <th>k4</th>\n",
       "    </tr>\n",
       "  </thead>\n",
       "  <tbody>\n",
       "    <tr>\n",
       "      <th>0</th>\n",
       "      <td>one</td>\n",
       "      <td>1</td>\n",
       "      <td>1</td>\n",
       "      <td>1</td>\n",
       "    </tr>\n",
       "    <tr>\n",
       "      <th>1</th>\n",
       "      <td>two</td>\n",
       "      <td>1</td>\n",
       "      <td>1</td>\n",
       "      <td>1</td>\n",
       "    </tr>\n",
       "    <tr>\n",
       "      <th>2</th>\n",
       "      <td>one</td>\n",
       "      <td>2</td>\n",
       "      <td>2</td>\n",
       "      <td>1</td>\n",
       "    </tr>\n",
       "    <tr>\n",
       "      <th>3</th>\n",
       "      <td>two</td>\n",
       "      <td>3</td>\n",
       "      <td>3</td>\n",
       "      <td>1</td>\n",
       "    </tr>\n",
       "    <tr>\n",
       "      <th>4</th>\n",
       "      <td>one</td>\n",
       "      <td>3</td>\n",
       "      <td>3</td>\n",
       "      <td>1</td>\n",
       "    </tr>\n",
       "    <tr>\n",
       "      <th>5</th>\n",
       "      <td>two</td>\n",
       "      <td>4</td>\n",
       "      <td>4</td>\n",
       "      <td>1</td>\n",
       "    </tr>\n",
       "    <tr>\n",
       "      <th>6</th>\n",
       "      <td>two</td>\n",
       "      <td>4</td>\n",
       "      <td>4</td>\n",
       "      <td>1</td>\n",
       "    </tr>\n",
       "  </tbody>\n",
       "</table>\n",
       "</div>"
      ],
      "text/plain": [
       "    k1  k2  k3  k4\n",
       "0  one   1   1   1\n",
       "1  two   1   1   1\n",
       "2  one   2   2   1\n",
       "3  two   3   3   1\n",
       "4  one   3   3   1\n",
       "5  two   4   4   1\n",
       "6  two   4   4   1"
      ]
     },
     "execution_count": 3,
     "metadata": {},
     "output_type": "execute_result"
    }
   ],
   "source": [
    "data = pd.DataFrame({\"k1\": [\"one\", \"two\"] * 3 + [\"two\"], \"k2\": [1, 1, 2, 3, 3, 4, 4], \n",
    "                     \"k3\": [1, 1, 2, 3, 3, 4, 4], \"k4\":[1, 1, 1, 1, 1, 1, 1]})\n",
    "data"
   ]
  },
  {
   "cell_type": "code",
   "execution_count": 4,
   "id": "bb74a899-e100-4b5b-8739-d4d3588d8b26",
   "metadata": {},
   "outputs": [
    {
     "data": {
      "text/plain": [
       "0    False\n",
       "1    False\n",
       "2    False\n",
       "3    False\n",
       "4    False\n",
       "5    False\n",
       "6     True\n",
       "dtype: bool"
      ]
     },
     "execution_count": 4,
     "metadata": {},
     "output_type": "execute_result"
    }
   ],
   "source": [
    "data.duplicated()"
   ]
  },
  {
   "cell_type": "code",
   "execution_count": 5,
   "id": "cef50624-aac3-4f64-b835-e47931da670e",
   "metadata": {},
   "outputs": [
    {
     "data": {
      "text/html": [
       "<div>\n",
       "<style scoped>\n",
       "    .dataframe tbody tr th:only-of-type {\n",
       "        vertical-align: middle;\n",
       "    }\n",
       "\n",
       "    .dataframe tbody tr th {\n",
       "        vertical-align: top;\n",
       "    }\n",
       "\n",
       "    .dataframe thead th {\n",
       "        text-align: right;\n",
       "    }\n",
       "</style>\n",
       "<table border=\"1\" class=\"dataframe\">\n",
       "  <thead>\n",
       "    <tr style=\"text-align: right;\">\n",
       "      <th></th>\n",
       "      <th>k1</th>\n",
       "      <th>k2</th>\n",
       "      <th>k3</th>\n",
       "      <th>k4</th>\n",
       "    </tr>\n",
       "  </thead>\n",
       "  <tbody>\n",
       "    <tr>\n",
       "      <th>0</th>\n",
       "      <td>one</td>\n",
       "      <td>1</td>\n",
       "      <td>1</td>\n",
       "      <td>1</td>\n",
       "    </tr>\n",
       "    <tr>\n",
       "      <th>1</th>\n",
       "      <td>two</td>\n",
       "      <td>1</td>\n",
       "      <td>1</td>\n",
       "      <td>1</td>\n",
       "    </tr>\n",
       "    <tr>\n",
       "      <th>2</th>\n",
       "      <td>one</td>\n",
       "      <td>2</td>\n",
       "      <td>2</td>\n",
       "      <td>1</td>\n",
       "    </tr>\n",
       "    <tr>\n",
       "      <th>3</th>\n",
       "      <td>two</td>\n",
       "      <td>3</td>\n",
       "      <td>3</td>\n",
       "      <td>1</td>\n",
       "    </tr>\n",
       "    <tr>\n",
       "      <th>4</th>\n",
       "      <td>one</td>\n",
       "      <td>3</td>\n",
       "      <td>3</td>\n",
       "      <td>1</td>\n",
       "    </tr>\n",
       "    <tr>\n",
       "      <th>5</th>\n",
       "      <td>two</td>\n",
       "      <td>4</td>\n",
       "      <td>4</td>\n",
       "      <td>1</td>\n",
       "    </tr>\n",
       "  </tbody>\n",
       "</table>\n",
       "</div>"
      ],
      "text/plain": [
       "    k1  k2  k3  k4\n",
       "0  one   1   1   1\n",
       "1  two   1   1   1\n",
       "2  one   2   2   1\n",
       "3  two   3   3   1\n",
       "4  one   3   3   1\n",
       "5  two   4   4   1"
      ]
     },
     "execution_count": 5,
     "metadata": {},
     "output_type": "execute_result"
    }
   ],
   "source": [
    "data.drop_duplicates()"
   ]
  },
  {
   "cell_type": "code",
   "execution_count": 6,
   "id": "00f18e5b-97d2-4728-8993-fb28590196a2",
   "metadata": {},
   "outputs": [
    {
     "data": {
      "text/html": [
       "<div>\n",
       "<style scoped>\n",
       "    .dataframe tbody tr th:only-of-type {\n",
       "        vertical-align: middle;\n",
       "    }\n",
       "\n",
       "    .dataframe tbody tr th {\n",
       "        vertical-align: top;\n",
       "    }\n",
       "\n",
       "    .dataframe thead th {\n",
       "        text-align: right;\n",
       "    }\n",
       "</style>\n",
       "<table border=\"1\" class=\"dataframe\">\n",
       "  <thead>\n",
       "    <tr style=\"text-align: right;\">\n",
       "      <th></th>\n",
       "      <th>k1</th>\n",
       "      <th>k2</th>\n",
       "      <th>k4</th>\n",
       "    </tr>\n",
       "  </thead>\n",
       "  <tbody>\n",
       "    <tr>\n",
       "      <th>0</th>\n",
       "      <td>one</td>\n",
       "      <td>1</td>\n",
       "      <td>1</td>\n",
       "    </tr>\n",
       "    <tr>\n",
       "      <th>1</th>\n",
       "      <td>two</td>\n",
       "      <td>1</td>\n",
       "      <td>1</td>\n",
       "    </tr>\n",
       "    <tr>\n",
       "      <th>2</th>\n",
       "      <td>one</td>\n",
       "      <td>2</td>\n",
       "      <td>1</td>\n",
       "    </tr>\n",
       "    <tr>\n",
       "      <th>3</th>\n",
       "      <td>two</td>\n",
       "      <td>3</td>\n",
       "      <td>1</td>\n",
       "    </tr>\n",
       "    <tr>\n",
       "      <th>4</th>\n",
       "      <td>one</td>\n",
       "      <td>3</td>\n",
       "      <td>1</td>\n",
       "    </tr>\n",
       "    <tr>\n",
       "      <th>5</th>\n",
       "      <td>two</td>\n",
       "      <td>4</td>\n",
       "      <td>1</td>\n",
       "    </tr>\n",
       "    <tr>\n",
       "      <th>6</th>\n",
       "      <td>two</td>\n",
       "      <td>4</td>\n",
       "      <td>1</td>\n",
       "    </tr>\n",
       "  </tbody>\n",
       "</table>\n",
       "</div>"
      ],
      "text/plain": [
       "    k1 k2 k4\n",
       "0  one  1  1\n",
       "1  two  1  1\n",
       "2  one  2  1\n",
       "3  two  3  1\n",
       "4  one  3  1\n",
       "5  two  4  1\n",
       "6  two  4  1"
      ]
     },
     "execution_count": 6,
     "metadata": {},
     "output_type": "execute_result"
    }
   ],
   "source": [
    "data.T.drop_duplicates().T"
   ]
  },
  {
   "cell_type": "code",
   "execution_count": 7,
   "id": "82e65c60-6af0-4531-b097-c70fe60a8fae",
   "metadata": {},
   "outputs": [
    {
     "data": {
      "text/html": [
       "<div>\n",
       "<style scoped>\n",
       "    .dataframe tbody tr th:only-of-type {\n",
       "        vertical-align: middle;\n",
       "    }\n",
       "\n",
       "    .dataframe tbody tr th {\n",
       "        vertical-align: top;\n",
       "    }\n",
       "\n",
       "    .dataframe thead th {\n",
       "        text-align: right;\n",
       "    }\n",
       "</style>\n",
       "<table border=\"1\" class=\"dataframe\">\n",
       "  <thead>\n",
       "    <tr style=\"text-align: right;\">\n",
       "      <th></th>\n",
       "      <th>k1</th>\n",
       "      <th>k2</th>\n",
       "      <th>k3</th>\n",
       "    </tr>\n",
       "  </thead>\n",
       "  <tbody>\n",
       "    <tr>\n",
       "      <th>0</th>\n",
       "      <td>one</td>\n",
       "      <td>1</td>\n",
       "      <td>1</td>\n",
       "    </tr>\n",
       "    <tr>\n",
       "      <th>1</th>\n",
       "      <td>two</td>\n",
       "      <td>1</td>\n",
       "      <td>1</td>\n",
       "    </tr>\n",
       "    <tr>\n",
       "      <th>2</th>\n",
       "      <td>one</td>\n",
       "      <td>2</td>\n",
       "      <td>2</td>\n",
       "    </tr>\n",
       "    <tr>\n",
       "      <th>3</th>\n",
       "      <td>two</td>\n",
       "      <td>3</td>\n",
       "      <td>3</td>\n",
       "    </tr>\n",
       "    <tr>\n",
       "      <th>4</th>\n",
       "      <td>one</td>\n",
       "      <td>3</td>\n",
       "      <td>3</td>\n",
       "    </tr>\n",
       "    <tr>\n",
       "      <th>5</th>\n",
       "      <td>two</td>\n",
       "      <td>4</td>\n",
       "      <td>4</td>\n",
       "    </tr>\n",
       "    <tr>\n",
       "      <th>6</th>\n",
       "      <td>two</td>\n",
       "      <td>4</td>\n",
       "      <td>4</td>\n",
       "    </tr>\n",
       "  </tbody>\n",
       "</table>\n",
       "</div>"
      ],
      "text/plain": [
       "    k1  k2  k3\n",
       "0  one   1   1\n",
       "1  two   1   1\n",
       "2  one   2   2\n",
       "3  two   3   3\n",
       "4  one   3   3\n",
       "5  two   4   4\n",
       "6  two   4   4"
      ]
     },
     "execution_count": 7,
     "metadata": {},
     "output_type": "execute_result"
    }
   ],
   "source": [
    "data.drop(data.columns[data.nunique() == 1], axis=1)"
   ]
  },
  {
   "cell_type": "markdown",
   "id": "f86cc3cf-80d7-4654-965a-19ab2a28c23a",
   "metadata": {},
   "source": [
    "# Заполнение пропусков в данных"
   ]
  },
  {
   "cell_type": "markdown",
   "id": "113ff682-faec-4756-9583-89508f76d3a1",
   "metadata": {},
   "source": [
    "Nan - маркер отсутствия данных."
   ]
  },
  {
   "cell_type": "code",
   "execution_count": 8,
   "id": "0d21c1b4-3c74-44b4-90dd-5979bb3b3678",
   "metadata": {},
   "outputs": [
    {
     "data": {
      "text/plain": [
       "0    1.2\n",
       "1   -3.5\n",
       "2    NaN\n",
       "3    0.0\n",
       "dtype: float64"
      ]
     },
     "execution_count": 8,
     "metadata": {},
     "output_type": "execute_result"
    }
   ],
   "source": [
    "float_data = pd.Series([1.2, -3.5, np.nan, 0])\n",
    "float_data"
   ]
  },
  {
   "cell_type": "code",
   "execution_count": 9,
   "id": "b4a12528-8045-4fb7-8df0-a310b3f0460d",
   "metadata": {},
   "outputs": [
    {
     "data": {
      "text/plain": [
       "0    False\n",
       "1    False\n",
       "2     True\n",
       "3    False\n",
       "dtype: bool"
      ]
     },
     "execution_count": 9,
     "metadata": {},
     "output_type": "execute_result"
    }
   ],
   "source": [
    "float_data.isna()"
   ]
  },
  {
   "cell_type": "code",
   "execution_count": 10,
   "id": "46e16862-037d-447b-be6a-cc499dd36c90",
   "metadata": {},
   "outputs": [
    {
     "data": {
      "text/plain": [
       "0     True\n",
       "1     True\n",
       "2    False\n",
       "3     True\n",
       "dtype: bool"
      ]
     },
     "execution_count": 10,
     "metadata": {},
     "output_type": "execute_result"
    }
   ],
   "source": [
    "float_data.notna()"
   ]
  },
  {
   "cell_type": "markdown",
   "id": "6870fbfb-24ef-4ead-9ee8-ca78d77f3af9",
   "metadata": {},
   "source": [
    "Удаление данных с пропусками"
   ]
  },
  {
   "cell_type": "code",
   "execution_count": 11,
   "id": "f93e2d65-3c75-4968-863f-453a93229ec0",
   "metadata": {},
   "outputs": [
    {
     "data": {
      "text/html": [
       "<div>\n",
       "<style scoped>\n",
       "    .dataframe tbody tr th:only-of-type {\n",
       "        vertical-align: middle;\n",
       "    }\n",
       "\n",
       "    .dataframe tbody tr th {\n",
       "        vertical-align: top;\n",
       "    }\n",
       "\n",
       "    .dataframe thead th {\n",
       "        text-align: right;\n",
       "    }\n",
       "</style>\n",
       "<table border=\"1\" class=\"dataframe\">\n",
       "  <thead>\n",
       "    <tr style=\"text-align: right;\">\n",
       "      <th></th>\n",
       "      <th>0</th>\n",
       "      <th>1</th>\n",
       "      <th>2</th>\n",
       "      <th>3</th>\n",
       "    </tr>\n",
       "  </thead>\n",
       "  <tbody>\n",
       "    <tr>\n",
       "      <th>0</th>\n",
       "      <td>1.0</td>\n",
       "      <td>6.5</td>\n",
       "      <td>3.0</td>\n",
       "      <td>NaN</td>\n",
       "    </tr>\n",
       "    <tr>\n",
       "      <th>1</th>\n",
       "      <td>1.0</td>\n",
       "      <td>NaN</td>\n",
       "      <td>NaN</td>\n",
       "      <td>NaN</td>\n",
       "    </tr>\n",
       "    <tr>\n",
       "      <th>2</th>\n",
       "      <td>NaN</td>\n",
       "      <td>NaN</td>\n",
       "      <td>NaN</td>\n",
       "      <td>NaN</td>\n",
       "    </tr>\n",
       "    <tr>\n",
       "      <th>3</th>\n",
       "      <td>NaN</td>\n",
       "      <td>6.5</td>\n",
       "      <td>3.0</td>\n",
       "      <td>NaN</td>\n",
       "    </tr>\n",
       "  </tbody>\n",
       "</table>\n",
       "</div>"
      ],
      "text/plain": [
       "     0    1    2   3\n",
       "0  1.0  6.5  3.0 NaN\n",
       "1  1.0  NaN  NaN NaN\n",
       "2  NaN  NaN  NaN NaN\n",
       "3  NaN  6.5  3.0 NaN"
      ]
     },
     "execution_count": 11,
     "metadata": {},
     "output_type": "execute_result"
    }
   ],
   "source": [
    "data = pd.DataFrame([[1., 6.5, 3., np.nan], [1., np.nan, np.nan, np.nan], [np.nan, np.nan, np.nan, np.nan], \n",
    "                     [np.nan, 6.5, 3., np.nan]])\n",
    "data"
   ]
  },
  {
   "cell_type": "code",
   "execution_count": 12,
   "id": "a29a6793-8569-4091-a442-aeffa6aed226",
   "metadata": {},
   "outputs": [
    {
     "data": {
      "text/html": [
       "<div>\n",
       "<style scoped>\n",
       "    .dataframe tbody tr th:only-of-type {\n",
       "        vertical-align: middle;\n",
       "    }\n",
       "\n",
       "    .dataframe tbody tr th {\n",
       "        vertical-align: top;\n",
       "    }\n",
       "\n",
       "    .dataframe thead th {\n",
       "        text-align: right;\n",
       "    }\n",
       "</style>\n",
       "<table border=\"1\" class=\"dataframe\">\n",
       "  <thead>\n",
       "    <tr style=\"text-align: right;\">\n",
       "      <th></th>\n",
       "      <th>0</th>\n",
       "      <th>1</th>\n",
       "      <th>2</th>\n",
       "      <th>3</th>\n",
       "    </tr>\n",
       "  </thead>\n",
       "  <tbody>\n",
       "  </tbody>\n",
       "</table>\n",
       "</div>"
      ],
      "text/plain": [
       "Empty DataFrame\n",
       "Columns: [0, 1, 2, 3]\n",
       "Index: []"
      ]
     },
     "execution_count": 12,
     "metadata": {},
     "output_type": "execute_result"
    }
   ],
   "source": [
    "data.dropna()"
   ]
  },
  {
   "cell_type": "code",
   "execution_count": 13,
   "id": "edd894b5-d32d-455f-a293-edd7c8b2fa26",
   "metadata": {},
   "outputs": [
    {
     "data": {
      "text/html": [
       "<div>\n",
       "<style scoped>\n",
       "    .dataframe tbody tr th:only-of-type {\n",
       "        vertical-align: middle;\n",
       "    }\n",
       "\n",
       "    .dataframe tbody tr th {\n",
       "        vertical-align: top;\n",
       "    }\n",
       "\n",
       "    .dataframe thead th {\n",
       "        text-align: right;\n",
       "    }\n",
       "</style>\n",
       "<table border=\"1\" class=\"dataframe\">\n",
       "  <thead>\n",
       "    <tr style=\"text-align: right;\">\n",
       "      <th></th>\n",
       "      <th>0</th>\n",
       "      <th>1</th>\n",
       "      <th>2</th>\n",
       "      <th>3</th>\n",
       "    </tr>\n",
       "  </thead>\n",
       "  <tbody>\n",
       "    <tr>\n",
       "      <th>0</th>\n",
       "      <td>1.0</td>\n",
       "      <td>6.5</td>\n",
       "      <td>3.0</td>\n",
       "      <td>NaN</td>\n",
       "    </tr>\n",
       "    <tr>\n",
       "      <th>1</th>\n",
       "      <td>1.0</td>\n",
       "      <td>NaN</td>\n",
       "      <td>NaN</td>\n",
       "      <td>NaN</td>\n",
       "    </tr>\n",
       "    <tr>\n",
       "      <th>3</th>\n",
       "      <td>NaN</td>\n",
       "      <td>6.5</td>\n",
       "      <td>3.0</td>\n",
       "      <td>NaN</td>\n",
       "    </tr>\n",
       "  </tbody>\n",
       "</table>\n",
       "</div>"
      ],
      "text/plain": [
       "     0    1    2   3\n",
       "0  1.0  6.5  3.0 NaN\n",
       "1  1.0  NaN  NaN NaN\n",
       "3  NaN  6.5  3.0 NaN"
      ]
     },
     "execution_count": 13,
     "metadata": {},
     "output_type": "execute_result"
    }
   ],
   "source": [
    "data.dropna(how=\"all\")"
   ]
  },
  {
   "cell_type": "code",
   "execution_count": 14,
   "id": "e00385ee-c272-46b0-9ef7-6fd73ba4b441",
   "metadata": {},
   "outputs": [
    {
     "data": {
      "text/html": [
       "<div>\n",
       "<style scoped>\n",
       "    .dataframe tbody tr th:only-of-type {\n",
       "        vertical-align: middle;\n",
       "    }\n",
       "\n",
       "    .dataframe tbody tr th {\n",
       "        vertical-align: top;\n",
       "    }\n",
       "\n",
       "    .dataframe thead th {\n",
       "        text-align: right;\n",
       "    }\n",
       "</style>\n",
       "<table border=\"1\" class=\"dataframe\">\n",
       "  <thead>\n",
       "    <tr style=\"text-align: right;\">\n",
       "      <th></th>\n",
       "      <th>0</th>\n",
       "      <th>1</th>\n",
       "      <th>2</th>\n",
       "    </tr>\n",
       "  </thead>\n",
       "  <tbody>\n",
       "    <tr>\n",
       "      <th>0</th>\n",
       "      <td>1.0</td>\n",
       "      <td>6.5</td>\n",
       "      <td>3.0</td>\n",
       "    </tr>\n",
       "    <tr>\n",
       "      <th>1</th>\n",
       "      <td>1.0</td>\n",
       "      <td>NaN</td>\n",
       "      <td>NaN</td>\n",
       "    </tr>\n",
       "    <tr>\n",
       "      <th>2</th>\n",
       "      <td>NaN</td>\n",
       "      <td>NaN</td>\n",
       "      <td>NaN</td>\n",
       "    </tr>\n",
       "    <tr>\n",
       "      <th>3</th>\n",
       "      <td>NaN</td>\n",
       "      <td>6.5</td>\n",
       "      <td>3.0</td>\n",
       "    </tr>\n",
       "  </tbody>\n",
       "</table>\n",
       "</div>"
      ],
      "text/plain": [
       "     0    1    2\n",
       "0  1.0  6.5  3.0\n",
       "1  1.0  NaN  NaN\n",
       "2  NaN  NaN  NaN\n",
       "3  NaN  6.5  3.0"
      ]
     },
     "execution_count": 14,
     "metadata": {},
     "output_type": "execute_result"
    }
   ],
   "source": [
    "data.dropna(axis=\"columns\", how=\"all\")"
   ]
  },
  {
   "cell_type": "code",
   "execution_count": 15,
   "id": "6c821de0-5430-412b-9a5d-caaa2e4dfcee",
   "metadata": {},
   "outputs": [
    {
     "data": {
      "text/html": [
       "<div>\n",
       "<style scoped>\n",
       "    .dataframe tbody tr th:only-of-type {\n",
       "        vertical-align: middle;\n",
       "    }\n",
       "\n",
       "    .dataframe tbody tr th {\n",
       "        vertical-align: top;\n",
       "    }\n",
       "\n",
       "    .dataframe thead th {\n",
       "        text-align: right;\n",
       "    }\n",
       "</style>\n",
       "<table border=\"1\" class=\"dataframe\">\n",
       "  <thead>\n",
       "    <tr style=\"text-align: right;\">\n",
       "      <th></th>\n",
       "      <th>0</th>\n",
       "      <th>1</th>\n",
       "      <th>2</th>\n",
       "      <th>3</th>\n",
       "    </tr>\n",
       "  </thead>\n",
       "  <tbody>\n",
       "    <tr>\n",
       "      <th>0</th>\n",
       "      <td>1.0</td>\n",
       "      <td>6.5</td>\n",
       "      <td>3.0</td>\n",
       "      <td>NaN</td>\n",
       "    </tr>\n",
       "    <tr>\n",
       "      <th>3</th>\n",
       "      <td>NaN</td>\n",
       "      <td>6.5</td>\n",
       "      <td>3.0</td>\n",
       "      <td>NaN</td>\n",
       "    </tr>\n",
       "  </tbody>\n",
       "</table>\n",
       "</div>"
      ],
      "text/plain": [
       "     0    1    2   3\n",
       "0  1.0  6.5  3.0 NaN\n",
       "3  NaN  6.5  3.0 NaN"
      ]
     },
     "execution_count": 15,
     "metadata": {},
     "output_type": "execute_result"
    }
   ],
   "source": [
    "data.dropna(thresh=2)"
   ]
  },
  {
   "cell_type": "markdown",
   "id": "b925f4eb-7124-46b1-857f-78c523c348b9",
   "metadata": {},
   "source": [
    "Восполнение отсутствующих данных"
   ]
  },
  {
   "cell_type": "code",
   "execution_count": 16,
   "id": "4c424068-b7fd-4d96-bf31-243247781413",
   "metadata": {},
   "outputs": [
    {
     "data": {
      "text/html": [
       "<div>\n",
       "<style scoped>\n",
       "    .dataframe tbody tr th:only-of-type {\n",
       "        vertical-align: middle;\n",
       "    }\n",
       "\n",
       "    .dataframe tbody tr th {\n",
       "        vertical-align: top;\n",
       "    }\n",
       "\n",
       "    .dataframe thead th {\n",
       "        text-align: right;\n",
       "    }\n",
       "</style>\n",
       "<table border=\"1\" class=\"dataframe\">\n",
       "  <thead>\n",
       "    <tr style=\"text-align: right;\">\n",
       "      <th></th>\n",
       "      <th>0</th>\n",
       "      <th>1</th>\n",
       "      <th>2</th>\n",
       "    </tr>\n",
       "  </thead>\n",
       "  <tbody>\n",
       "    <tr>\n",
       "      <th>0</th>\n",
       "      <td>0.260701</td>\n",
       "      <td>NaN</td>\n",
       "      <td>NaN</td>\n",
       "    </tr>\n",
       "    <tr>\n",
       "      <th>1</th>\n",
       "      <td>-0.665155</td>\n",
       "      <td>NaN</td>\n",
       "      <td>NaN</td>\n",
       "    </tr>\n",
       "    <tr>\n",
       "      <th>2</th>\n",
       "      <td>-1.120851</td>\n",
       "      <td>NaN</td>\n",
       "      <td>-0.356412</td>\n",
       "    </tr>\n",
       "    <tr>\n",
       "      <th>3</th>\n",
       "      <td>0.259926</td>\n",
       "      <td>NaN</td>\n",
       "      <td>-0.457557</td>\n",
       "    </tr>\n",
       "    <tr>\n",
       "      <th>4</th>\n",
       "      <td>-0.928337</td>\n",
       "      <td>0.590660</td>\n",
       "      <td>0.799451</td>\n",
       "    </tr>\n",
       "    <tr>\n",
       "      <th>5</th>\n",
       "      <td>-1.274565</td>\n",
       "      <td>-0.613458</td>\n",
       "      <td>-0.087292</td>\n",
       "    </tr>\n",
       "    <tr>\n",
       "      <th>6</th>\n",
       "      <td>1.591160</td>\n",
       "      <td>0.619356</td>\n",
       "      <td>1.354343</td>\n",
       "    </tr>\n",
       "  </tbody>\n",
       "</table>\n",
       "</div>"
      ],
      "text/plain": [
       "          0         1         2\n",
       "0  0.260701       NaN       NaN\n",
       "1 -0.665155       NaN       NaN\n",
       "2 -1.120851       NaN -0.356412\n",
       "3  0.259926       NaN -0.457557\n",
       "4 -0.928337  0.590660  0.799451\n",
       "5 -1.274565 -0.613458 -0.087292\n",
       "6  1.591160  0.619356  1.354343"
      ]
     },
     "execution_count": 16,
     "metadata": {},
     "output_type": "execute_result"
    }
   ],
   "source": [
    "df = pd.DataFrame(np.random.standard_normal((7, 3)))\n",
    "df.iloc[:4, 1] = np.nan\n",
    "df.iloc[:2, 2] = np.nan\n",
    "df"
   ]
  },
  {
   "cell_type": "code",
   "execution_count": 17,
   "id": "9bc012b2-2d3d-40aa-9f47-7805574c11f3",
   "metadata": {},
   "outputs": [
    {
     "data": {
      "text/html": [
       "<div>\n",
       "<style scoped>\n",
       "    .dataframe tbody tr th:only-of-type {\n",
       "        vertical-align: middle;\n",
       "    }\n",
       "\n",
       "    .dataframe tbody tr th {\n",
       "        vertical-align: top;\n",
       "    }\n",
       "\n",
       "    .dataframe thead th {\n",
       "        text-align: right;\n",
       "    }\n",
       "</style>\n",
       "<table border=\"1\" class=\"dataframe\">\n",
       "  <thead>\n",
       "    <tr style=\"text-align: right;\">\n",
       "      <th></th>\n",
       "      <th>0</th>\n",
       "      <th>1</th>\n",
       "      <th>2</th>\n",
       "    </tr>\n",
       "  </thead>\n",
       "  <tbody>\n",
       "    <tr>\n",
       "      <th>0</th>\n",
       "      <td>0.260701</td>\n",
       "      <td>0.000000</td>\n",
       "      <td>0.000000</td>\n",
       "    </tr>\n",
       "    <tr>\n",
       "      <th>1</th>\n",
       "      <td>-0.665155</td>\n",
       "      <td>0.000000</td>\n",
       "      <td>0.000000</td>\n",
       "    </tr>\n",
       "    <tr>\n",
       "      <th>2</th>\n",
       "      <td>-1.120851</td>\n",
       "      <td>0.000000</td>\n",
       "      <td>-0.356412</td>\n",
       "    </tr>\n",
       "    <tr>\n",
       "      <th>3</th>\n",
       "      <td>0.259926</td>\n",
       "      <td>0.000000</td>\n",
       "      <td>-0.457557</td>\n",
       "    </tr>\n",
       "    <tr>\n",
       "      <th>4</th>\n",
       "      <td>-0.928337</td>\n",
       "      <td>0.590660</td>\n",
       "      <td>0.799451</td>\n",
       "    </tr>\n",
       "    <tr>\n",
       "      <th>5</th>\n",
       "      <td>-1.274565</td>\n",
       "      <td>-0.613458</td>\n",
       "      <td>-0.087292</td>\n",
       "    </tr>\n",
       "    <tr>\n",
       "      <th>6</th>\n",
       "      <td>1.591160</td>\n",
       "      <td>0.619356</td>\n",
       "      <td>1.354343</td>\n",
       "    </tr>\n",
       "  </tbody>\n",
       "</table>\n",
       "</div>"
      ],
      "text/plain": [
       "          0         1         2\n",
       "0  0.260701  0.000000  0.000000\n",
       "1 -0.665155  0.000000  0.000000\n",
       "2 -1.120851  0.000000 -0.356412\n",
       "3  0.259926  0.000000 -0.457557\n",
       "4 -0.928337  0.590660  0.799451\n",
       "5 -1.274565 -0.613458 -0.087292\n",
       "6  1.591160  0.619356  1.354343"
      ]
     },
     "execution_count": 17,
     "metadata": {},
     "output_type": "execute_result"
    }
   ],
   "source": [
    "df.fillna(0)"
   ]
  },
  {
   "cell_type": "code",
   "execution_count": 18,
   "id": "b8312838-7afb-475a-9db6-13aee9113c93",
   "metadata": {},
   "outputs": [
    {
     "data": {
      "text/html": [
       "<div>\n",
       "<style scoped>\n",
       "    .dataframe tbody tr th:only-of-type {\n",
       "        vertical-align: middle;\n",
       "    }\n",
       "\n",
       "    .dataframe tbody tr th {\n",
       "        vertical-align: top;\n",
       "    }\n",
       "\n",
       "    .dataframe thead th {\n",
       "        text-align: right;\n",
       "    }\n",
       "</style>\n",
       "<table border=\"1\" class=\"dataframe\">\n",
       "  <thead>\n",
       "    <tr style=\"text-align: right;\">\n",
       "      <th></th>\n",
       "      <th>0</th>\n",
       "      <th>1</th>\n",
       "      <th>2</th>\n",
       "    </tr>\n",
       "  </thead>\n",
       "  <tbody>\n",
       "    <tr>\n",
       "      <th>0</th>\n",
       "      <td>0.260701</td>\n",
       "      <td>0.500000</td>\n",
       "      <td>0.000000</td>\n",
       "    </tr>\n",
       "    <tr>\n",
       "      <th>1</th>\n",
       "      <td>-0.665155</td>\n",
       "      <td>0.500000</td>\n",
       "      <td>0.000000</td>\n",
       "    </tr>\n",
       "    <tr>\n",
       "      <th>2</th>\n",
       "      <td>-1.120851</td>\n",
       "      <td>0.500000</td>\n",
       "      <td>-0.356412</td>\n",
       "    </tr>\n",
       "    <tr>\n",
       "      <th>3</th>\n",
       "      <td>0.259926</td>\n",
       "      <td>0.500000</td>\n",
       "      <td>-0.457557</td>\n",
       "    </tr>\n",
       "    <tr>\n",
       "      <th>4</th>\n",
       "      <td>-0.928337</td>\n",
       "      <td>0.590660</td>\n",
       "      <td>0.799451</td>\n",
       "    </tr>\n",
       "    <tr>\n",
       "      <th>5</th>\n",
       "      <td>-1.274565</td>\n",
       "      <td>-0.613458</td>\n",
       "      <td>-0.087292</td>\n",
       "    </tr>\n",
       "    <tr>\n",
       "      <th>6</th>\n",
       "      <td>1.591160</td>\n",
       "      <td>0.619356</td>\n",
       "      <td>1.354343</td>\n",
       "    </tr>\n",
       "  </tbody>\n",
       "</table>\n",
       "</div>"
      ],
      "text/plain": [
       "          0         1         2\n",
       "0  0.260701  0.500000  0.000000\n",
       "1 -0.665155  0.500000  0.000000\n",
       "2 -1.120851  0.500000 -0.356412\n",
       "3  0.259926  0.500000 -0.457557\n",
       "4 -0.928337  0.590660  0.799451\n",
       "5 -1.274565 -0.613458 -0.087292\n",
       "6  1.591160  0.619356  1.354343"
      ]
     },
     "execution_count": 18,
     "metadata": {},
     "output_type": "execute_result"
    }
   ],
   "source": [
    "df.fillna({1: 0.5, 2: 0})"
   ]
  },
  {
   "cell_type": "code",
   "execution_count": 19,
   "id": "ed02158e-bd5f-46e0-973c-023d6a8aabc1",
   "metadata": {},
   "outputs": [
    {
     "data": {
      "text/html": [
       "<div>\n",
       "<style scoped>\n",
       "    .dataframe tbody tr th:only-of-type {\n",
       "        vertical-align: middle;\n",
       "    }\n",
       "\n",
       "    .dataframe tbody tr th {\n",
       "        vertical-align: top;\n",
       "    }\n",
       "\n",
       "    .dataframe thead th {\n",
       "        text-align: right;\n",
       "    }\n",
       "</style>\n",
       "<table border=\"1\" class=\"dataframe\">\n",
       "  <thead>\n",
       "    <tr style=\"text-align: right;\">\n",
       "      <th></th>\n",
       "      <th>0</th>\n",
       "      <th>1</th>\n",
       "      <th>2</th>\n",
       "    </tr>\n",
       "  </thead>\n",
       "  <tbody>\n",
       "    <tr>\n",
       "      <th>0</th>\n",
       "      <td>0.260701</td>\n",
       "      <td>0.590660</td>\n",
       "      <td>-0.356412</td>\n",
       "    </tr>\n",
       "    <tr>\n",
       "      <th>1</th>\n",
       "      <td>-0.665155</td>\n",
       "      <td>0.590660</td>\n",
       "      <td>-0.356412</td>\n",
       "    </tr>\n",
       "    <tr>\n",
       "      <th>2</th>\n",
       "      <td>-1.120851</td>\n",
       "      <td>0.590660</td>\n",
       "      <td>-0.356412</td>\n",
       "    </tr>\n",
       "    <tr>\n",
       "      <th>3</th>\n",
       "      <td>0.259926</td>\n",
       "      <td>0.590660</td>\n",
       "      <td>-0.457557</td>\n",
       "    </tr>\n",
       "    <tr>\n",
       "      <th>4</th>\n",
       "      <td>-0.928337</td>\n",
       "      <td>0.590660</td>\n",
       "      <td>0.799451</td>\n",
       "    </tr>\n",
       "    <tr>\n",
       "      <th>5</th>\n",
       "      <td>-1.274565</td>\n",
       "      <td>-0.613458</td>\n",
       "      <td>-0.087292</td>\n",
       "    </tr>\n",
       "    <tr>\n",
       "      <th>6</th>\n",
       "      <td>1.591160</td>\n",
       "      <td>0.619356</td>\n",
       "      <td>1.354343</td>\n",
       "    </tr>\n",
       "  </tbody>\n",
       "</table>\n",
       "</div>"
      ],
      "text/plain": [
       "          0         1         2\n",
       "0  0.260701  0.590660 -0.356412\n",
       "1 -0.665155  0.590660 -0.356412\n",
       "2 -1.120851  0.590660 -0.356412\n",
       "3  0.259926  0.590660 -0.457557\n",
       "4 -0.928337  0.590660  0.799451\n",
       "5 -1.274565 -0.613458 -0.087292\n",
       "6  1.591160  0.619356  1.354343"
      ]
     },
     "execution_count": 19,
     "metadata": {},
     "output_type": "execute_result"
    }
   ],
   "source": [
    "df.fillna(method=\"bfill\")"
   ]
  },
  {
   "cell_type": "code",
   "execution_count": 20,
   "id": "ff16c212-310c-4287-8318-81050cb0adcf",
   "metadata": {},
   "outputs": [
    {
     "data": {
      "text/html": [
       "<div>\n",
       "<style scoped>\n",
       "    .dataframe tbody tr th:only-of-type {\n",
       "        vertical-align: middle;\n",
       "    }\n",
       "\n",
       "    .dataframe tbody tr th {\n",
       "        vertical-align: top;\n",
       "    }\n",
       "\n",
       "    .dataframe thead th {\n",
       "        text-align: right;\n",
       "    }\n",
       "</style>\n",
       "<table border=\"1\" class=\"dataframe\">\n",
       "  <thead>\n",
       "    <tr style=\"text-align: right;\">\n",
       "      <th></th>\n",
       "      <th>0</th>\n",
       "      <th>1</th>\n",
       "      <th>2</th>\n",
       "    </tr>\n",
       "  </thead>\n",
       "  <tbody>\n",
       "    <tr>\n",
       "      <th>0</th>\n",
       "      <td>0.260701</td>\n",
       "      <td>NaN</td>\n",
       "      <td>-0.356412</td>\n",
       "    </tr>\n",
       "    <tr>\n",
       "      <th>1</th>\n",
       "      <td>-0.665155</td>\n",
       "      <td>NaN</td>\n",
       "      <td>-0.356412</td>\n",
       "    </tr>\n",
       "    <tr>\n",
       "      <th>2</th>\n",
       "      <td>-1.120851</td>\n",
       "      <td>0.590660</td>\n",
       "      <td>-0.356412</td>\n",
       "    </tr>\n",
       "    <tr>\n",
       "      <th>3</th>\n",
       "      <td>0.259926</td>\n",
       "      <td>0.590660</td>\n",
       "      <td>-0.457557</td>\n",
       "    </tr>\n",
       "    <tr>\n",
       "      <th>4</th>\n",
       "      <td>-0.928337</td>\n",
       "      <td>0.590660</td>\n",
       "      <td>0.799451</td>\n",
       "    </tr>\n",
       "    <tr>\n",
       "      <th>5</th>\n",
       "      <td>-1.274565</td>\n",
       "      <td>-0.613458</td>\n",
       "      <td>-0.087292</td>\n",
       "    </tr>\n",
       "    <tr>\n",
       "      <th>6</th>\n",
       "      <td>1.591160</td>\n",
       "      <td>0.619356</td>\n",
       "      <td>1.354343</td>\n",
       "    </tr>\n",
       "  </tbody>\n",
       "</table>\n",
       "</div>"
      ],
      "text/plain": [
       "          0         1         2\n",
       "0  0.260701       NaN -0.356412\n",
       "1 -0.665155       NaN -0.356412\n",
       "2 -1.120851  0.590660 -0.356412\n",
       "3  0.259926  0.590660 -0.457557\n",
       "4 -0.928337  0.590660  0.799451\n",
       "5 -1.274565 -0.613458 -0.087292\n",
       "6  1.591160  0.619356  1.354343"
      ]
     },
     "execution_count": 20,
     "metadata": {},
     "output_type": "execute_result"
    }
   ],
   "source": [
    "df.fillna(method=\"bfill\", limit=2)"
   ]
  },
  {
   "cell_type": "code",
   "execution_count": 21,
   "id": "471c602b-8ebb-4b86-b56c-889bb8d6f88e",
   "metadata": {},
   "outputs": [
    {
     "data": {
      "text/html": [
       "<div>\n",
       "<style scoped>\n",
       "    .dataframe tbody tr th:only-of-type {\n",
       "        vertical-align: middle;\n",
       "    }\n",
       "\n",
       "    .dataframe tbody tr th {\n",
       "        vertical-align: top;\n",
       "    }\n",
       "\n",
       "    .dataframe thead th {\n",
       "        text-align: right;\n",
       "    }\n",
       "</style>\n",
       "<table border=\"1\" class=\"dataframe\">\n",
       "  <thead>\n",
       "    <tr style=\"text-align: right;\">\n",
       "      <th></th>\n",
       "      <th>0</th>\n",
       "      <th>1</th>\n",
       "      <th>2</th>\n",
       "    </tr>\n",
       "  </thead>\n",
       "  <tbody>\n",
       "    <tr>\n",
       "      <th>0</th>\n",
       "      <td>0.260701</td>\n",
       "      <td>6.500000</td>\n",
       "      <td>3.000000</td>\n",
       "    </tr>\n",
       "    <tr>\n",
       "      <th>1</th>\n",
       "      <td>-0.665155</td>\n",
       "      <td>6.500000</td>\n",
       "      <td>3.000000</td>\n",
       "    </tr>\n",
       "    <tr>\n",
       "      <th>2</th>\n",
       "      <td>-1.120851</td>\n",
       "      <td>6.500000</td>\n",
       "      <td>-0.356412</td>\n",
       "    </tr>\n",
       "    <tr>\n",
       "      <th>3</th>\n",
       "      <td>0.259926</td>\n",
       "      <td>6.500000</td>\n",
       "      <td>-0.457557</td>\n",
       "    </tr>\n",
       "    <tr>\n",
       "      <th>4</th>\n",
       "      <td>-0.928337</td>\n",
       "      <td>0.590660</td>\n",
       "      <td>0.799451</td>\n",
       "    </tr>\n",
       "    <tr>\n",
       "      <th>5</th>\n",
       "      <td>-1.274565</td>\n",
       "      <td>-0.613458</td>\n",
       "      <td>-0.087292</td>\n",
       "    </tr>\n",
       "    <tr>\n",
       "      <th>6</th>\n",
       "      <td>1.591160</td>\n",
       "      <td>0.619356</td>\n",
       "      <td>1.354343</td>\n",
       "    </tr>\n",
       "  </tbody>\n",
       "</table>\n",
       "</div>"
      ],
      "text/plain": [
       "          0         1         2\n",
       "0  0.260701  6.500000  3.000000\n",
       "1 -0.665155  6.500000  3.000000\n",
       "2 -1.120851  6.500000 -0.356412\n",
       "3  0.259926  6.500000 -0.457557\n",
       "4 -0.928337  0.590660  0.799451\n",
       "5 -1.274565 -0.613458 -0.087292\n",
       "6  1.591160  0.619356  1.354343"
      ]
     },
     "execution_count": 21,
     "metadata": {},
     "output_type": "execute_result"
    }
   ],
   "source": [
    "df.fillna(data.mean())"
   ]
  },
  {
   "cell_type": "code",
   "execution_count": 22,
   "id": "19d916b9-2097-48e9-8cd3-36744c37f8a1",
   "metadata": {},
   "outputs": [
    {
     "data": {
      "text/html": [
       "<div>\n",
       "<style scoped>\n",
       "    .dataframe tbody tr th:only-of-type {\n",
       "        vertical-align: middle;\n",
       "    }\n",
       "\n",
       "    .dataframe tbody tr th {\n",
       "        vertical-align: top;\n",
       "    }\n",
       "\n",
       "    .dataframe thead th {\n",
       "        text-align: right;\n",
       "    }\n",
       "</style>\n",
       "<table border=\"1\" class=\"dataframe\">\n",
       "  <thead>\n",
       "    <tr style=\"text-align: right;\">\n",
       "      <th></th>\n",
       "      <th>0</th>\n",
       "      <th>1</th>\n",
       "      <th>2</th>\n",
       "    </tr>\n",
       "  </thead>\n",
       "  <tbody>\n",
       "    <tr>\n",
       "      <th>0</th>\n",
       "      <td>0.260701</td>\n",
       "      <td>6.500000</td>\n",
       "      <td>3.000000</td>\n",
       "    </tr>\n",
       "    <tr>\n",
       "      <th>1</th>\n",
       "      <td>-0.665155</td>\n",
       "      <td>6.500000</td>\n",
       "      <td>3.000000</td>\n",
       "    </tr>\n",
       "    <tr>\n",
       "      <th>2</th>\n",
       "      <td>-1.120851</td>\n",
       "      <td>6.500000</td>\n",
       "      <td>-0.356412</td>\n",
       "    </tr>\n",
       "    <tr>\n",
       "      <th>3</th>\n",
       "      <td>0.259926</td>\n",
       "      <td>6.500000</td>\n",
       "      <td>-0.457557</td>\n",
       "    </tr>\n",
       "    <tr>\n",
       "      <th>4</th>\n",
       "      <td>-0.928337</td>\n",
       "      <td>0.590660</td>\n",
       "      <td>0.799451</td>\n",
       "    </tr>\n",
       "    <tr>\n",
       "      <th>5</th>\n",
       "      <td>-1.274565</td>\n",
       "      <td>-0.613458</td>\n",
       "      <td>-0.087292</td>\n",
       "    </tr>\n",
       "    <tr>\n",
       "      <th>6</th>\n",
       "      <td>1.591160</td>\n",
       "      <td>0.619356</td>\n",
       "      <td>1.354343</td>\n",
       "    </tr>\n",
       "  </tbody>\n",
       "</table>\n",
       "</div>"
      ],
      "text/plain": [
       "          0         1         2\n",
       "0  0.260701  6.500000  3.000000\n",
       "1 -0.665155  6.500000  3.000000\n",
       "2 -1.120851  6.500000 -0.356412\n",
       "3  0.259926  6.500000 -0.457557\n",
       "4 -0.928337  0.590660  0.799451\n",
       "5 -1.274565 -0.613458 -0.087292\n",
       "6  1.591160  0.619356  1.354343"
      ]
     },
     "execution_count": 22,
     "metadata": {},
     "output_type": "execute_result"
    }
   ],
   "source": [
    "df.fillna(data.median())"
   ]
  },
  {
   "cell_type": "markdown",
   "id": "f54a6fa0-7850-44c5-ac95-4919c9c34543",
   "metadata": {},
   "source": [
    "Медиана более устойчива к выбросам"
   ]
  },
  {
   "cell_type": "code",
   "execution_count": 23,
   "id": "5d3e0083-0e42-4cba-89f2-5a849028bd45",
   "metadata": {},
   "outputs": [],
   "source": [
    "data_all = []\n",
    "for i in range(1000):\n",
    "    data = []\n",
    "    for i in range(1000):\n",
    "        if np.random.random() >= 0.90:\n",
    "            data.append(np.random.normal(1, 1, 1)[0])\n",
    "        else:\n",
    "            data.append(np.random.normal(1, 10, 1)[0])\n",
    "    data_all.append(data)\n",
    "    \n",
    "data_all = np.array(data_all)"
   ]
  },
  {
   "cell_type": "code",
   "execution_count": 24,
   "id": "0f121112-c46d-4685-b4f0-f740a3f694da",
   "metadata": {},
   "outputs": [
    {
     "data": {
      "text/plain": [
       "<AxesSubplot:>"
      ]
     },
     "execution_count": 24,
     "metadata": {},
     "output_type": "execute_result"
    },
    {
     "data": {
      "image/png": "[encoded data removed]",
      "text/plain": [
       "<Figure size 640x480 with 1 Axes>"
      ]
     },
     "metadata": {},
     "output_type": "display_data"
    }
   ],
   "source": [
    "res = pd.DataFrame({\"mean\": data_all.mean(axis=1), \"median\": np.median(data_all, axis=1)})\n",
    "res.boxplot()"
   ]
  },
  {
   "cell_type": "markdown",
   "id": "0a66f3df-3654-4e95-b1c3-581b79a03d8e",
   "metadata": {},
   "source": [
    "Создание дополнительного признака"
   ]
  },
  {
   "cell_type": "code",
   "execution_count": 25,
   "id": "f548a616-1c85-4a73-b970-4ab455e92fa9",
   "metadata": {},
   "outputs": [
    {
     "data": {
      "text/html": [
       "<div>\n",
       "<style scoped>\n",
       "    .dataframe tbody tr th:only-of-type {\n",
       "        vertical-align: middle;\n",
       "    }\n",
       "\n",
       "    .dataframe tbody tr th {\n",
       "        vertical-align: top;\n",
       "    }\n",
       "\n",
       "    .dataframe thead th {\n",
       "        text-align: right;\n",
       "    }\n",
       "</style>\n",
       "<table border=\"1\" class=\"dataframe\">\n",
       "  <thead>\n",
       "    <tr style=\"text-align: right;\">\n",
       "      <th></th>\n",
       "      <th>0</th>\n",
       "      <th>1</th>\n",
       "      <th>2</th>\n",
       "      <th>2 is nan</th>\n",
       "    </tr>\n",
       "  </thead>\n",
       "  <tbody>\n",
       "    <tr>\n",
       "      <th>0</th>\n",
       "      <td>0.260701</td>\n",
       "      <td>NaN</td>\n",
       "      <td>NaN</td>\n",
       "      <td>1</td>\n",
       "    </tr>\n",
       "    <tr>\n",
       "      <th>1</th>\n",
       "      <td>-0.665155</td>\n",
       "      <td>NaN</td>\n",
       "      <td>NaN</td>\n",
       "      <td>1</td>\n",
       "    </tr>\n",
       "    <tr>\n",
       "      <th>2</th>\n",
       "      <td>-1.120851</td>\n",
       "      <td>NaN</td>\n",
       "      <td>-0.356412</td>\n",
       "      <td>0</td>\n",
       "    </tr>\n",
       "    <tr>\n",
       "      <th>3</th>\n",
       "      <td>0.259926</td>\n",
       "      <td>NaN</td>\n",
       "      <td>-0.457557</td>\n",
       "      <td>0</td>\n",
       "    </tr>\n",
       "    <tr>\n",
       "      <th>4</th>\n",
       "      <td>-0.928337</td>\n",
       "      <td>0.590660</td>\n",
       "      <td>0.799451</td>\n",
       "      <td>0</td>\n",
       "    </tr>\n",
       "    <tr>\n",
       "      <th>5</th>\n",
       "      <td>-1.274565</td>\n",
       "      <td>-0.613458</td>\n",
       "      <td>-0.087292</td>\n",
       "      <td>0</td>\n",
       "    </tr>\n",
       "    <tr>\n",
       "      <th>6</th>\n",
       "      <td>1.591160</td>\n",
       "      <td>0.619356</td>\n",
       "      <td>1.354343</td>\n",
       "      <td>0</td>\n",
       "    </tr>\n",
       "  </tbody>\n",
       "</table>\n",
       "</div>"
      ],
      "text/plain": [
       "          0         1         2  2 is nan\n",
       "0  0.260701       NaN       NaN         1\n",
       "1 -0.665155       NaN       NaN         1\n",
       "2 -1.120851       NaN -0.356412         0\n",
       "3  0.259926       NaN -0.457557         0\n",
       "4 -0.928337  0.590660  0.799451         0\n",
       "5 -1.274565 -0.613458 -0.087292         0\n",
       "6  1.591160  0.619356  1.354343         0"
      ]
     },
     "execution_count": 25,
     "metadata": {},
     "output_type": "execute_result"
    }
   ],
   "source": [
    "df[\"2 is nan\"] = df[2].isna().astype(np.int32)\n",
    "df"
   ]
  },
  {
   "cell_type": "markdown",
   "id": "dd342e89-1cf2-4e65-8a94-a47d2294ecfa",
   "metadata": {},
   "source": [
    "Замена значений"
   ]
  },
  {
   "cell_type": "code",
   "execution_count": 26,
   "id": "964206d0-a401-4142-b794-5a96bcabb24b",
   "metadata": {},
   "outputs": [
    {
     "data": {
      "text/plain": [
       "0      1.0\n",
       "1   -999.0\n",
       "2      2.0\n",
       "3   -999.0\n",
       "4      4.0\n",
       "5      3.0\n",
       "dtype: float64"
      ]
     },
     "execution_count": 26,
     "metadata": {},
     "output_type": "execute_result"
    }
   ],
   "source": [
    "data = pd.Series([1., -999., 2., -999., 4., 3.])\n",
    "data"
   ]
  },
  {
   "cell_type": "code",
   "execution_count": 27,
   "id": "211e1cb6-1d23-41b7-bb82-96b75ddef704",
   "metadata": {},
   "outputs": [
    {
     "data": {
      "text/plain": [
       "0    1.0\n",
       "1    NaN\n",
       "2    2.0\n",
       "3    NaN\n",
       "4    4.0\n",
       "5    3.0\n",
       "dtype: float64"
      ]
     },
     "execution_count": 27,
     "metadata": {},
     "output_type": "execute_result"
    }
   ],
   "source": [
    "data.replace(-999, np.nan)"
   ]
  },
  {
   "cell_type": "markdown",
   "id": "ae76bafb-1bea-47af-9887-3b2e7a2cd8b0",
   "metadata": {},
   "source": [
    "# Кодирование признаков"
   ]
  },
  {
   "cell_type": "markdown",
   "id": "f7da2248-a7dd-49b4-a211-0541757bdb09",
   "metadata": {},
   "source": [
    "Бинарные факторы: False == 0, True == 1"
   ]
  },
  {
   "cell_type": "code",
   "execution_count": 28,
   "id": "a8bea040-07c9-4ca3-99c5-ff1cd94051ea",
   "metadata": {},
   "outputs": [
    {
     "data": {
      "text/plain": [
       "0       male\n",
       "1       male\n",
       "2       male\n",
       "3       male\n",
       "4       male\n",
       "5       male\n",
       "6       male\n",
       "7       male\n",
       "8       male\n",
       "9       male\n",
       "10    female\n",
       "11    female\n",
       "12    female\n",
       "13    female\n",
       "14    female\n",
       "dtype: object"
      ]
     },
     "execution_count": 28,
     "metadata": {},
     "output_type": "execute_result"
    }
   ],
   "source": [
    "data = pd.Series([\"male\"]*10 + [\"female\"]*5) \n",
    "data"
   ]
  },
  {
   "cell_type": "code",
   "execution_count": 29,
   "id": "543531c9-cb85-46bd-8c24-a611bf713d9a",
   "metadata": {},
   "outputs": [
    {
     "data": {
      "text/plain": [
       "0     1\n",
       "1     1\n",
       "2     1\n",
       "3     1\n",
       "4     1\n",
       "5     1\n",
       "6     1\n",
       "7     1\n",
       "8     1\n",
       "9     1\n",
       "10    0\n",
       "11    0\n",
       "12    0\n",
       "13    0\n",
       "14    0\n",
       "dtype: int32"
      ]
     },
     "execution_count": 29,
     "metadata": {},
     "output_type": "execute_result"
    }
   ],
   "source": [
    "(data == \"male\").astype(np.int32)"
   ]
  },
  {
   "cell_type": "markdown",
   "id": "5efd9dd7-1e25-4a32-8715-4b7ab26c302d",
   "metadata": {},
   "source": [
    "Категориальные факторы: разбиваем по порядку\n"
   ]
  },
  {
   "cell_type": "code",
   "execution_count": 30,
   "id": "df80c7f5-70a3-45a4-9949-a77c9b6bdbcc",
   "metadata": {},
   "outputs": [
    {
     "data": {
      "text/html": [
       "<div>\n",
       "<style scoped>\n",
       "    .dataframe tbody tr th:only-of-type {\n",
       "        vertical-align: middle;\n",
       "    }\n",
       "\n",
       "    .dataframe tbody tr th {\n",
       "        vertical-align: top;\n",
       "    }\n",
       "\n",
       "    .dataframe thead th {\n",
       "        text-align: right;\n",
       "    }\n",
       "</style>\n",
       "<table border=\"1\" class=\"dataframe\">\n",
       "  <thead>\n",
       "    <tr style=\"text-align: right;\">\n",
       "      <th></th>\n",
       "      <th>0</th>\n",
       "    </tr>\n",
       "  </thead>\n",
       "  <tbody>\n",
       "    <tr>\n",
       "      <th>0</th>\n",
       "      <td>moscow</td>\n",
       "    </tr>\n",
       "    <tr>\n",
       "      <th>1</th>\n",
       "      <td>spb</td>\n",
       "    </tr>\n",
       "    <tr>\n",
       "      <th>2</th>\n",
       "      <td>moscow</td>\n",
       "    </tr>\n",
       "    <tr>\n",
       "      <th>3</th>\n",
       "      <td>spb</td>\n",
       "    </tr>\n",
       "    <tr>\n",
       "      <th>4</th>\n",
       "      <td>spb</td>\n",
       "    </tr>\n",
       "    <tr>\n",
       "      <th>5</th>\n",
       "      <td>spb</td>\n",
       "    </tr>\n",
       "    <tr>\n",
       "      <th>6</th>\n",
       "      <td>tomsk</td>\n",
       "    </tr>\n",
       "    <tr>\n",
       "      <th>7</th>\n",
       "      <td>novgorod</td>\n",
       "    </tr>\n",
       "    <tr>\n",
       "      <th>8</th>\n",
       "      <td>samara</td>\n",
       "    </tr>\n",
       "    <tr>\n",
       "      <th>9</th>\n",
       "      <td>saratov</td>\n",
       "    </tr>\n",
       "  </tbody>\n",
       "</table>\n",
       "</div>"
      ],
      "text/plain": [
       "          0\n",
       "0    moscow\n",
       "1       spb\n",
       "2    moscow\n",
       "3       spb\n",
       "4       spb\n",
       "5       spb\n",
       "6     tomsk\n",
       "7  novgorod\n",
       "8    samara\n",
       "9   saratov"
      ]
     },
     "execution_count": 30,
     "metadata": {},
     "output_type": "execute_result"
    }
   ],
   "source": [
    "from sklearn.preprocessing import OrdinalEncoder, OneHotEncoder\n",
    "\n",
    "df = pd.DataFrame([\"moscow\", \"spb\", \"moscow\", \"spb\", \"spb\", \"spb\", \"tomsk\", \"novgorod\", \"samara\", \"saratov\"])\n",
    "df"
   ]
  },
  {
   "cell_type": "code",
   "execution_count": 31,
   "id": "5e8c0002-8501-4b74-aeb9-f913b3285e33",
   "metadata": {},
   "outputs": [
    {
     "data": {
      "text/plain": [
       "array([[0.],\n",
       "       [4.],\n",
       "       [0.],\n",
       "       [4.],\n",
       "       [4.],\n",
       "       [4.],\n",
       "       [5.],\n",
       "       [1.],\n",
       "       [2.],\n",
       "       [3.]])"
      ]
     },
     "execution_count": 31,
     "metadata": {},
     "output_type": "execute_result"
    }
   ],
   "source": [
    "enc = OrdinalEncoder()\n",
    "enc.fit_transform(df)"
   ]
  },
  {
   "cell_type": "code",
   "execution_count": 32,
   "id": "7953eede-b601-4538-8f57-9f50c766e289",
   "metadata": {},
   "outputs": [
    {
     "data": {
      "text/plain": [
       "array([[0.],\n",
       "       [4.],\n",
       "       [0.],\n",
       "       [4.],\n",
       "       [4.],\n",
       "       [4.],\n",
       "       [5.],\n",
       "       [1.],\n",
       "       [2.],\n",
       "       [3.]])"
      ]
     },
     "execution_count": 32,
     "metadata": {},
     "output_type": "execute_result"
    }
   ],
   "source": [
    "enc = OrdinalEncoder()\n",
    "enc.fit_transform(df)"
   ]
  },
  {
   "cell_type": "markdown",
   "id": "9e0c4bd5-6a25-42c6-848d-7620991fdf10",
   "metadata": {},
   "source": [
    "Категориальные факторы: разбиваем на много бинарных (one hot encoding)\n",
    "\n",
    "city_is_moscow: 0/1, city_is_spb: 0/1, city_is_tomsk: 0/1 ... "
   ]
  },
  {
   "cell_type": "code",
   "execution_count": 33,
   "id": "06a71c60-938f-4f11-b39a-b654fd367ced",
   "metadata": {},
   "outputs": [
    {
     "data": {
      "text/plain": [
       "[array(['moscow', 'novgorod', 'samara', 'saratov', 'spb', 'tomsk'],\n",
       "       dtype=object)]"
      ]
     },
     "execution_count": 33,
     "metadata": {},
     "output_type": "execute_result"
    }
   ],
   "source": [
    "ohe = OneHotEncoder()\n",
    "ohe.fit(df)\n",
    "ohe.categories_"
   ]
  },
  {
   "cell_type": "code",
   "execution_count": 34,
   "id": "351f24bc-19b1-482e-a25e-f876cd815ec0",
   "metadata": {},
   "outputs": [
    {
     "data": {
      "text/html": [
       "<div>\n",
       "<style scoped>\n",
       "    .dataframe tbody tr th:only-of-type {\n",
       "        vertical-align: middle;\n",
       "    }\n",
       "\n",
       "    .dataframe tbody tr th {\n",
       "        vertical-align: top;\n",
       "    }\n",
       "\n",
       "    .dataframe thead tr th {\n",
       "        text-align: left;\n",
       "    }\n",
       "</style>\n",
       "<table border=\"1\" class=\"dataframe\">\n",
       "  <thead>\n",
       "    <tr>\n",
       "      <th></th>\n",
       "      <th>moscow</th>\n",
       "      <th>novgorod</th>\n",
       "      <th>samara</th>\n",
       "      <th>saratov</th>\n",
       "      <th>spb</th>\n",
       "      <th>tomsk</th>\n",
       "    </tr>\n",
       "  </thead>\n",
       "  <tbody>\n",
       "    <tr>\n",
       "      <th>0</th>\n",
       "      <td>1.0</td>\n",
       "      <td>0.0</td>\n",
       "      <td>0.0</td>\n",
       "      <td>0.0</td>\n",
       "      <td>0.0</td>\n",
       "      <td>0.0</td>\n",
       "    </tr>\n",
       "    <tr>\n",
       "      <th>1</th>\n",
       "      <td>0.0</td>\n",
       "      <td>0.0</td>\n",
       "      <td>0.0</td>\n",
       "      <td>0.0</td>\n",
       "      <td>1.0</td>\n",
       "      <td>0.0</td>\n",
       "    </tr>\n",
       "    <tr>\n",
       "      <th>2</th>\n",
       "      <td>1.0</td>\n",
       "      <td>0.0</td>\n",
       "      <td>0.0</td>\n",
       "      <td>0.0</td>\n",
       "      <td>0.0</td>\n",
       "      <td>0.0</td>\n",
       "    </tr>\n",
       "    <tr>\n",
       "      <th>3</th>\n",
       "      <td>0.0</td>\n",
       "      <td>0.0</td>\n",
       "      <td>0.0</td>\n",
       "      <td>0.0</td>\n",
       "      <td>1.0</td>\n",
       "      <td>0.0</td>\n",
       "    </tr>\n",
       "    <tr>\n",
       "      <th>4</th>\n",
       "      <td>0.0</td>\n",
       "      <td>0.0</td>\n",
       "      <td>0.0</td>\n",
       "      <td>0.0</td>\n",
       "      <td>1.0</td>\n",
       "      <td>0.0</td>\n",
       "    </tr>\n",
       "    <tr>\n",
       "      <th>5</th>\n",
       "      <td>0.0</td>\n",
       "      <td>0.0</td>\n",
       "      <td>0.0</td>\n",
       "      <td>0.0</td>\n",
       "      <td>1.0</td>\n",
       "      <td>0.0</td>\n",
       "    </tr>\n",
       "    <tr>\n",
       "      <th>6</th>\n",
       "      <td>0.0</td>\n",
       "      <td>0.0</td>\n",
       "      <td>0.0</td>\n",
       "      <td>0.0</td>\n",
       "      <td>0.0</td>\n",
       "      <td>1.0</td>\n",
       "    </tr>\n",
       "    <tr>\n",
       "      <th>7</th>\n",
       "      <td>0.0</td>\n",
       "      <td>1.0</td>\n",
       "      <td>0.0</td>\n",
       "      <td>0.0</td>\n",
       "      <td>0.0</td>\n",
       "      <td>0.0</td>\n",
       "    </tr>\n",
       "    <tr>\n",
       "      <th>8</th>\n",
       "      <td>0.0</td>\n",
       "      <td>0.0</td>\n",
       "      <td>1.0</td>\n",
       "      <td>0.0</td>\n",
       "      <td>0.0</td>\n",
       "      <td>0.0</td>\n",
       "    </tr>\n",
       "    <tr>\n",
       "      <th>9</th>\n",
       "      <td>0.0</td>\n",
       "      <td>0.0</td>\n",
       "      <td>0.0</td>\n",
       "      <td>1.0</td>\n",
       "      <td>0.0</td>\n",
       "      <td>0.0</td>\n",
       "    </tr>\n",
       "  </tbody>\n",
       "</table>\n",
       "</div>"
      ],
      "text/plain": [
       "  moscow novgorod samara saratov  spb tomsk\n",
       "0    1.0      0.0    0.0     0.0  0.0   0.0\n",
       "1    0.0      0.0    0.0     0.0  1.0   0.0\n",
       "2    1.0      0.0    0.0     0.0  0.0   0.0\n",
       "3    0.0      0.0    0.0     0.0  1.0   0.0\n",
       "4    0.0      0.0    0.0     0.0  1.0   0.0\n",
       "5    0.0      0.0    0.0     0.0  1.0   0.0\n",
       "6    0.0      0.0    0.0     0.0  0.0   1.0\n",
       "7    0.0      1.0    0.0     0.0  0.0   0.0\n",
       "8    0.0      0.0    1.0     0.0  0.0   0.0\n",
       "9    0.0      0.0    0.0     1.0  0.0   0.0"
      ]
     },
     "execution_count": 34,
     "metadata": {},
     "output_type": "execute_result"
    }
   ],
   "source": [
    "pd.DataFrame(ohe.transform(df).toarray(), columns=ohe.categories_)"
   ]
  },
  {
   "cell_type": "code",
   "execution_count": 35,
   "id": "676fc95b-dba2-431c-ba5e-6a816a60c465",
   "metadata": {},
   "outputs": [
    {
     "data": {
      "text/html": [
       "<div>\n",
       "<style scoped>\n",
       "    .dataframe tbody tr th:only-of-type {\n",
       "        vertical-align: middle;\n",
       "    }\n",
       "\n",
       "    .dataframe tbody tr th {\n",
       "        vertical-align: top;\n",
       "    }\n",
       "\n",
       "    .dataframe thead th {\n",
       "        text-align: right;\n",
       "    }\n",
       "</style>\n",
       "<table border=\"1\" class=\"dataframe\">\n",
       "  <thead>\n",
       "    <tr style=\"text-align: right;\">\n",
       "      <th></th>\n",
       "      <th>0_moscow</th>\n",
       "      <th>0_novgorod</th>\n",
       "      <th>0_samara</th>\n",
       "      <th>0_saratov</th>\n",
       "      <th>0_spb</th>\n",
       "      <th>0_tomsk</th>\n",
       "    </tr>\n",
       "  </thead>\n",
       "  <tbody>\n",
       "    <tr>\n",
       "      <th>0</th>\n",
       "      <td>1</td>\n",
       "      <td>0</td>\n",
       "      <td>0</td>\n",
       "      <td>0</td>\n",
       "      <td>0</td>\n",
       "      <td>0</td>\n",
       "    </tr>\n",
       "    <tr>\n",
       "      <th>1</th>\n",
       "      <td>0</td>\n",
       "      <td>0</td>\n",
       "      <td>0</td>\n",
       "      <td>0</td>\n",
       "      <td>1</td>\n",
       "      <td>0</td>\n",
       "    </tr>\n",
       "    <tr>\n",
       "      <th>2</th>\n",
       "      <td>1</td>\n",
       "      <td>0</td>\n",
       "      <td>0</td>\n",
       "      <td>0</td>\n",
       "      <td>0</td>\n",
       "      <td>0</td>\n",
       "    </tr>\n",
       "    <tr>\n",
       "      <th>3</th>\n",
       "      <td>0</td>\n",
       "      <td>0</td>\n",
       "      <td>0</td>\n",
       "      <td>0</td>\n",
       "      <td>1</td>\n",
       "      <td>0</td>\n",
       "    </tr>\n",
       "    <tr>\n",
       "      <th>4</th>\n",
       "      <td>0</td>\n",
       "      <td>0</td>\n",
       "      <td>0</td>\n",
       "      <td>0</td>\n",
       "      <td>1</td>\n",
       "      <td>0</td>\n",
       "    </tr>\n",
       "    <tr>\n",
       "      <th>5</th>\n",
       "      <td>0</td>\n",
       "      <td>0</td>\n",
       "      <td>0</td>\n",
       "      <td>0</td>\n",
       "      <td>1</td>\n",
       "      <td>0</td>\n",
       "    </tr>\n",
       "    <tr>\n",
       "      <th>6</th>\n",
       "      <td>0</td>\n",
       "      <td>0</td>\n",
       "      <td>0</td>\n",
       "      <td>0</td>\n",
       "      <td>0</td>\n",
       "      <td>1</td>\n",
       "    </tr>\n",
       "    <tr>\n",
       "      <th>7</th>\n",
       "      <td>0</td>\n",
       "      <td>1</td>\n",
       "      <td>0</td>\n",
       "      <td>0</td>\n",
       "      <td>0</td>\n",
       "      <td>0</td>\n",
       "    </tr>\n",
       "    <tr>\n",
       "      <th>8</th>\n",
       "      <td>0</td>\n",
       "      <td>0</td>\n",
       "      <td>1</td>\n",
       "      <td>0</td>\n",
       "      <td>0</td>\n",
       "      <td>0</td>\n",
       "    </tr>\n",
       "    <tr>\n",
       "      <th>9</th>\n",
       "      <td>0</td>\n",
       "      <td>0</td>\n",
       "      <td>0</td>\n",
       "      <td>1</td>\n",
       "      <td>0</td>\n",
       "      <td>0</td>\n",
       "    </tr>\n",
       "  </tbody>\n",
       "</table>\n",
       "</div>"
      ],
      "text/plain": [
       "   0_moscow  0_novgorod  0_samara  0_saratov  0_spb  0_tomsk\n",
       "0         1           0         0          0      0        0\n",
       "1         0           0         0          0      1        0\n",
       "2         1           0         0          0      0        0\n",
       "3         0           0         0          0      1        0\n",
       "4         0           0         0          0      1        0\n",
       "5         0           0         0          0      1        0\n",
       "6         0           0         0          0      0        1\n",
       "7         0           1         0          0      0        0\n",
       "8         0           0         1          0      0        0\n",
       "9         0           0         0          1      0        0"
      ]
     },
     "execution_count": 35,
     "metadata": {},
     "output_type": "execute_result"
    }
   ],
   "source": [
    "pd.get_dummies(df)"
   ]
  },
  {
   "cell_type": "markdown",
   "id": "4ac6376d-7104-47ec-9145-1b990a83ab04",
   "metadata": {},
   "source": [
    "Цикличные факторы: время дня => позиция на циферблате => sin, cos угла"
   ]
  },
  {
   "cell_type": "markdown",
   "id": "77eaa6ac-9c12-4927-a822-b53bd93fe492",
   "metadata": {},
   "source": [
    "# Создание новых признаков"
   ]
  },
  {
   "cell_type": "markdown",
   "id": "e8febd74-ba38-4fbe-ad6a-0b8a0763f3f6",
   "metadata": {},
   "source": [
    "Полиномиальные признаки"
   ]
  },
  {
   "cell_type": "code",
   "execution_count": 36,
   "id": "50f5925c-22c8-4899-9ff5-2dd2abbf8dfe",
   "metadata": {},
   "outputs": [],
   "source": [
    "from sklearn.preprocessing import PolynomialFeatures"
   ]
  },
  {
   "cell_type": "code",
   "execution_count": 37,
   "id": "0c66baa7-de9a-449b-9433-2d4cca7b8876",
   "metadata": {},
   "outputs": [
    {
     "data": {
      "text/plain": [
       "array([[0, 1],\n",
       "       [2, 3],\n",
       "       [4, 5]])"
      ]
     },
     "execution_count": 37,
     "metadata": {},
     "output_type": "execute_result"
    }
   ],
   "source": [
    "X = np.arange(6).reshape(3, 2)\n",
    "X"
   ]
  },
  {
   "cell_type": "code",
   "execution_count": 38,
   "id": "c86a0668-e323-409d-bd54-8cbdb1947a2e",
   "metadata": {},
   "outputs": [
    {
     "data": {
      "text/plain": [
       "array([[ 1.,  0.,  1.,  0.,  0.,  1.],\n",
       "       [ 1.,  2.,  3.,  4.,  6.,  9.],\n",
       "       [ 1.,  4.,  5., 16., 20., 25.]])"
      ]
     },
     "execution_count": 38,
     "metadata": {},
     "output_type": "execute_result"
    }
   ],
   "source": [
    "poly = PolynomialFeatures(2)\n",
    "poly.fit_transform(X)"
   ]
  },
  {
   "cell_type": "markdown",
   "id": "ac69912d-ee40-457f-b00a-cd27e098bd87",
   "metadata": {},
   "source": [
    "Другие преобразования: sin x, ln x"
   ]
  },
  {
   "cell_type": "markdown",
   "id": "32aa6592-4735-49b9-8e86-251e90c57ec8",
   "metadata": {},
   "source": [
    "Дискретизация и группировка по интервалам"
   ]
  },
  {
   "cell_type": "code",
   "execution_count": 39,
   "id": "3aa1155a-4039-4cfd-b688-74e8090b8311",
   "metadata": {},
   "outputs": [
    {
     "data": {
      "text/plain": [
       "array([[<AxesSubplot:title={'center':'0'}>]], dtype=object)"
      ]
     },
     "execution_count": 39,
     "metadata": {},
     "output_type": "execute_result"
    },
    {
     "data": {
      "image/png": "[encoded data removed]",
      "text/plain": [
       "<Figure size 640x480 with 1 Axes>"
      ]
     },
     "metadata": {},
     "output_type": "display_data"
    }
   ],
   "source": [
    "ages = [20, 22, 25, 27, 21, 23, 37, 31, 61, 45, 41, 32]\n",
    "pd.DataFrame(ages).hist()"
   ]
  },
  {
   "cell_type": "code",
   "execution_count": 40,
   "id": "dca07e95-cb46-4c96-ac2e-6362f21a2369",
   "metadata": {},
   "outputs": [
    {
     "data": {
      "text/plain": [
       "[(18, 25], (18, 25], (18, 25], (25, 35], (18, 25], ..., (25, 35], (60, 100], (35, 60], (35, 60], (25, 35]]\n",
       "Length: 12\n",
       "Categories (4, interval[int64, right]): [(18, 25] < (25, 35] < (35, 60] < (60, 100]]"
      ]
     },
     "execution_count": 40,
     "metadata": {},
     "output_type": "execute_result"
    }
   ],
   "source": [
    "bins = [18, 25, 35, 60, 100]\n",
    "age_categories = pd.cut(ages, bins)\n",
    "age_categories"
   ]
  },
  {
   "cell_type": "code",
   "execution_count": 41,
   "id": "baa240fe-6b8c-448b-b4da-18d031483166",
   "metadata": {},
   "outputs": [
    {
     "data": {
      "text/plain": [
       "array([0, 0, 0, 1, 0, 0, 2, 1, 3, 2, 2, 1], dtype=int8)"
      ]
     },
     "execution_count": 41,
     "metadata": {},
     "output_type": "execute_result"
    }
   ],
   "source": [
    "age_categories.codes"
   ]
  },
  {
   "cell_type": "markdown",
   "id": "585a6212-f38e-4075-9e22-4db4f63ff738",
   "metadata": {},
   "source": [
    "# Преобразование данных"
   ]
  },
  {
   "cell_type": "markdown",
   "id": "2d222c6f-ee6e-4041-9e8b-c25a50398a26",
   "metadata": {},
   "source": [
    "Приведение к единой шкале: StandardScaler, MinMaxScaler"
   ]
  },
  {
   "cell_type": "code",
   "execution_count": 42,
   "id": "b92a017c-843a-4bcf-afba-285402875a54",
   "metadata": {},
   "outputs": [
    {
     "data": {
      "text/plain": [
       "array([[0.  , 0.  ],\n",
       "       [0.25, 0.25],\n",
       "       [0.5 , 0.5 ],\n",
       "       [1.  , 1.  ]])"
      ]
     },
     "execution_count": 42,
     "metadata": {},
     "output_type": "execute_result"
    }
   ],
   "source": [
    "from sklearn.preprocessing import MinMaxScaler, StandardScaler\n",
    "data = [[-1, 2], [-0.5, 6], [0, 10], [1, 18]]\n",
    "scaler = MinMaxScaler()\n",
    "scaler.fit_transform(data)"
   ]
  },
  {
   "cell_type": "code",
   "execution_count": 43,
   "id": "ef46712e-8843-4541-be10-8d70f8ecfbaf",
   "metadata": {},
   "outputs": [
    {
     "data": {
      "text/plain": [
       "array([[-1.18321596, -1.18321596],\n",
       "       [-0.50709255, -0.50709255],\n",
       "       [ 0.16903085,  0.16903085],\n",
       "       [ 1.52127766,  1.52127766]])"
      ]
     },
     "execution_count": 43,
     "metadata": {},
     "output_type": "execute_result"
    }
   ],
   "source": [
    "scaler = StandardScaler()\n",
    "scaler.fit_transform(data)"
   ]
  },
  {
   "cell_type": "markdown",
   "id": "6bcbefe2-9c43-49e3-b8df-573e62d6423b",
   "metadata": {},
   "source": [
    "Логарифмирование, преобразование Бокса-Кокса"
   ]
  },
  {
   "cell_type": "code",
   "execution_count": 44,
   "id": "604e42de-1f57-41bf-ab4a-593edeeb7590",
   "metadata": {},
   "outputs": [
    {
     "name": "stderr",
     "output_type": "stream",
     "text": [
      "C:\\Users\\feday\\anaconda3\\lib\\site-packages\\seaborn\\distributions.py:2619: FutureWarning: `distplot` is a deprecated function and will be removed in a future version. Please adapt your code to use either `displot` (a figure-level function with similar flexibility) or `kdeplot` (an axes-level function for kernel density plots).\n",
      "  warnings.warn(msg, FutureWarning)\n"
     ]
    },
    {
     "data": {
      "text/plain": [
       "<AxesSubplot:ylabel='Density'>"
      ]
     },
     "execution_count": 44,
     "metadata": {},
     "output_type": "execute_result"
    },
    {
     "data": {
      "image/png": "[encoded data removed]",
      "text/plain": [
       "<Figure size 640x480 with 1 Axes>"
      ]
     },
     "metadata": {},
     "output_type": "display_data"
    }
   ],
   "source": [
    "from scipy. stats import boxcox \n",
    "\n",
    "data = np.random.exponential(size= 1000)\n",
    "sns.distplot(data, hist= False, kde= True)"
   ]
  },
  {
   "cell_type": "code",
   "execution_count": 45,
   "id": "96781df3-e5ab-46e9-87bb-22a22e307dbb",
   "metadata": {},
   "outputs": [
    {
     "name": "stderr",
     "output_type": "stream",
     "text": [
      "C:\\Users\\feday\\anaconda3\\lib\\site-packages\\seaborn\\distributions.py:2619: FutureWarning: `distplot` is a deprecated function and will be removed in a future version. Please adapt your code to use either `displot` (a figure-level function with similar flexibility) or `kdeplot` (an axes-level function for kernel density plots).\n",
      "  warnings.warn(msg, FutureWarning)\n"
     ]
    },
    {
     "data": {
      "text/plain": [
       "<AxesSubplot:ylabel='Density'>"
      ]
     },
     "execution_count": 45,
     "metadata": {},
     "output_type": "execute_result"
    },
    {
     "data": {
      "image/png": "[encoded data removed]",
      "text/plain": [
       "<Figure size 640x480 with 1 Axes>"
      ]
     },
     "metadata": {},
     "output_type": "display_data"
    }
   ],
   "source": [
    "transformed_data = np.log(data) \n",
    "sns.distplot(transformed_data, hist=False, kde=True)"
   ]
  },
  {
   "cell_type": "code",
   "execution_count": 46,
   "id": "9a13da8f-35f1-4d08-bc3a-3fb90b302bc2",
   "metadata": {},
   "outputs": [
    {
     "name": "stderr",
     "output_type": "stream",
     "text": [
      "C:\\Users\\feday\\anaconda3\\lib\\site-packages\\seaborn\\distributions.py:2619: FutureWarning: `distplot` is a deprecated function and will be removed in a future version. Please adapt your code to use either `displot` (a figure-level function with similar flexibility) or `kdeplot` (an axes-level function for kernel density plots).\n",
      "  warnings.warn(msg, FutureWarning)\n"
     ]
    },
    {
     "data": {
      "text/plain": [
       "<AxesSubplot:ylabel='Density'>"
      ]
     },
     "execution_count": 46,
     "metadata": {},
     "output_type": "execute_result"
    },
    {
     "data": {
      "image/png": "[encoded data removed]",
      "text/plain": [
       "<Figure size 640x480 with 1 Axes>"
      ]
     },
     "metadata": {},
     "output_type": "display_data"
    }
   ],
   "source": [
    "transformed_data, best_lambda = boxcox(data) \n",
    "\n",
    "sns.distplot(transformed_data, hist=False , kde=True)"
   ]
  },
  {
   "cell_type": "code",
   "execution_count": 47,
   "id": "e5cdd77b-ad3f-496c-9263-055f4caa1bc9",
   "metadata": {},
   "outputs": [
    {
     "data": {
      "text/plain": [
       "0.28151344971741415"
      ]
     },
     "execution_count": 47,
     "metadata": {},
     "output_type": "execute_result"
    }
   ],
   "source": [
    "best_lambda"
   ]
  },
  {
   "cell_type": "markdown",
   "id": "682fe102-6387-40c9-9dd1-51ce07fdf058",
   "metadata": {},
   "source": [
    "# Домашнее задание"
   ]
  },
  {
   "cell_type": "code",
   "execution_count": 48,
   "id": "b4fde0e8-d4c8-4c23-99d9-2d84a69425a6",
   "metadata": {},
   "outputs": [],
   "source": [
    "df = pd.read_csv(\"https://raw.githubusercontent.com/katarina74/ml_lessons/main/lesson_2/data/techparams_train.csv\")"
   ]
  },
  {
   "cell_type": "code",
   "execution_count": 49,
   "id": "2458e2b0-dbac-4061-8c54-6522aad198be",
   "metadata": {},
   "outputs": [
    {
     "data": {
      "text/html": [
       "<div>\n",
       "<style scoped>\n",
       "    .dataframe tbody tr th:only-of-type {\n",
       "        vertical-align: middle;\n",
       "    }\n",
       "\n",
       "    .dataframe tbody tr th {\n",
       "        vertical-align: top;\n",
       "    }\n",
       "\n",
       "    .dataframe thead th {\n",
       "        text-align: right;\n",
       "    }\n",
       "</style>\n",
       "<table border=\"1\" class=\"dataframe\">\n",
       "  <thead>\n",
       "    <tr style=\"text-align: right;\">\n",
       "      <th></th>\n",
       "      <th>index</th>\n",
       "      <th>back-suspension</th>\n",
       "      <th>battery-capacity</th>\n",
       "      <th>charge-time</th>\n",
       "      <th>compression</th>\n",
       "      <th>consumption-mixed</th>\n",
       "      <th>cylinders-order</th>\n",
       "      <th>cylinders-value</th>\n",
       "      <th>engine-feeding</th>\n",
       "      <th>engine-start</th>\n",
       "      <th>...</th>\n",
       "      <th>configurations_front-brake</th>\n",
       "      <th>configurations_safety-rating</th>\n",
       "      <th>configurations_seats</th>\n",
       "      <th>configurations_tank-volume</th>\n",
       "      <th>supergen_year-stop</th>\n",
       "      <th>models_country-from</th>\n",
       "      <th>models_group</th>\n",
       "      <th>models_light-and-commercial</th>\n",
       "      <th>models_male</th>\n",
       "      <th>target</th>\n",
       "    </tr>\n",
       "  </thead>\n",
       "  <tbody>\n",
       "    <tr>\n",
       "      <th>0</th>\n",
       "      <td>0</td>\n",
       "      <td>9</td>\n",
       "      <td>-1.0</td>\n",
       "      <td>36457</td>\n",
       "      <td>9.0</td>\n",
       "      <td>4.3</td>\n",
       "      <td>0</td>\n",
       "      <td>3</td>\n",
       "      <td>4</td>\n",
       "      <td>2006</td>\n",
       "      <td>...</td>\n",
       "      <td>1</td>\n",
       "      <td>2</td>\n",
       "      <td>13</td>\n",
       "      <td>40.0</td>\n",
       "      <td>2018.0</td>\n",
       "      <td>16</td>\n",
       "      <td>3</td>\n",
       "      <td>0</td>\n",
       "      <td>1</td>\n",
       "      <td>2360</td>\n",
       "    </tr>\n",
       "    <tr>\n",
       "      <th>1</th>\n",
       "      <td>2</td>\n",
       "      <td>3</td>\n",
       "      <td>-1.0</td>\n",
       "      <td>44872</td>\n",
       "      <td>8.0</td>\n",
       "      <td>-1.0</td>\n",
       "      <td>3</td>\n",
       "      <td>7</td>\n",
       "      <td>4</td>\n",
       "      <td>1982</td>\n",
       "      <td>...</td>\n",
       "      <td>4</td>\n",
       "      <td>2</td>\n",
       "      <td>13</td>\n",
       "      <td>108.0</td>\n",
       "      <td>1993.0</td>\n",
       "      <td>34</td>\n",
       "      <td>3</td>\n",
       "      <td>0</td>\n",
       "      <td>1</td>\n",
       "      <td>3060</td>\n",
       "    </tr>\n",
       "    <tr>\n",
       "      <th>2</th>\n",
       "      <td>4</td>\n",
       "      <td>3</td>\n",
       "      <td>-1.0</td>\n",
       "      <td>55927</td>\n",
       "      <td>16.0</td>\n",
       "      <td>4.2</td>\n",
       "      <td>0</td>\n",
       "      <td>4</td>\n",
       "      <td>5</td>\n",
       "      <td>2014</td>\n",
       "      <td>...</td>\n",
       "      <td>4</td>\n",
       "      <td>2</td>\n",
       "      <td>13</td>\n",
       "      <td>55.0</td>\n",
       "      <td>2019.0</td>\n",
       "      <td>35</td>\n",
       "      <td>3</td>\n",
       "      <td>0</td>\n",
       "      <td>1</td>\n",
       "      <td>2648</td>\n",
       "    </tr>\n",
       "    <tr>\n",
       "      <th>3</th>\n",
       "      <td>5</td>\n",
       "      <td>0</td>\n",
       "      <td>-1.0</td>\n",
       "      <td>41405</td>\n",
       "      <td>10.3</td>\n",
       "      <td>-1.0</td>\n",
       "      <td>0</td>\n",
       "      <td>4</td>\n",
       "      <td>4</td>\n",
       "      <td>2000</td>\n",
       "      <td>...</td>\n",
       "      <td>4</td>\n",
       "      <td>2</td>\n",
       "      <td>13</td>\n",
       "      <td>55.0</td>\n",
       "      <td>2003.0</td>\n",
       "      <td>10</td>\n",
       "      <td>3</td>\n",
       "      <td>0</td>\n",
       "      <td>1</td>\n",
       "      <td>2513</td>\n",
       "    </tr>\n",
       "    <tr>\n",
       "      <th>4</th>\n",
       "      <td>7</td>\n",
       "      <td>8</td>\n",
       "      <td>-1.0</td>\n",
       "      <td>22523</td>\n",
       "      <td>19.0</td>\n",
       "      <td>-1.0</td>\n",
       "      <td>0</td>\n",
       "      <td>4</td>\n",
       "      <td>8</td>\n",
       "      <td>2000</td>\n",
       "      <td>...</td>\n",
       "      <td>4</td>\n",
       "      <td>1</td>\n",
       "      <td>13</td>\n",
       "      <td>62.0</td>\n",
       "      <td>2005.0</td>\n",
       "      <td>10</td>\n",
       "      <td>3</td>\n",
       "      <td>0</td>\n",
       "      <td>1</td>\n",
       "      <td>2703</td>\n",
       "    </tr>\n",
       "    <tr>\n",
       "      <th>...</th>\n",
       "      <td>...</td>\n",
       "      <td>...</td>\n",
       "      <td>...</td>\n",
       "      <td>...</td>\n",
       "      <td>...</td>\n",
       "      <td>...</td>\n",
       "      <td>...</td>\n",
       "      <td>...</td>\n",
       "      <td>...</td>\n",
       "      <td>...</td>\n",
       "      <td>...</td>\n",
       "      <td>...</td>\n",
       "      <td>...</td>\n",
       "      <td>...</td>\n",
       "      <td>...</td>\n",
       "      <td>...</td>\n",
       "      <td>...</td>\n",
       "      <td>...</td>\n",
       "      <td>...</td>\n",
       "      <td>...</td>\n",
       "      <td>...</td>\n",
       "    </tr>\n",
       "    <tr>\n",
       "      <th>43240</th>\n",
       "      <td>61224</td>\n",
       "      <td>9</td>\n",
       "      <td>-1.0</td>\n",
       "      <td>34558</td>\n",
       "      <td>11.2</td>\n",
       "      <td>6.6</td>\n",
       "      <td>0</td>\n",
       "      <td>4</td>\n",
       "      <td>4</td>\n",
       "      <td>2004</td>\n",
       "      <td>...</td>\n",
       "      <td>1</td>\n",
       "      <td>2</td>\n",
       "      <td>13</td>\n",
       "      <td>47.0</td>\n",
       "      <td>2016.0</td>\n",
       "      <td>15</td>\n",
       "      <td>3</td>\n",
       "      <td>0</td>\n",
       "      <td>1</td>\n",
       "      <td>2510</td>\n",
       "    </tr>\n",
       "    <tr>\n",
       "      <th>43241</th>\n",
       "      <td>61225</td>\n",
       "      <td>3</td>\n",
       "      <td>-1.0</td>\n",
       "      <td>38268</td>\n",
       "      <td>9.6</td>\n",
       "      <td>5.8</td>\n",
       "      <td>0</td>\n",
       "      <td>4</td>\n",
       "      <td>2</td>\n",
       "      <td>2013</td>\n",
       "      <td>...</td>\n",
       "      <td>4</td>\n",
       "      <td>2</td>\n",
       "      <td>13</td>\n",
       "      <td>65.0</td>\n",
       "      <td>2015.0</td>\n",
       "      <td>10</td>\n",
       "      <td>3</td>\n",
       "      <td>0</td>\n",
       "      <td>1</td>\n",
       "      <td>2808</td>\n",
       "    </tr>\n",
       "    <tr>\n",
       "      <th>43242</th>\n",
       "      <td>61226</td>\n",
       "      <td>3</td>\n",
       "      <td>-1.0</td>\n",
       "      <td>8958</td>\n",
       "      <td>10.0</td>\n",
       "      <td>9.3</td>\n",
       "      <td>0</td>\n",
       "      <td>4</td>\n",
       "      <td>4</td>\n",
       "      <td>1991</td>\n",
       "      <td>...</td>\n",
       "      <td>4</td>\n",
       "      <td>2</td>\n",
       "      <td>13</td>\n",
       "      <td>55.0</td>\n",
       "      <td>1999.0</td>\n",
       "      <td>16</td>\n",
       "      <td>3</td>\n",
       "      <td>0</td>\n",
       "      <td>1</td>\n",
       "      <td>2520</td>\n",
       "    </tr>\n",
       "    <tr>\n",
       "      <th>43243</th>\n",
       "      <td>61227</td>\n",
       "      <td>3</td>\n",
       "      <td>-1.0</td>\n",
       "      <td>20293</td>\n",
       "      <td>8.5</td>\n",
       "      <td>-1.0</td>\n",
       "      <td>0</td>\n",
       "      <td>5</td>\n",
       "      <td>4</td>\n",
       "      <td>2002</td>\n",
       "      <td>...</td>\n",
       "      <td>1</td>\n",
       "      <td>2</td>\n",
       "      <td>13</td>\n",
       "      <td>70.0</td>\n",
       "      <td>2004.0</td>\n",
       "      <td>28</td>\n",
       "      <td>3</td>\n",
       "      <td>0</td>\n",
       "      <td>1</td>\n",
       "      <td>2755</td>\n",
       "    </tr>\n",
       "    <tr>\n",
       "      <th>43244</th>\n",
       "      <td>61228</td>\n",
       "      <td>10</td>\n",
       "      <td>-1.0</td>\n",
       "      <td>52459</td>\n",
       "      <td>8.6</td>\n",
       "      <td>-1.0</td>\n",
       "      <td>0</td>\n",
       "      <td>4</td>\n",
       "      <td>4</td>\n",
       "      <td>1982</td>\n",
       "      <td>...</td>\n",
       "      <td>1</td>\n",
       "      <td>2</td>\n",
       "      <td>8</td>\n",
       "      <td>-1.0</td>\n",
       "      <td>1987.0</td>\n",
       "      <td>16</td>\n",
       "      <td>3</td>\n",
       "      <td>0</td>\n",
       "      <td>0</td>\n",
       "      <td>2620</td>\n",
       "    </tr>\n",
       "  </tbody>\n",
       "</table>\n",
       "<p>43245 rows × 32 columns</p>\n",
       "</div>"
      ],
      "text/plain": [
       "       index  back-suspension  battery-capacity  charge-time  compression  \\\n",
       "0          0                9              -1.0        36457          9.0   \n",
       "1          2                3              -1.0        44872          8.0   \n",
       "2          4                3              -1.0        55927         16.0   \n",
       "3          5                0              -1.0        41405         10.3   \n",
       "4          7                8              -1.0        22523         19.0   \n",
       "...      ...              ...               ...          ...          ...   \n",
       "43240  61224                9              -1.0        34558         11.2   \n",
       "43241  61225                3              -1.0        38268          9.6   \n",
       "43242  61226                3              -1.0         8958         10.0   \n",
       "43243  61227                3              -1.0        20293          8.5   \n",
       "43244  61228               10              -1.0        52459          8.6   \n",
       "\n",
       "       consumption-mixed  cylinders-order  cylinders-value  engine-feeding  \\\n",
       "0                    4.3                0                3               4   \n",
       "1                   -1.0                3                7               4   \n",
       "2                    4.2                0                4               5   \n",
       "3                   -1.0                0                4               4   \n",
       "4                   -1.0                0                4               8   \n",
       "...                  ...              ...              ...             ...   \n",
       "43240                6.6                0                4               4   \n",
       "43241                5.8                0                4               2   \n",
       "43242                9.3                0                4               4   \n",
       "43243               -1.0                0                5               4   \n",
       "43244               -1.0                0                4               4   \n",
       "\n",
       "       engine-start  ...  configurations_front-brake  \\\n",
       "0              2006  ...                           1   \n",
       "1              1982  ...                           4   \n",
       "2              2014  ...                           4   \n",
       "3              2000  ...                           4   \n",
       "4              2000  ...                           4   \n",
       "...             ...  ...                         ...   \n",
       "43240          2004  ...                           1   \n",
       "43241          2013  ...                           4   \n",
       "43242          1991  ...                           4   \n",
       "43243          2002  ...                           1   \n",
       "43244          1982  ...                           1   \n",
       "\n",
       "       configurations_safety-rating  configurations_seats  \\\n",
       "0                                 2                    13   \n",
       "1                                 2                    13   \n",
       "2                                 2                    13   \n",
       "3                                 2                    13   \n",
       "4                                 1                    13   \n",
       "...                             ...                   ...   \n",
       "43240                             2                    13   \n",
       "43241                             2                    13   \n",
       "43242                             2                    13   \n",
       "43243                             2                    13   \n",
       "43244                             2                     8   \n",
       "\n",
       "       configurations_tank-volume  supergen_year-stop  models_country-from  \\\n",
       "0                            40.0              2018.0                   16   \n",
       "1                           108.0              1993.0                   34   \n",
       "2                            55.0              2019.0                   35   \n",
       "3                            55.0              2003.0                   10   \n",
       "4                            62.0              2005.0                   10   \n",
       "...                           ...                 ...                  ...   \n",
       "43240                        47.0              2016.0                   15   \n",
       "43241                        65.0              2015.0                   10   \n",
       "43242                        55.0              1999.0                   16   \n",
       "43243                        70.0              2004.0                   28   \n",
       "43244                        -1.0              1987.0                   16   \n",
       "\n",
       "       models_group  models_light-and-commercial  models_male  target  \n",
       "0                 3                            0            1    2360  \n",
       "1                 3                            0            1    3060  \n",
       "2                 3                            0            1    2648  \n",
       "3                 3                            0            1    2513  \n",
       "4                 3                            0            1    2703  \n",
       "...             ...                          ...          ...     ...  \n",
       "43240             3                            0            1    2510  \n",
       "43241             3                            0            1    2808  \n",
       "43242             3                            0            1    2520  \n",
       "43243             3                            0            1    2755  \n",
       "43244             3                            0            0    2620  \n",
       "\n",
       "[43245 rows x 32 columns]"
      ]
     },
     "execution_count": 49,
     "metadata": {},
     "output_type": "execute_result"
    }
   ],
   "source": [
    "df"
   ]
  },
  {
   "cell_type": "markdown",
   "id": "fdbe8986-3152-4eee-bc60-a83551afee1e",
   "metadata": {},
   "source": [
    "Данные: технические характеристики разных конфигураций автомобилей\n",
    "\n",
    "Таргет: длина колесной базы конфигурации (в миллиметрах)."
   ]
  },
  {
   "cell_type": "markdown",
   "id": "bc8d20f3-a6db-4e6c-be0c-d92bfbd393af",
   "metadata": {},
   "source": [
    "## Baseline"
   ]
  },
  {
   "cell_type": "code",
   "execution_count": 50,
   "id": "22039f8f-d6d8-4998-8ec1-3b83facf013f",
   "metadata": {},
   "outputs": [],
   "source": [
    "from sklearn.model_selection import train_test_split\n",
    "from sklearn.linear_model import LinearRegression\n",
    "from sklearn.metrics import mean_squared_error\n",
    "from sklearn.model_selection import cross_validate"
   ]
  },
  {
   "cell_type": "code",
   "execution_count": 90,
   "id": "261c2445-1dd7-465c-8d43-54556629ff7c",
   "metadata": {},
   "outputs": [],
   "source": [
    "X = df.iloc[:,1:].drop([\"target\"], axis=1)\n",
    "y = df[[\"target\"]]\n",
    "train_X, test_X, train_y, test_y = train_test_split(X, y, test_size=0.33, random_state=42)"
   ]
  },
  {
   "cell_type": "code",
   "execution_count": 52,
   "id": "9b2185ba-3b32-4aa6-bcde-6979aa1f3cdb",
   "metadata": {},
   "outputs": [],
   "source": [
    "reg = LinearRegression().fit(train_X, train_y)"
   ]
  },
  {
   "cell_type": "code",
   "execution_count": 53,
   "id": "0c088b49-4516-4abb-820a-aadaaf26b8c5",
   "metadata": {},
   "outputs": [
    {
     "data": {
      "text/plain": [
       "0.4555406785040049"
      ]
     },
     "execution_count": 53,
     "metadata": {},
     "output_type": "execute_result"
    }
   ],
   "source": [
    "reg.score(train_X, train_y)"
   ]
  },
  {
   "cell_type": "code",
   "execution_count": 54,
   "id": "06bd1b1d-3d5a-4c8b-aaf2-db6167e88c38",
   "metadata": {},
   "outputs": [
    {
     "data": {
      "text/plain": [
       "29840.121250865293"
      ]
     },
     "execution_count": 54,
     "metadata": {},
     "output_type": "execute_result"
    }
   ],
   "source": [
    "mean_squared_error(reg.predict(train_X), train_y)"
   ]
  },
  {
   "cell_type": "code",
   "execution_count": 55,
   "id": "c585389b-8f2a-43c2-82bc-54ce4b2567f8",
   "metadata": {},
   "outputs": [],
   "source": [
    "scores = cross_validate(reg, train_X, train_y, cv=3, \n",
    "                        scoring=('neg_mean_squared_error'))"
   ]
  },
  {
   "cell_type": "code",
   "execution_count": 56,
   "id": "270f6960-1a6b-40f7-b096-8c1a6f28d1e1",
   "metadata": {},
   "outputs": [
    {
     "data": {
      "text/plain": [
       "{'fit_time': array([0.05385351, 0.04588246, 0.04786992]),\n",
       " 'score_time': array([0.00997353, 0.00997257, 0.01296353]),\n",
       " 'test_score': array([-29836.8590711 , -29618.75539266, -30344.6536926 ])}"
      ]
     },
     "execution_count": 56,
     "metadata": {},
     "output_type": "execute_result"
    }
   ],
   "source": [
    "scores"
   ]
  },
  {
   "cell_type": "code",
   "execution_count": 57,
   "id": "5d643c2b-41f4-47c8-8eb8-3c2d8aba6a33",
   "metadata": {},
   "outputs": [
    {
     "data": {
      "text/plain": [
       "31021.024399854425"
      ]
     },
     "execution_count": 57,
     "metadata": {},
     "output_type": "execute_result"
    }
   ],
   "source": [
    "mean_squared_error(reg.predict(test_X), test_y)"
   ]
  },
  {
   "cell_type": "code",
   "execution_count": 58,
   "id": "0a52517d-4ce1-49da-97af-4bfcfa996382",
   "metadata": {},
   "outputs": [
    {
     "name": "stdout",
     "output_type": "stream",
     "text": [
      "<class 'pandas.core.frame.DataFrame'>\n",
      "RangeIndex: 43245 entries, 0 to 43244\n",
      "Data columns (total 32 columns):\n",
      " #   Column                          Non-Null Count  Dtype  \n",
      "---  ------                          --------------  -----  \n",
      " 0   index                           43245 non-null  int64  \n",
      " 1   back-suspension                 43245 non-null  int64  \n",
      " 2   battery-capacity                43245 non-null  float64\n",
      " 3   charge-time                     43245 non-null  int64  \n",
      " 4   compression                     43245 non-null  float64\n",
      " 5   consumption-mixed               43245 non-null  float64\n",
      " 6   cylinders-order                 43245 non-null  int64  \n",
      " 7   cylinders-value                 43245 non-null  int64  \n",
      " 8   engine-feeding                  43245 non-null  int64  \n",
      " 9   engine-start                    43245 non-null  int64  \n",
      " 10  engine-stop                     43245 non-null  int64  \n",
      " 11  engine-type                     43245 non-null  int64  \n",
      " 12  gear-type                       43245 non-null  int64  \n",
      " 13  luxury                          43245 non-null  int64  \n",
      " 14  max-speed                       43245 non-null  float64\n",
      " 15  power-electro-kw                43245 non-null  float64\n",
      " 16  supply-system                   43245 non-null  int64  \n",
      " 17  valves                          43245 non-null  int64  \n",
      " 18  valvetrain                      43245 non-null  int64  \n",
      " 19  weight                          43245 non-null  float64\n",
      " 20  configurations_auto-premiere    43245 non-null  int64  \n",
      " 21  configurations_back-wheel-base  43245 non-null  float64\n",
      " 22  configurations_front-brake      43245 non-null  int64  \n",
      " 23  configurations_safety-rating    43245 non-null  int64  \n",
      " 24  configurations_seats            43245 non-null  int64  \n",
      " 25  configurations_tank-volume      43245 non-null  float64\n",
      " 26  supergen_year-stop              43245 non-null  float64\n",
      " 27  models_country-from             43245 non-null  int64  \n",
      " 28  models_group                    43245 non-null  int64  \n",
      " 29  models_light-and-commercial     43245 non-null  int64  \n",
      " 30  models_male                     43245 non-null  int64  \n",
      " 31  target                          43245 non-null  int64  \n",
      "dtypes: float64(9), int64(23)\n",
      "memory usage: 10.6 MB\n"
     ]
    }
   ],
   "source": [
    "df.info()"
   ]
  },
  {
   "cell_type": "code",
   "execution_count": 64,
   "id": "0712bdd2",
   "metadata": {},
   "outputs": [
    {
     "data": {
      "text/plain": [
       "index                             43245\n",
       "back-suspension                      11\n",
       "battery-capacity                     75\n",
       "charge-time                       43212\n",
       "compression                         188\n",
       "consumption-mixed                   205\n",
       "cylinders-order                       7\n",
       "cylinders-value                      11\n",
       "engine-feeding                        9\n",
       "engine-start                         98\n",
       "engine-stop                          97\n",
       "engine-type                           5\n",
       "gear-type                             3\n",
       "luxury                            42703\n",
       "max-speed                           268\n",
       "power-electro-kw                     66\n",
       "supply-system                         5\n",
       "valves                             3006\n",
       "valvetrain                            5\n",
       "weight                             1610\n",
       "configurations_auto-premiere      43227\n",
       "configurations_back-wheel-base      450\n",
       "configurations_front-brake            5\n",
       "configurations_safety-rating          3\n",
       "configurations_seats                 34\n",
       "configurations_tank-volume          110\n",
       "supergen_year-stop                   97\n",
       "models_country-from                  36\n",
       "models_group                          4\n",
       "models_light-and-commercial           2\n",
       "models_male                         469\n",
       "target                              759\n",
       "dtype: int64"
      ]
     },
     "execution_count": 64,
     "metadata": {},
     "output_type": "execute_result"
    }
   ],
   "source": [
    "df.nunique()"
   ]
  },
  {
   "cell_type": "code",
   "execution_count": 67,
   "id": "a2adae84",
   "metadata": {},
   "outputs": [
    {
     "data": {
      "text/plain": [
       "array([0, 1], dtype=int64)"
      ]
     },
     "execution_count": 67,
     "metadata": {},
     "output_type": "execute_result"
    }
   ],
   "source": [
    "df['models_light-and-commercial'].unique()"
   ]
  },
  {
   "cell_type": "code",
   "execution_count": 62,
   "id": "eb3454c9",
   "metadata": {},
   "outputs": [
    {
     "data": {
      "text/plain": [
       "0"
      ]
     },
     "execution_count": 62,
     "metadata": {},
     "output_type": "execute_result"
    }
   ],
   "source": [
    "df.duplicated().sum()"
   ]
  },
  {
   "cell_type": "code",
   "execution_count": 73,
   "id": "af669c79",
   "metadata": {},
   "outputs": [
    {
     "data": {
      "text/plain": [
       "<AxesSubplot:>"
      ]
     },
     "execution_count": 73,
     "metadata": {},
     "output_type": "execute_result"
    },
    {
     "data": {
      "image/png": "[encoded data removed]",
      "text/plain": [
       "<Figure size 640x480 with 2 Axes>"
      ]
     },
     "metadata": {},
     "output_type": "display_data"
    }
   ],
   "source": [
    "sns.heatmap(df.iloc[:,1:].corr())"
   ]
  },
  {
   "cell_type": "code",
   "execution_count": 81,
   "id": "ab48d369",
   "metadata": {},
   "outputs": [
    {
     "name": "stderr",
     "output_type": "stream",
     "text": [
      "C:\\Users\\feday\\anaconda3\\lib\\site-packages\\seaborn\\distributions.py:2619: FutureWarning: `distplot` is a deprecated function and will be removed in a future version. Please adapt your code to use either `displot` (a figure-level function with similar flexibility) or `kdeplot` (an axes-level function for kernel density plots).\n",
      "  warnings.warn(msg, FutureWarning)\n"
     ]
    },
    {
     "data": {
      "text/plain": [
       "<AxesSubplot:xlabel='target', ylabel='Density'>"
      ]
     },
     "execution_count": 81,
     "metadata": {},
     "output_type": "execute_result"
    },
    {
     "data": {
      "image/png": "[encoded data removed]",
      "text/plain": [
       "<Figure size 640x480 with 1 Axes>"
      ]
     },
     "metadata": {},
     "output_type": "display_data"
    }
   ],
   "source": [
    "sns.distplot(df.target, hist=False , kde=True)"
   ]
  },
  {
   "cell_type": "code",
   "execution_count": 77,
   "id": "757ed824",
   "metadata": {},
   "outputs": [
    {
     "name": "stderr",
     "output_type": "stream",
     "text": [
      "C:\\Users\\feday\\anaconda3\\lib\\site-packages\\seaborn\\distributions.py:2619: FutureWarning: `distplot` is a deprecated function and will be removed in a future version. Please adapt your code to use either `displot` (a figure-level function with similar flexibility) or `kdeplot` (an axes-level function for kernel density plots).\n",
      "  warnings.warn(msg, FutureWarning)\n"
     ]
    },
    {
     "data": {
      "text/plain": [
       "<AxesSubplot:ylabel='Density'>"
      ]
     },
     "execution_count": 77,
     "metadata": {},
     "output_type": "execute_result"
    },
    {
     "data": {
      "image/png": "[encoded data removed]",
      "text/plain": [
       "<Figure size 640x480 with 1 Axes>"
      ]
     },
     "metadata": {},
     "output_type": "display_data"
    }
   ],
   "source": [
    "transformed_df, best_lambda = boxcox(df.target) \n",
    "sns.distplot(transformed_df, hist=False , kde=True)"
   ]
  },
  {
   "cell_type": "code",
   "execution_count": 91,
   "id": "de3bf101",
   "metadata": {},
   "outputs": [
    {
     "name": "stdout",
     "output_type": "stream",
     "text": [
      "                            OLS Regression Results                            \n",
      "==============================================================================\n",
      "Dep. Variable:                 target   R-squared:                       0.455\n",
      "Model:                            OLS   Adj. R-squared:                  0.455\n",
      "Method:                 Least Squares   F-statistic:                     807.0\n",
      "Date:                Tue, 05 Mar 2024   Prob (F-statistic):               0.00\n",
      "Time:                        22:25:20   Log-Likelihood:            -1.9038e+05\n",
      "No. Observations:               28974   AIC:                         3.808e+05\n",
      "Df Residuals:                   28943   BIC:                         3.811e+05\n",
      "Df Model:                          30                                         \n",
      "Covariance Type:            nonrobust                                         \n",
      "==================================================================================================\n",
      "                                     coef    std err          t      P>|t|      [0.025      0.975]\n",
      "--------------------------------------------------------------------------------------------------\n",
      "const                          -3367.3991    243.400    -13.835      0.000   -3844.475   -2890.324\n",
      "back-suspension                   -0.0055      0.381     -0.014      0.988      -0.753       0.742\n",
      "battery-capacity                   5.7194      0.410     13.950      0.000       4.916       6.523\n",
      "charge-time                        0.0016      0.001      3.051      0.002       0.001       0.003\n",
      "compression                       -3.6728      0.202    -18.156      0.000      -4.069      -3.276\n",
      "consumption-mixed                 -0.8631      0.264     -3.271      0.001      -1.380      -0.346\n",
      "cylinders-order                   -1.3606      1.324     -1.027      0.304      -3.956       1.235\n",
      "cylinders-value                   86.8818      1.486     58.454      0.000      83.968      89.795\n",
      "engine-feeding                    -8.1724      0.733    -11.148      0.000      -9.609      -6.735\n",
      "engine-start                       2.7711      0.120     23.007      0.000       2.535       3.007\n",
      "engine-stop                       -0.0123      0.005     -2.383      0.017      -0.022      -0.002\n",
      "engine-type                      -45.9579      1.582    -29.046      0.000     -49.059     -42.857\n",
      "gear-type                         36.3209      1.612     22.533      0.000      33.162      39.480\n",
      "luxury                             0.0004      0.000      2.107      0.035    2.83e-05       0.001\n",
      "max-speed                         -0.2018      0.014    -14.353      0.000      -0.229      -0.174\n",
      "power-electro-kw                   0.6130      0.152      4.029      0.000       0.315       0.911\n",
      "supply-system                      0.6395      1.180      0.542      0.588      -1.673       2.952\n",
      "valves                             0.0132      0.002      6.709      0.000       0.009       0.017\n",
      "valvetrain                         1.3569      0.616      2.202      0.028       0.149       2.565\n",
      "weight                             0.0329      0.002     14.909      0.000       0.029       0.037\n",
      "configurations_auto-premiere      -0.0017      0.001     -3.275      0.001      -0.003      -0.001\n",
      "configurations_back-wheel-base    -0.0447      0.003    -14.638      0.000      -0.051      -0.039\n",
      "configurations_front-brake         6.9687      0.888      7.850      0.000       5.229       8.709\n",
      "configurations_safety-rating     -13.4901      3.054     -4.418      0.000     -19.475      -7.505\n",
      "configurations_seats              11.5910      0.245     47.383      0.000      11.112      12.071\n",
      "configurations_tank-volume         2.1325      0.057     37.178      0.000       2.020       2.245\n",
      "supergen_year-stop                -0.0146      0.005     -2.894      0.004      -0.025      -0.005\n",
      "models_country-from                1.4179      0.116     12.258      0.000       1.191       1.645\n",
      "models_group                      -0.4061      7.709     -0.053      0.958     -15.517      14.705\n",
      "models_light-and-commercial      199.4976     23.953      8.329      0.000     152.548     246.447\n",
      "models_male                       -0.0440      0.025     -1.744      0.081      -0.094       0.005\n",
      "==============================================================================\n",
      "Omnibus:                     9080.207   Durbin-Watson:                   2.012\n",
      "Prob(Omnibus):                  0.000   Jarque-Bera (JB):           250438.597\n",
      "Skew:                           0.919   Prob(JB):                         0.00\n",
      "Kurtosis:                      17.285   Cond. No.                     1.46e+07\n",
      "==============================================================================\n",
      "\n",
      "Notes:\n",
      "[1] Standard Errors assume that the covariance matrix of the errors is correctly specified.\n",
      "[2] The condition number is large, 1.46e+07. This might indicate that there are\n",
      "strong multicollinearity or other numerical problems.\n"
     ]
    }
   ],
   "source": [
    "import statsmodels.api as sm\n",
    "from scipy import stats\n",
    "\n",
    "X = train_X\n",
    "y = train_y\n",
    "\n",
    "X2 = sm.add_constant(X)\n",
    "est = sm.OLS(y, X2)\n",
    "est2 = est.fit()\n",
    "print(est2.summary())"
   ]
  },
  {
   "cell_type": "code",
   "execution_count": 94,
   "id": "e7f8b66e",
   "metadata": {},
   "outputs": [
    {
     "data": {
      "text/html": [
       "<div>\n",
       "<style scoped>\n",
       "    .dataframe tbody tr th:only-of-type {\n",
       "        vertical-align: middle;\n",
       "    }\n",
       "\n",
       "    .dataframe tbody tr th {\n",
       "        vertical-align: top;\n",
       "    }\n",
       "\n",
       "    .dataframe thead th {\n",
       "        text-align: right;\n",
       "    }\n",
       "</style>\n",
       "<table border=\"1\" class=\"dataframe\">\n",
       "  <thead>\n",
       "    <tr style=\"text-align: right;\">\n",
       "      <th></th>\n",
       "      <th>battery-capacity</th>\n",
       "      <th>charge-time</th>\n",
       "      <th>compression</th>\n",
       "      <th>consumption-mixed</th>\n",
       "      <th>cylinders-value</th>\n",
       "      <th>engine-feeding</th>\n",
       "      <th>engine-start</th>\n",
       "      <th>engine-stop</th>\n",
       "      <th>engine-type</th>\n",
       "      <th>gear-type</th>\n",
       "      <th>...</th>\n",
       "      <th>configurations_auto-premiere</th>\n",
       "      <th>configurations_back-wheel-base</th>\n",
       "      <th>configurations_front-brake</th>\n",
       "      <th>configurations_safety-rating</th>\n",
       "      <th>configurations_seats</th>\n",
       "      <th>configurations_tank-volume</th>\n",
       "      <th>supergen_year-stop</th>\n",
       "      <th>models_country-from</th>\n",
       "      <th>models_light-and-commercial</th>\n",
       "      <th>target</th>\n",
       "    </tr>\n",
       "  </thead>\n",
       "  <tbody>\n",
       "    <tr>\n",
       "      <th>0</th>\n",
       "      <td>-1.0</td>\n",
       "      <td>36457</td>\n",
       "      <td>9.0</td>\n",
       "      <td>4.3</td>\n",
       "      <td>3</td>\n",
       "      <td>4</td>\n",
       "      <td>2006</td>\n",
       "      <td>2018</td>\n",
       "      <td>2</td>\n",
       "      <td>1</td>\n",
       "      <td>...</td>\n",
       "      <td>36479</td>\n",
       "      <td>1300.0</td>\n",
       "      <td>1</td>\n",
       "      <td>2</td>\n",
       "      <td>13</td>\n",
       "      <td>40.0</td>\n",
       "      <td>2018.0</td>\n",
       "      <td>16</td>\n",
       "      <td>0</td>\n",
       "      <td>2360</td>\n",
       "    </tr>\n",
       "    <tr>\n",
       "      <th>1</th>\n",
       "      <td>-1.0</td>\n",
       "      <td>44872</td>\n",
       "      <td>8.0</td>\n",
       "      <td>-1.0</td>\n",
       "      <td>7</td>\n",
       "      <td>4</td>\n",
       "      <td>1982</td>\n",
       "      <td>1993</td>\n",
       "      <td>2</td>\n",
       "      <td>2</td>\n",
       "      <td>...</td>\n",
       "      <td>44895</td>\n",
       "      <td>1555.0</td>\n",
       "      <td>4</td>\n",
       "      <td>2</td>\n",
       "      <td>13</td>\n",
       "      <td>108.0</td>\n",
       "      <td>1993.0</td>\n",
       "      <td>34</td>\n",
       "      <td>0</td>\n",
       "      <td>3060</td>\n",
       "    </tr>\n",
       "    <tr>\n",
       "      <th>2</th>\n",
       "      <td>-1.0</td>\n",
       "      <td>55927</td>\n",
       "      <td>16.0</td>\n",
       "      <td>4.2</td>\n",
       "      <td>4</td>\n",
       "      <td>5</td>\n",
       "      <td>2014</td>\n",
       "      <td>2018</td>\n",
       "      <td>0</td>\n",
       "      <td>1</td>\n",
       "      <td>...</td>\n",
       "      <td>55963</td>\n",
       "      <td>1534.0</td>\n",
       "      <td>4</td>\n",
       "      <td>2</td>\n",
       "      <td>13</td>\n",
       "      <td>55.0</td>\n",
       "      <td>2019.0</td>\n",
       "      <td>35</td>\n",
       "      <td>0</td>\n",
       "      <td>2648</td>\n",
       "    </tr>\n",
       "    <tr>\n",
       "      <th>3</th>\n",
       "      <td>-1.0</td>\n",
       "      <td>41405</td>\n",
       "      <td>10.3</td>\n",
       "      <td>-1.0</td>\n",
       "      <td>4</td>\n",
       "      <td>4</td>\n",
       "      <td>2000</td>\n",
       "      <td>2003</td>\n",
       "      <td>2</td>\n",
       "      <td>1</td>\n",
       "      <td>...</td>\n",
       "      <td>41425</td>\n",
       "      <td>1495.0</td>\n",
       "      <td>4</td>\n",
       "      <td>2</td>\n",
       "      <td>13</td>\n",
       "      <td>55.0</td>\n",
       "      <td>2003.0</td>\n",
       "      <td>10</td>\n",
       "      <td>0</td>\n",
       "      <td>2513</td>\n",
       "    </tr>\n",
       "    <tr>\n",
       "      <th>4</th>\n",
       "      <td>-1.0</td>\n",
       "      <td>22523</td>\n",
       "      <td>19.0</td>\n",
       "      <td>-1.0</td>\n",
       "      <td>4</td>\n",
       "      <td>8</td>\n",
       "      <td>2000</td>\n",
       "      <td>2005</td>\n",
       "      <td>0</td>\n",
       "      <td>1</td>\n",
       "      <td>...</td>\n",
       "      <td>22491</td>\n",
       "      <td>1515.0</td>\n",
       "      <td>4</td>\n",
       "      <td>1</td>\n",
       "      <td>13</td>\n",
       "      <td>62.0</td>\n",
       "      <td>2005.0</td>\n",
       "      <td>10</td>\n",
       "      <td>0</td>\n",
       "      <td>2703</td>\n",
       "    </tr>\n",
       "    <tr>\n",
       "      <th>...</th>\n",
       "      <td>...</td>\n",
       "      <td>...</td>\n",
       "      <td>...</td>\n",
       "      <td>...</td>\n",
       "      <td>...</td>\n",
       "      <td>...</td>\n",
       "      <td>...</td>\n",
       "      <td>...</td>\n",
       "      <td>...</td>\n",
       "      <td>...</td>\n",
       "      <td>...</td>\n",
       "      <td>...</td>\n",
       "      <td>...</td>\n",
       "      <td>...</td>\n",
       "      <td>...</td>\n",
       "      <td>...</td>\n",
       "      <td>...</td>\n",
       "      <td>...</td>\n",
       "      <td>...</td>\n",
       "      <td>...</td>\n",
       "      <td>...</td>\n",
       "    </tr>\n",
       "    <tr>\n",
       "      <th>43240</th>\n",
       "      <td>-1.0</td>\n",
       "      <td>34558</td>\n",
       "      <td>11.2</td>\n",
       "      <td>6.6</td>\n",
       "      <td>4</td>\n",
       "      <td>4</td>\n",
       "      <td>2004</td>\n",
       "      <td>2016</td>\n",
       "      <td>2</td>\n",
       "      <td>1</td>\n",
       "      <td>...</td>\n",
       "      <td>34570</td>\n",
       "      <td>1425.0</td>\n",
       "      <td>1</td>\n",
       "      <td>2</td>\n",
       "      <td>13</td>\n",
       "      <td>47.0</td>\n",
       "      <td>2016.0</td>\n",
       "      <td>15</td>\n",
       "      <td>0</td>\n",
       "      <td>2510</td>\n",
       "    </tr>\n",
       "    <tr>\n",
       "      <th>43241</th>\n",
       "      <td>-1.0</td>\n",
       "      <td>38268</td>\n",
       "      <td>9.6</td>\n",
       "      <td>5.8</td>\n",
       "      <td>4</td>\n",
       "      <td>2</td>\n",
       "      <td>2013</td>\n",
       "      <td>2015</td>\n",
       "      <td>2</td>\n",
       "      <td>1</td>\n",
       "      <td>...</td>\n",
       "      <td>38286</td>\n",
       "      <td>1551.0</td>\n",
       "      <td>4</td>\n",
       "      <td>2</td>\n",
       "      <td>13</td>\n",
       "      <td>65.0</td>\n",
       "      <td>2015.0</td>\n",
       "      <td>10</td>\n",
       "      <td>0</td>\n",
       "      <td>2808</td>\n",
       "    </tr>\n",
       "    <tr>\n",
       "      <th>43242</th>\n",
       "      <td>-1.0</td>\n",
       "      <td>8958</td>\n",
       "      <td>10.0</td>\n",
       "      <td>9.3</td>\n",
       "      <td>4</td>\n",
       "      <td>4</td>\n",
       "      <td>1991</td>\n",
       "      <td>1999</td>\n",
       "      <td>2</td>\n",
       "      <td>1</td>\n",
       "      <td>...</td>\n",
       "      <td>8903</td>\n",
       "      <td>1460.0</td>\n",
       "      <td>4</td>\n",
       "      <td>2</td>\n",
       "      <td>13</td>\n",
       "      <td>55.0</td>\n",
       "      <td>1999.0</td>\n",
       "      <td>16</td>\n",
       "      <td>0</td>\n",
       "      <td>2520</td>\n",
       "    </tr>\n",
       "    <tr>\n",
       "      <th>43243</th>\n",
       "      <td>-1.0</td>\n",
       "      <td>20293</td>\n",
       "      <td>8.5</td>\n",
       "      <td>-1.0</td>\n",
       "      <td>5</td>\n",
       "      <td>4</td>\n",
       "      <td>2002</td>\n",
       "      <td>2004</td>\n",
       "      <td>2</td>\n",
       "      <td>0</td>\n",
       "      <td>...</td>\n",
       "      <td>20263</td>\n",
       "      <td>1548.0</td>\n",
       "      <td>1</td>\n",
       "      <td>2</td>\n",
       "      <td>13</td>\n",
       "      <td>70.0</td>\n",
       "      <td>2004.0</td>\n",
       "      <td>28</td>\n",
       "      <td>0</td>\n",
       "      <td>2755</td>\n",
       "    </tr>\n",
       "    <tr>\n",
       "      <th>43244</th>\n",
       "      <td>-1.0</td>\n",
       "      <td>52459</td>\n",
       "      <td>8.6</td>\n",
       "      <td>-1.0</td>\n",
       "      <td>4</td>\n",
       "      <td>4</td>\n",
       "      <td>1982</td>\n",
       "      <td>1984</td>\n",
       "      <td>2</td>\n",
       "      <td>2</td>\n",
       "      <td>...</td>\n",
       "      <td>52501</td>\n",
       "      <td>1415.0</td>\n",
       "      <td>1</td>\n",
       "      <td>2</td>\n",
       "      <td>8</td>\n",
       "      <td>-1.0</td>\n",
       "      <td>1987.0</td>\n",
       "      <td>16</td>\n",
       "      <td>0</td>\n",
       "      <td>2620</td>\n",
       "    </tr>\n",
       "  </tbody>\n",
       "</table>\n",
       "<p>43245 rows × 26 columns</p>\n",
       "</div>"
      ],
      "text/plain": [
       "       battery-capacity  charge-time  compression  consumption-mixed  \\\n",
       "0                  -1.0        36457          9.0                4.3   \n",
       "1                  -1.0        44872          8.0               -1.0   \n",
       "2                  -1.0        55927         16.0                4.2   \n",
       "3                  -1.0        41405         10.3               -1.0   \n",
       "4                  -1.0        22523         19.0               -1.0   \n",
       "...                 ...          ...          ...                ...   \n",
       "43240              -1.0        34558         11.2                6.6   \n",
       "43241              -1.0        38268          9.6                5.8   \n",
       "43242              -1.0         8958         10.0                9.3   \n",
       "43243              -1.0        20293          8.5               -1.0   \n",
       "43244              -1.0        52459          8.6               -1.0   \n",
       "\n",
       "       cylinders-value  engine-feeding  engine-start  engine-stop  \\\n",
       "0                    3               4          2006         2018   \n",
       "1                    7               4          1982         1993   \n",
       "2                    4               5          2014         2018   \n",
       "3                    4               4          2000         2003   \n",
       "4                    4               8          2000         2005   \n",
       "...                ...             ...           ...          ...   \n",
       "43240                4               4          2004         2016   \n",
       "43241                4               2          2013         2015   \n",
       "43242                4               4          1991         1999   \n",
       "43243                5               4          2002         2004   \n",
       "43244                4               4          1982         1984   \n",
       "\n",
       "       engine-type  gear-type  ...  configurations_auto-premiere  \\\n",
       "0                2          1  ...                         36479   \n",
       "1                2          2  ...                         44895   \n",
       "2                0          1  ...                         55963   \n",
       "3                2          1  ...                         41425   \n",
       "4                0          1  ...                         22491   \n",
       "...            ...        ...  ...                           ...   \n",
       "43240            2          1  ...                         34570   \n",
       "43241            2          1  ...                         38286   \n",
       "43242            2          1  ...                          8903   \n",
       "43243            2          0  ...                         20263   \n",
       "43244            2          2  ...                         52501   \n",
       "\n",
       "       configurations_back-wheel-base  configurations_front-brake  \\\n",
       "0                              1300.0                           1   \n",
       "1                              1555.0                           4   \n",
       "2                              1534.0                           4   \n",
       "3                              1495.0                           4   \n",
       "4                              1515.0                           4   \n",
       "...                               ...                         ...   \n",
       "43240                          1425.0                           1   \n",
       "43241                          1551.0                           4   \n",
       "43242                          1460.0                           4   \n",
       "43243                          1548.0                           1   \n",
       "43244                          1415.0                           1   \n",
       "\n",
       "       configurations_safety-rating  configurations_seats  \\\n",
       "0                                 2                    13   \n",
       "1                                 2                    13   \n",
       "2                                 2                    13   \n",
       "3                                 2                    13   \n",
       "4                                 1                    13   \n",
       "...                             ...                   ...   \n",
       "43240                             2                    13   \n",
       "43241                             2                    13   \n",
       "43242                             2                    13   \n",
       "43243                             2                    13   \n",
       "43244                             2                     8   \n",
       "\n",
       "       configurations_tank-volume  supergen_year-stop  models_country-from  \\\n",
       "0                            40.0              2018.0                   16   \n",
       "1                           108.0              1993.0                   34   \n",
       "2                            55.0              2019.0                   35   \n",
       "3                            55.0              2003.0                   10   \n",
       "4                            62.0              2005.0                   10   \n",
       "...                           ...                 ...                  ...   \n",
       "43240                        47.0              2016.0                   15   \n",
       "43241                        65.0              2015.0                   10   \n",
       "43242                        55.0              1999.0                   16   \n",
       "43243                        70.0              2004.0                   28   \n",
       "43244                        -1.0              1987.0                   16   \n",
       "\n",
       "       models_light-and-commercial  target  \n",
       "0                                0    2360  \n",
       "1                                0    3060  \n",
       "2                                0    2648  \n",
       "3                                0    2513  \n",
       "4                                0    2703  \n",
       "...                            ...     ...  \n",
       "43240                            0    2510  \n",
       "43241                            0    2808  \n",
       "43242                            0    2520  \n",
       "43243                            0    2755  \n",
       "43244                            0    2620  \n",
       "\n",
       "[43245 rows x 26 columns]"
      ]
     },
     "execution_count": 94,
     "metadata": {},
     "output_type": "execute_result"
    }
   ],
   "source": [
    "df2 = df.drop(['index','back-suspension', 'cylinders-order', 'supply-system', 'models_group', 'models_male'], axis=1)\n",
    "df2"
   ]
  },
  {
   "cell_type": "code",
   "execution_count": 95,
   "id": "36be5082",
   "metadata": {},
   "outputs": [
    {
     "name": "stdout",
     "output_type": "stream",
     "text": [
      "                            OLS Regression Results                            \n",
      "==============================================================================\n",
      "Dep. Variable:                 target   R-squared:                       0.455\n",
      "Model:                            OLS   Adj. R-squared:                  0.455\n",
      "Method:                 Least Squares   F-statistic:                     968.3\n",
      "Date:                Tue, 05 Mar 2024   Prob (F-statistic):               0.00\n",
      "Time:                        22:28:35   Log-Likelihood:            -1.9038e+05\n",
      "No. Observations:               28974   AIC:                         3.808e+05\n",
      "Df Residuals:                   28948   BIC:                         3.810e+05\n",
      "Df Model:                          25                                         \n",
      "Covariance Type:            nonrobust                                         \n",
      "==================================================================================================\n",
      "                                     coef    std err          t      P>|t|      [0.025      0.975]\n",
      "--------------------------------------------------------------------------------------------------\n",
      "const                          -3336.9633    238.980    -13.963      0.000   -3805.375   -2868.551\n",
      "battery-capacity                   5.5630      0.385     14.438      0.000       4.808       6.318\n",
      "charge-time                        0.0016      0.001      3.100      0.002       0.001       0.003\n",
      "compression                       -3.6704      0.202    -18.160      0.000      -4.067      -3.274\n",
      "consumption-mixed                 -0.8509      0.264     -3.229      0.001      -1.367      -0.334\n",
      "cylinders-value                   85.7849      1.056     81.225      0.000      83.715      87.855\n",
      "engine-feeding                    -8.1500      0.731    -11.142      0.000      -9.584      -6.716\n",
      "engine-start                       2.7569      0.119     23.122      0.000       2.523       2.991\n",
      "engine-stop                       -0.0121      0.005     -2.340      0.019      -0.022      -0.002\n",
      "engine-type                      -46.1818      1.560    -29.611      0.000     -49.239     -43.125\n",
      "gear-type                         36.4145      1.605     22.681      0.000      33.268      39.561\n",
      "luxury                             0.0004      0.000      2.082      0.037    2.33e-05       0.001\n",
      "max-speed                         -0.1993      0.014    -14.471      0.000      -0.226      -0.172\n",
      "power-electro-kw                   0.6172      0.152      4.058      0.000       0.319       0.915\n",
      "valves                             0.0131      0.002      6.654      0.000       0.009       0.017\n",
      "valvetrain                         1.3797      0.615      2.244      0.025       0.174       2.585\n",
      "weight                             0.0329      0.002     15.096      0.000       0.029       0.037\n",
      "configurations_auto-premiere      -0.0017      0.001     -3.306      0.001      -0.003      -0.001\n",
      "configurations_back-wheel-base    -0.0443      0.003    -14.556      0.000      -0.050      -0.038\n",
      "configurations_front-brake         6.9680      0.887      7.858      0.000       5.230       8.706\n",
      "configurations_safety-rating     -13.6619      3.046     -4.485      0.000     -19.632      -7.692\n",
      "configurations_seats              11.5886      0.244     47.435      0.000      11.110      12.067\n",
      "configurations_tank-volume         2.1342      0.056     37.960      0.000       2.024       2.244\n",
      "supergen_year-stop                -0.0144      0.005     -2.865      0.004      -0.024      -0.005\n",
      "models_country-from                1.3944      0.115     12.173      0.000       1.170       1.619\n",
      "models_light-and-commercial      200.1378     23.943      8.359      0.000     153.209     247.067\n",
      "==============================================================================\n",
      "Omnibus:                     9061.250   Durbin-Watson:                   2.012\n",
      "Prob(Omnibus):                  0.000   Jarque-Bera (JB):           249358.015\n",
      "Skew:                           0.916   Prob(JB):                         0.00\n",
      "Kurtosis:                      17.255   Cond. No.                     1.43e+07\n",
      "==============================================================================\n",
      "\n",
      "Notes:\n",
      "[1] Standard Errors assume that the covariance matrix of the errors is correctly specified.\n",
      "[2] The condition number is large, 1.43e+07. This might indicate that there are\n",
      "strong multicollinearity or other numerical problems.\n"
     ]
    }
   ],
   "source": [
    "X = df2.drop([\"target\"], axis=1)\n",
    "y = df2[[\"target\"]]\n",
    "train_X, test_X, train_y, test_y = train_test_split(X, y, test_size=0.33, random_state=42)\n",
    "X = train_X\n",
    "y = train_y\n",
    "\n",
    "X2 = sm.add_constant(X)\n",
    "est = sm.OLS(y, X2)\n",
    "est2 = est.fit()\n",
    "print(est2.summary())"
   ]
  },
  {
   "cell_type": "code",
   "execution_count": 100,
   "id": "9e1fc598",
   "metadata": {
    "scrolled": false
   },
   "outputs": [
    {
     "name": "stdout",
     "output_type": "stream",
     "text": [
      "                            OLS Regression Results                            \n",
      "==============================================================================\n",
      "Dep. Variable:                 target   R-squared:                       0.672\n",
      "Model:                            OLS   Adj. R-squared:                  0.668\n",
      "Method:                 Least Squares   F-statistic:                     169.9\n",
      "Date:                Tue, 05 Mar 2024   Prob (F-statistic):               0.00\n",
      "Time:                        22:38:51   Log-Likelihood:            -1.8302e+05\n",
      "No. Observations:               28974   AIC:                         3.667e+05\n",
      "Df Residuals:                   28627   BIC:                         3.696e+05\n",
      "Df Model:                         346                                         \n",
      "Covariance Type:            nonrobust                                         \n",
      "==============================================================================\n",
      "                 coef    std err          t      P>|t|      [0.025      0.975]\n",
      "------------------------------------------------------------------------------\n",
      "const       2.497e+04   1.13e+04      2.210      0.027    2825.034    4.71e+04\n",
      "x1         -5.549e-08   1.12e-07     -0.497      0.619   -2.75e-07    1.64e-07\n",
      "x2          6.608e+04    1.6e+05      0.414      0.679   -2.47e+05    3.79e+05\n",
      "x3          4648.3196   1.34e+04      0.347      0.728   -2.16e+04    3.09e+04\n",
      "x4          -719.5752    979.453     -0.735      0.463   -2639.348    1200.198\n",
      "x5          5448.9936   2052.230      2.655      0.008    1426.527    9471.461\n",
      "x6         -8695.0162   1934.626     -4.494      0.000   -1.25e+04   -4903.059\n",
      "x7          1190.1290   1143.693      1.041      0.298   -1051.563    3431.821\n",
      "x8         -5.406e+04   3056.509    -17.686      0.000      -6e+04   -4.81e+04\n",
      "x9          7940.2282   4762.712      1.667      0.095   -1394.911    1.73e+04\n",
      "x10         5647.8999   1582.328      3.569      0.000    2546.463    8749.337\n",
      "x11         5813.4908    643.684      9.032      0.000    4551.841    7075.141\n",
      "x12         1825.5872   3685.980      0.495      0.620   -5399.106    9050.280\n",
      "x13         1.093e+04   1185.817      9.214      0.000    8602.236    1.33e+04\n",
      "x14         6232.4890   6.53e+04      0.095      0.924   -1.22e+05    1.34e+05\n",
      "x15        -1348.1423   1616.699     -0.834      0.404   -4516.948    1820.664\n",
      "x16        -1689.4703    511.959     -3.300      0.001   -2692.934    -686.007\n",
      "x17         2372.0846   1484.814      1.598      0.110    -538.221    5282.390\n",
      "x18        -1.031e+04    1.3e+04     -0.793      0.428   -3.58e+04    1.52e+04\n",
      "x19         5368.8783   1312.282      4.091      0.000    2796.744    7941.013\n",
      "x20          976.3004    718.295      1.359      0.174    -431.592    2384.193\n",
      "x21        -1.292e+04   1760.689     -7.337      0.000   -1.64e+04   -9467.219\n",
      "x22         8175.7864   1606.503      5.089      0.000    5026.965    1.13e+04\n",
      "x23        -8738.9536   1590.809     -5.493      0.000   -1.19e+04   -5620.894\n",
      "x24        -1.167e+04   4400.960     -2.652      0.008   -2.03e+04   -3045.976\n",
      "x25        -2084.1173    762.199     -2.734      0.006   -3578.063    -590.171\n",
      "x26         3.577e+04   1.69e+04      2.111      0.035    2553.698     6.9e+04\n",
      "x27        -1385.3945   1107.156     -1.251      0.211   -3555.473     784.684\n",
      "x28         -678.5657    551.200     -1.231      0.218   -1758.944     401.813\n",
      "x29          374.6056    414.624      0.903      0.366    -438.077    1187.288\n",
      "x30         -117.4582    399.274     -0.294      0.769    -900.054     665.137\n",
      "x31         -207.6731    580.953     -0.357      0.721   -1346.369     931.023\n",
      "x32        -3557.4808   3078.484     -1.156      0.248   -9591.454    2476.492\n",
      "x33        -5.849e+04   1.59e+05     -0.367      0.714   -3.71e+05    2.54e+05\n",
      "x34         1560.1500    413.063      3.777      0.000     750.527    2369.773\n",
      "x35        -1483.6242   1750.679     -0.847      0.397   -4915.038    1947.789\n",
      "x36         -111.2019    120.324     -0.924      0.355    -347.042     124.638\n",
      "x37         1.364e+04   8016.931      1.701      0.089   -2073.662    2.94e+04\n",
      "x38         -394.1476    580.503     -0.679      0.497   -1531.961     743.666\n",
      "x39         -255.7873    754.993     -0.339      0.735   -1735.609    1224.035\n",
      "x40           -2.8751    450.266     -0.006      0.995    -885.418     879.668\n",
      "x41          -32.7327   2183.575     -0.015      0.988   -4312.641    4247.176\n",
      "x42         -708.0211    222.089     -3.188      0.001   -1143.326    -272.716\n",
      "x43        -1.322e+04   7999.932     -1.653      0.098   -2.89e+04    2456.916\n",
      "x44         -147.6586    179.249     -0.824      0.410    -498.995     203.678\n",
      "x45         2033.3413   1358.069      1.497      0.134    -628.538    4695.220\n",
      "x46        -1466.5111    788.064     -1.861      0.063   -3011.154      78.132\n",
      "x47           25.1078    310.236      0.081      0.935    -582.969     633.184\n",
      "x48         -665.7039    196.376     -3.390      0.001   -1050.610    -280.798\n",
      "x49        -1599.7405    424.342     -3.770      0.000   -2431.470    -768.011\n",
      "x50         -633.5447    627.455     -1.010      0.313   -1863.386     596.297\n",
      "x51         -1.08e+04   5648.146     -1.911      0.056   -2.19e+04     274.796\n",
      "x52          106.6219    321.315      0.332      0.740    -523.171     736.415\n",
      "x53          -79.6816    234.527     -0.340      0.734    -539.365     380.002\n",
      "x54          351.2639    388.043      0.905      0.365    -409.318    1111.846\n",
      "x55         -311.5723    407.112     -0.765      0.444   -1109.531     486.387\n",
      "x56          -53.4267    317.452     -0.168      0.866    -675.648     568.795\n",
      "x57        -4815.2937   1.35e+04     -0.356      0.722   -3.13e+04    2.17e+04\n",
      "x58         1144.6427    439.419      2.605      0.009     283.361    2005.924\n",
      "x59          -20.3658    262.824     -0.077      0.938    -535.513     494.781\n",
      "x60          -24.3422     87.544     -0.278      0.781    -195.933     147.248\n",
      "x61         -274.6330    353.613     -0.777      0.437    -967.730     418.464\n",
      "x62           14.0738    196.340      0.072      0.943    -370.762     398.910\n",
      "x63          173.8358    219.064      0.794      0.427    -255.539     603.211\n",
      "x64          517.8577    477.925      1.084      0.279    -418.897    1454.613\n",
      "x65           92.6899    175.243      0.529      0.597    -250.795     436.175\n",
      "x66          592.6432    514.109      1.153      0.249    -415.034    1600.321\n",
      "x67          193.6367    331.072      0.585      0.559    -455.279     842.553\n",
      "x68         -465.3812    226.790     -2.052      0.040    -909.900     -20.862\n",
      "x69          -85.7525    258.797     -0.331      0.740    -593.006     421.501\n",
      "x70          425.6015    254.552      1.672      0.095     -73.333     924.536\n",
      "x71         -159.4705    465.757     -0.342      0.732   -1072.376     753.435\n",
      "x72          453.3278    439.504      1.031      0.302    -408.120    1314.775\n",
      "x73        -1160.1144    452.223     -2.565      0.010   -2046.493    -273.736\n",
      "x74         -176.9300    155.536     -1.138      0.255    -481.787     127.927\n",
      "x75        -4.632e+04   4.14e+04     -1.118      0.264   -1.28e+05    3.49e+04\n",
      "x76           70.3563     29.257      2.405      0.016      13.011     127.702\n",
      "x77          -97.2935     20.551     -4.734      0.000    -137.575     -57.012\n",
      "x78          -58.8159     32.320     -1.820      0.069    -122.165       4.533\n",
      "x79          -86.0481     24.059     -3.577      0.000    -133.205     -38.891\n",
      "x80          745.9681    967.655      0.771      0.441   -1150.680    2642.617\n",
      "x81           -5.4207     42.636     -0.127      0.899     -88.990      78.148\n",
      "x82           13.6157     17.985      0.757      0.449     -21.636      48.868\n",
      "x83           26.1036     12.478      2.092      0.036       1.645      50.562\n",
      "x84           41.4131     67.376      0.615      0.539     -90.647     173.473\n",
      "x85           38.3166     12.787      2.997      0.003      13.254      63.379\n",
      "x86         -200.3493    133.482     -1.501      0.133    -461.980      61.281\n",
      "x87            9.6886     32.173      0.301      0.763     -53.373      72.750\n",
      "x88          -27.0885      9.317     -2.907      0.004     -45.350      -8.827\n",
      "x89          -33.4856     23.449     -1.428      0.153     -79.447      12.476\n",
      "x90          137.1790    229.499      0.598      0.550    -312.650     587.008\n",
      "x91          120.3779     18.027      6.677      0.000      85.043     155.713\n",
      "x92          -25.7900     13.793     -1.870      0.062     -52.825       1.245\n",
      "x93          -46.7605     24.252     -1.928      0.054     -94.295       0.774\n",
      "x94         -122.5200     27.372     -4.476      0.000    -176.170     -68.870\n",
      "x95          -17.5223     29.991     -0.584      0.559     -76.306      41.261\n",
      "x96            7.7226     42.008      0.184      0.854     -74.615      90.060\n",
      "x97          -55.7862     16.229     -3.438      0.001     -87.595     -23.977\n",
      "x98          104.9588     94.110      1.115      0.265     -79.500     289.418\n",
      "x99         -405.0222    105.969     -3.822      0.000    -612.726    -197.318\n",
      "x100         151.7819     59.707      2.542      0.011      34.753     268.811\n",
      "x101         -35.8452     42.448     -0.844      0.398    -119.046      47.355\n",
      "x102       -5117.6522   2057.623     -2.487      0.013   -9150.690   -1084.614\n",
      "x103        -184.4779     91.993     -2.005      0.045    -364.788      -4.168\n",
      "x104         -93.8984     22.196     -4.230      0.000    -137.403     -50.394\n",
      "x105         103.2727     15.339      6.733      0.000      73.207     133.338\n",
      "x106        -204.9640    107.091     -1.914      0.056    -414.868       4.940\n",
      "x107          -6.5688     25.429     -0.258      0.796     -56.412      43.274\n",
      "x108        -147.4848    143.443     -1.028      0.304    -428.640     133.670\n",
      "x109        -142.2733     49.199     -2.892      0.004    -238.705     -45.841\n",
      "x110          67.1951     20.561      3.268      0.001      26.895     107.495\n",
      "x111        -107.5367     28.295     -3.801      0.000    -162.997     -52.077\n",
      "x112        -136.8513    375.707     -0.364      0.716    -873.254     599.551\n",
      "x113          39.9254     53.943      0.740      0.459     -65.805     145.656\n",
      "x114          13.6942     15.824      0.865      0.387     -17.323      44.711\n",
      "x115          59.7513     61.801      0.967      0.334     -61.382     180.885\n",
      "x116          45.4484     28.227      1.610      0.107      -9.878     100.775\n",
      "x117         -93.8822     35.093     -2.675      0.007    -162.666     -25.099\n",
      "x118          97.1775     89.995      1.080      0.280     -79.216     273.571\n",
      "x119        -118.7114     23.121     -5.134      0.000    -164.030     -73.393\n",
      "x120         -68.2424    353.319     -0.193      0.847    -760.764     624.280\n",
      "x121         115.6233     62.696      1.844      0.065      -7.264     238.511\n",
      "x122        -234.4359     37.411     -6.267      0.000    -307.763    -161.109\n",
      "x123        9890.3332   1939.974      5.098      0.000    6087.894    1.37e+04\n",
      "x124         564.7813    107.586      5.250      0.000     353.908     775.654\n",
      "x125        -191.5973     43.946     -4.360      0.000    -277.733    -105.461\n",
      "x126         -58.9983     23.901     -2.468      0.014    -105.844     -12.152\n",
      "x127         309.0150     83.395      3.705      0.000     145.556     472.474\n",
      "x128        -368.8481     48.781     -7.561      0.000    -464.460    -273.236\n",
      "x129        -231.3284    417.449     -0.554      0.579   -1049.548     586.891\n",
      "x130        -105.5501     45.534     -2.318      0.020    -194.799     -16.302\n",
      "x131          93.4384     20.774      4.498      0.000      52.721     134.155\n",
      "x132        -554.8656     53.474    -10.376      0.000    -659.677    -450.055\n",
      "x133           0.2634    400.663      0.001      0.999    -785.054     785.581\n",
      "x134        -462.7723     39.910    -11.595      0.000    -540.998    -384.547\n",
      "x135        -103.1812     30.879     -3.341      0.001    -163.705     -42.657\n",
      "x136          83.9117     72.652      1.155      0.248     -58.489     226.312\n",
      "x137         187.3637     54.525      3.436      0.001      80.493     294.234\n",
      "x138        -700.6970     60.015    -11.675      0.000    -818.328    -583.066\n",
      "x139        -473.3291    104.929     -4.511      0.000    -678.995    -267.663\n",
      "x140          64.3901     28.985      2.222      0.026       7.578     121.202\n",
      "x141         131.8491    385.275      0.342      0.732    -623.308     887.006\n",
      "x142         -22.0826     23.578     -0.937      0.349     -68.297      24.132\n",
      "x143       -1229.7807   1146.657     -1.072      0.284   -3477.281    1017.720\n",
      "x144        -134.5766     71.474     -1.883      0.060    -274.669       5.516\n",
      "x145          -3.1969     42.176     -0.076      0.940     -85.865      79.471\n",
      "x146          24.6061     15.828      1.555      0.120      -6.418      55.630\n",
      "x147         -51.1760     77.718     -0.658      0.510    -203.507     101.155\n",
      "x148         163.0531     25.603      6.368      0.000     112.870     213.237\n",
      "x149        -175.7240    730.662     -0.240      0.810   -1607.856    1256.408\n",
      "x150          37.9447     21.006      1.806      0.071      -3.228      79.118\n",
      "x151         -27.4223     13.260     -2.068      0.039     -53.412      -1.433\n",
      "x152         -79.2121     36.777     -2.154      0.031    -151.297      -7.128\n",
      "x153           3.0214    311.575      0.010      0.992    -607.681     613.724\n",
      "x154          -2.8415     17.449     -0.163      0.871     -37.042      31.359\n",
      "x155          32.0095     17.440      1.835      0.066      -2.174      66.193\n",
      "x156          80.7498     38.944      2.074      0.038       4.419     157.081\n",
      "x157         190.1238     35.302      5.386      0.000     120.929     259.318\n",
      "x158         -52.3860     28.966     -1.809      0.071    -109.160       4.388\n",
      "x159         168.5932     68.831      2.449      0.014      33.680     303.506\n",
      "x160          48.2862     19.393      2.490      0.013      10.276      86.297\n",
      "x161        -170.1141    419.227     -0.406      0.685    -991.819     651.591\n",
      "x162        5.284e+04   3012.775     17.540      0.000    4.69e+04    5.87e+04\n",
      "x163       -9749.4531   4798.491     -2.032      0.042   -1.92e+04    -344.186\n",
      "x164       -5936.9755   1586.961     -3.741      0.000   -9047.493   -2826.458\n",
      "x165       -5976.1679    647.703     -9.227      0.000   -7245.696   -4706.639\n",
      "x166       -2100.5016   3723.308     -0.564      0.573   -9398.359    5197.356\n",
      "x167       -1.148e+04   1192.982     -9.626      0.000   -1.38e+04   -9145.546\n",
      "x168       -4381.3386   6.51e+04     -0.067      0.946   -1.32e+05    1.23e+05\n",
      "x169        1197.9372   1603.773      0.747      0.455   -1945.534    4341.408\n",
      "x170        1675.3961    513.337      3.264      0.001     669.231    2681.561\n",
      "x171       -2214.6045   1481.065     -1.495      0.135   -5117.561     688.352\n",
      "x172        1.069e+04   1.31e+04      0.814      0.415    -1.5e+04    3.64e+04\n",
      "x173       -6722.8620   1316.554     -5.106      0.000   -9303.369   -4142.354\n",
      "x174        -686.3450    726.741     -0.944      0.345   -2110.792     738.102\n",
      "x175        1.308e+04   1771.457      7.385      0.000    9609.310    1.66e+04\n",
      "x176       -7490.3942   1616.959     -4.632      0.000   -1.07e+04   -4321.079\n",
      "x177        8822.5678   1578.699      5.589      0.000    5728.245    1.19e+04\n",
      "x178        1.354e+04   4425.038      3.059      0.002    4864.808    2.22e+04\n",
      "x179        1710.4070    765.939      2.233      0.026     209.131    3211.683\n",
      "x180       -1.441e+04   1.07e+05     -0.135      0.893   -2.24e+05    1.95e+05\n",
      "x181        1867.4535    952.444      1.961      0.050       0.618    3734.289\n",
      "x182         -21.7038     54.715     -0.397      0.692    -128.949      85.541\n",
      "x183         -21.0756     26.215     -0.804      0.421     -72.458      30.306\n",
      "x184         -70.9488     60.671     -1.169      0.242    -189.866      47.969\n",
      "x185         -62.1611     66.488     -0.935      0.350    -192.481      68.159\n",
      "x186        -126.0608    268.215     -0.470      0.638    -651.775     399.653\n",
      "x187        -621.4667     94.808     -6.555      0.000    -807.295    -435.638\n",
      "x188          -5.3642     21.091     -0.254      0.799     -46.704      35.976\n",
      "x189        -165.6757     79.781     -2.077      0.038    -322.050      -9.301\n",
      "x190       -1115.4098    445.772     -2.502      0.012   -1989.144    -241.675\n",
      "x191         109.2204     73.837      1.479      0.139     -35.503     253.944\n",
      "x192         175.1521     54.535      3.212      0.001      68.261     282.043\n",
      "x193         -97.5520     41.565     -2.347      0.019    -179.021     -16.083\n",
      "x194         -64.4214     93.578     -0.688      0.491    -247.840     118.997\n",
      "x195        -353.1741    121.991     -2.895      0.004    -592.282    -114.066\n",
      "x196         -56.3762     28.733     -1.962      0.050    -112.695      -0.058\n",
      "x197         -87.2678     35.273     -2.474      0.013    -156.404     -18.131\n",
      "x198       -2.371e+04   5.41e+04     -0.438      0.661    -1.3e+05    8.23e+04\n",
      "x199          32.4355     31.356      1.034      0.301     -29.024      93.895\n",
      "x200         -60.6086     16.349     -3.707      0.000     -92.653     -28.564\n",
      "x201          92.8121     84.229      1.102      0.271     -72.281     257.905\n",
      "x202          96.9916     22.600      4.292      0.000      52.694     141.289\n",
      "x203        -610.9905    820.820     -0.744      0.457   -2219.835     997.854\n",
      "x204          27.1261     19.264      1.408      0.159     -10.632      64.884\n",
      "x205         -48.8149     12.187     -4.005      0.000     -72.703     -24.927\n",
      "x206          15.7478     22.292      0.706      0.480     -27.946      59.441\n",
      "x207         -35.2105    251.084     -0.140      0.888    -527.346     456.925\n",
      "x208         209.3612     24.747      8.460      0.000     160.856     257.866\n",
      "x209          27.0155     18.994      1.422      0.155     -10.214      64.245\n",
      "x210         -10.3067     29.233     -0.353      0.724     -67.605      46.992\n",
      "x211         154.0747     41.630      3.701      0.000      72.478     235.671\n",
      "x212           4.6306     24.326      0.190      0.849     -43.049      52.310\n",
      "x213          33.3185     53.685      0.621      0.535     -71.906     138.543\n",
      "x214          44.1486     20.857      2.117      0.034       3.268      85.029\n",
      "x215         -57.9085    204.534     -0.283      0.777    -458.805     342.988\n",
      "x216          57.8828      8.694      6.658      0.000      40.842      74.924\n",
      "x217         -30.6850     22.601     -1.358      0.175     -74.984      13.614\n",
      "x218          17.6761     15.285      1.156      0.248     -12.283      47.635\n",
      "x219          -0.3571    128.489     -0.003      0.998    -252.201     251.487\n",
      "x220         102.0401     20.708      4.927      0.000      61.451     142.630\n",
      "x221          -3.1067      6.078     -0.511      0.609     -15.020       8.807\n",
      "x222         101.7920     15.878      6.411      0.000      70.669     132.915\n",
      "x223          52.2345     85.515      0.611      0.541    -115.380     219.849\n",
      "x224          14.1925     13.428      1.057      0.291     -12.126      40.511\n",
      "x225          26.0299      9.287      2.803      0.005       7.826      44.234\n",
      "x226          -9.4004     18.405     -0.511      0.610     -45.476      26.675\n",
      "x227         108.4953     17.567      6.176      0.000      74.063     142.928\n",
      "x228          76.1507     21.799      3.493      0.000      33.423     118.879\n",
      "x229           7.7309     25.580      0.302      0.762     -42.407      57.869\n",
      "x230          43.9233     10.757      4.083      0.000      22.838      65.008\n",
      "x231        -149.8321     86.663     -1.729      0.084    -319.696      20.032\n",
      "x232         -92.6224     55.380     -1.672      0.094    -201.170      15.925\n",
      "x233          77.7355     74.953      1.037      0.300     -69.176     224.647\n",
      "x234         978.0897    711.449      1.375      0.169    -416.384    2372.563\n",
      "x235         284.1249    110.153      2.579      0.010      68.221     500.029\n",
      "x236         -20.8340     23.720     -0.878      0.380     -67.326      25.658\n",
      "x237         210.0888    102.934      2.041      0.041       8.333     411.845\n",
      "x238         267.3785    351.000      0.762      0.446    -420.598     955.355\n",
      "x239          -7.4433    148.606     -0.050      0.960    -298.717     283.831\n",
      "x240         244.8407     87.036      2.813      0.005      74.246     415.435\n",
      "x241         -87.5484     80.444     -1.088      0.276    -245.223      70.126\n",
      "x242         410.0135     80.585      5.088      0.000     252.062     567.965\n",
      "x243        -278.7433    104.718     -2.662      0.008    -483.995     -73.492\n",
      "x244          -3.0332     58.468     -0.052      0.959    -117.633     111.566\n",
      "x245         191.9069     36.650      5.236      0.000     120.072     263.742\n",
      "x246       -5.925e+04   2.86e+04     -2.070      0.038   -1.15e+05   -3157.526\n",
      "x247         469.5124     46.819     10.028      0.000     377.744     561.280\n",
      "x248         311.3442    233.274      1.335      0.182    -145.885     768.573\n",
      "x249          53.3578     34.784      1.534      0.125     -14.821     121.536\n",
      "x250         -76.5947     10.790     -7.099      0.000     -97.744     -55.445\n",
      "x251         -11.6559     18.074     -0.645      0.519     -47.081      23.769\n",
      "x252         -44.1544    193.476     -0.228      0.819    -423.377     335.068\n",
      "x253          15.1660     25.663      0.591      0.555     -35.134      65.466\n",
      "x254          69.3972     16.752      4.143      0.000      36.562     102.232\n",
      "x255        -175.2709     39.843     -4.399      0.000    -253.364     -97.178\n",
      "x256         389.7777     22.159     17.590      0.000     346.345     433.210\n",
      "x257         -21.0105     26.861     -0.782      0.434     -73.659      31.638\n",
      "x258          71.9736     65.702      1.095      0.273     -56.806     200.753\n",
      "x259          12.7938     19.372      0.660      0.509     -25.176      50.763\n",
      "x260         -19.5902    277.677     -0.071      0.944    -563.850     524.670\n",
      "x261        -649.3571    624.623     -1.040      0.299   -1873.647     574.933\n",
      "x262        -750.3146    585.009     -1.283      0.200   -1896.959     396.329\n",
      "x263        -494.4001    336.434     -1.470      0.142   -1153.827     165.027\n",
      "x264        -321.2692    533.115     -0.603      0.547   -1366.200     723.661\n",
      "x265       -1328.1044    799.446     -1.661      0.097   -2895.056     238.847\n",
      "x266        -696.1155    322.866     -2.156      0.031   -1328.948     -63.283\n",
      "x267         406.3613    604.595      0.672      0.502    -778.673    1591.396\n",
      "x268         742.9817    418.100      1.777      0.076     -76.513    1562.476\n",
      "x269           6.4090    354.018      0.018      0.986    -687.484     700.302\n",
      "x270         -22.6215    268.387     -0.084      0.933    -548.673     503.430\n",
      "x271         189.0008    290.058      0.652      0.515    -379.527     757.529\n",
      "x272         -37.9677    390.760     -0.097      0.923    -803.875     727.940\n",
      "x273        -1.08e+04   5648.146     -1.911      0.056   -2.19e+04     274.796\n",
      "x274          70.5679     40.819      1.729      0.084      -9.440     150.576\n",
      "x275         -93.8061     18.517     -5.066      0.000    -130.100     -57.512\n",
      "x276         -18.5979     30.293     -0.614      0.539     -77.973      40.778\n",
      "x277        -647.1991    485.861     -1.332      0.183   -1599.510     305.112\n",
      "x278         109.3587     24.317      4.497      0.000      61.695     157.022\n",
      "x279          29.2538     22.749      1.286      0.198     -15.336      73.843\n",
      "x280         -45.3092    115.768     -0.391      0.696    -272.220     181.601\n",
      "x281        -213.3944     45.456     -4.695      0.000    -302.490    -124.299\n",
      "x282         -29.9690     28.360     -1.057      0.291     -85.557      25.619\n",
      "x283         729.0791     90.894      8.021      0.000     550.922     907.236\n",
      "x284          54.5698     30.452      1.792      0.073      -5.118     114.258\n",
      "x285          41.3138    147.721      0.280      0.780    -248.227     330.854\n",
      "x286          26.4411     12.085      2.188      0.029       2.753      50.129\n",
      "x287         -72.4953     16.970     -4.272      0.000    -105.758     -39.232\n",
      "x288         -45.1171    174.964     -0.258      0.797    -388.055     297.821\n",
      "x289          96.9883     12.433      7.801      0.000      72.620     121.357\n",
      "x290         -15.8133      6.871     -2.301      0.021     -29.281      -2.346\n",
      "x291          -1.8929     11.697     -0.162      0.871     -24.820      21.034\n",
      "x292          -6.2268     16.570     -0.376      0.707     -38.705      26.251\n",
      "x293           3.9319     18.630      0.211      0.833     -32.584      40.448\n",
      "x294         -10.2381     20.707     -0.494      0.621     -50.825      30.349\n",
      "x295         -28.5630      7.925     -3.604      0.000     -44.096     -13.030\n",
      "x296           7.5815    180.205      0.042      0.966    -345.629     360.792\n",
      "x297        1808.6853     59.000     30.656      0.000    1693.043    1924.328\n",
      "x298        -853.8807    511.667     -1.669      0.095   -1856.773     149.011\n",
      "x299         143.0481     25.940      5.515      0.000      92.204     193.892\n",
      "x300         -15.9004     19.154     -0.830      0.406     -53.442      21.642\n",
      "x301         -75.4889     51.292     -1.472      0.141    -176.024      25.046\n",
      "x302        -487.1680     40.311    -12.085      0.000    -566.180    -408.156\n",
      "x303        -286.4822     43.854     -6.533      0.000    -372.438    -200.527\n",
      "x304          82.2681     78.511      1.048      0.295     -71.617     236.153\n",
      "x305        -142.5316     24.887     -5.727      0.000    -191.311     -93.752\n",
      "x306        -125.0586    198.116     -0.631      0.528    -513.375     263.258\n",
      "x307         -92.4435    248.860     -0.371      0.710    -580.220     395.333\n",
      "x308         307.4227    264.983      1.160      0.246    -211.956     826.801\n",
      "x309        -121.2176    251.619     -0.482      0.630    -614.402     371.967\n",
      "x310        -300.1371    264.157     -1.136      0.256    -817.896     217.622\n",
      "x311        -433.4387    466.057     -0.930      0.352   -1346.933     480.055\n",
      "x312        -129.8899    444.884     -0.292      0.770   -1001.883     742.103\n",
      "x313        1252.3567    457.977      2.735      0.006     354.701    2150.013\n",
      "x314         -21.8000    154.022     -0.142      0.887    -323.691     280.091\n",
      "x315        4.266e+04    5.9e+04      0.723      0.470    -7.3e+04    1.58e+05\n",
      "x316        2786.7722     85.485     32.599      0.000    2619.217    2954.327\n",
      "x317        -126.6122     24.037     -5.267      0.000    -173.725     -79.499\n",
      "x318        -157.6754     68.368     -2.306      0.021    -291.680     -23.670\n",
      "x319         -54.7029     27.703     -1.975      0.048    -109.002      -0.403\n",
      "x320         202.8578     25.974      7.810      0.000     151.948     253.768\n",
      "x321         -92.2406     75.277     -1.225      0.220    -239.787      55.306\n",
      "x322         -28.1470     18.522     -1.520      0.129     -64.451       8.157\n",
      "x323         814.1076   1441.624      0.565      0.572   -2011.544    3639.759\n",
      "x324        -236.3884     57.324     -4.124      0.000    -348.745    -124.032\n",
      "x325          -8.4017     20.199     -0.416      0.677     -47.992      31.189\n",
      "x326          72.9101     23.072      3.160      0.002      27.688     118.132\n",
      "x327         -13.0380     22.556     -0.578      0.563     -57.249      31.173\n",
      "x328        -122.6441     53.111     -2.309      0.021    -226.744     -18.544\n",
      "x329          -6.3131     11.743     -0.538      0.591     -29.330      16.704\n",
      "x330        -114.3904    152.744     -0.749      0.454    -413.776     184.996\n",
      "x331          48.2379     35.345      1.365      0.172     -21.039     117.515\n",
      "x332        -115.4426     61.663     -1.872      0.061    -236.305       5.420\n",
      "x333        -148.6326     87.234     -1.704      0.088    -319.615      22.350\n",
      "x334         164.9008     41.178      4.005      0.000      84.190     245.611\n",
      "x335          31.6605     20.204      1.567      0.117      -7.941      71.262\n",
      "x336        -1.05e+05    1.1e+05     -0.956      0.339    -3.2e+05     1.1e+05\n",
      "x337        -520.4571     28.262    -18.415      0.000    -575.852    -465.062\n",
      "x338        -170.1739     49.355     -3.448      0.001    -266.912     -73.436\n",
      "x339          -2.5031     92.679     -0.027      0.978    -184.159     179.153\n",
      "x340          52.5035     29.602      1.774      0.076      -5.517     110.524\n",
      "x341        3185.4598   4493.886      0.709      0.478   -5622.767     1.2e+04\n",
      "x342        1413.4972     48.685     29.034      0.000    1318.073    1508.922\n",
      "x343         319.4411    120.237      2.657      0.008      83.771     555.111\n",
      "x344          43.6557     29.691      1.470      0.141     -14.539     101.851\n",
      "x345          19.7685    792.257      0.025      0.980   -1533.092    1572.629\n",
      "x346       -1966.0646    686.264     -2.865      0.004   -3311.174    -620.955\n",
      "x347         111.4562     34.557      3.225      0.001      43.723     179.190\n",
      "x348        2.352e+04   5.44e+04      0.433      0.665    -8.3e+04     1.3e+05\n",
      "x349         277.1208     18.147     15.271      0.000     241.552     312.689\n",
      "x350        3.577e+04   1.69e+04      2.111      0.035    2553.698     6.9e+04\n",
      "x351        3.577e+04   1.69e+04      2.111      0.035    2553.698     6.9e+04\n",
      "==============================================================================\n",
      "Omnibus:                    10814.012   Durbin-Watson:                   2.009\n",
      "Prob(Omnibus):                  0.000   Jarque-Bera (JB):          1540166.340\n",
      "Skew:                           0.739   Prob(JB):                         0.00\n",
      "Kurtosis:                      38.687   Cond. No.                     1.03e+16\n",
      "==============================================================================\n",
      "\n",
      "Notes:\n",
      "[1] Standard Errors assume that the covariance matrix of the errors is correctly specified.\n",
      "[2] The smallest eigenvalue is 1.1e-26. This might indicate that there are\n",
      "strong multicollinearity problems or that the design matrix is singular.\n"
     ]
    }
   ],
   "source": [
    "X = df2.drop([\"target\"], axis=1)\n",
    "y = df2[[\"target\"]]\n",
    "train_X, test_X, train_y, test_y = train_test_split(X, y, test_size=0.33, random_state=42)\n",
    "poly = PolynomialFeatures(degree=2)\n",
    "X_train_poly = poly.fit_transform(train_X)\n",
    "scaler = MinMaxScaler()\n",
    "X_train_poly_scaler = scaler.fit_transform(X_train_poly)\n",
    "X = X_train_poly_scaler\n",
    "y = train_y\n",
    "\n",
    "\n",
    "X2 = sm.add_constant(X)\n",
    "est = sm.OLS(y, X2)\n",
    "est2 = est.fit()\n",
    "print(est2.summary())"
   ]
  },
  {
   "cell_type": "code",
   "execution_count": null,
   "id": "e3fcd565",
   "metadata": {},
   "outputs": [],
   "source": []
  }
 ],
 "metadata": {
  "kernelspec": {
   "display_name": "Python 3 (ipykernel)",
   "language": "python",
   "name": "python3"
  },
  "language_info": {
   "codemirror_mode": {
    "name": "ipython",
    "version": 3
   },
   "file_extension": ".py",
   "mimetype": "text/x-python",
   "name": "python",
   "nbconvert_exporter": "python",
   "pygments_lexer": "ipython3",
   "version": "3.9.13"
  }
 },
 "nbformat": 4,
 "nbformat_minor": 5
}
